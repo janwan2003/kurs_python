{
 "cells": [
  {
   "cell_type": "code",
   "execution_count": 3,
   "metadata": {},
   "outputs": [
    {
     "name": "stdout",
     "output_type": "stream",
     "text": [
      "['styczeń poniedziałek rano', 'styczeń wtorek wieczorem', 'styczeń piątek rano', 'luty poniedziałek rano', 'luty wtorek rano', 'luty piątek rano']\n"
     ]
    }
   ],
   "source": [
    "def generate_strings(months, days, times):\n",
    "    day_mapping = {\n",
    "        'pn': 'poniedziałek',\n",
    "        'wt': 'wtorek',\n",
    "        'śr': 'środa',\n",
    "        'cz': 'czwartek',\n",
    "        'pt': 'piątek',\n",
    "        'sb': 'sobota',\n",
    "        'nd': 'niedziela'\n",
    "    }\n",
    "    \n",
    "    time_mapping = {\n",
    "        'r': 'rano',\n",
    "        'w': 'wieczorem'\n",
    "    }\n",
    "\n",
    "    expanded_days = []\n",
    "    for day_range in days:\n",
    "        split_range = day_range.split('-')\n",
    "        start = list(day_mapping.keys()).index(split_range[0])\n",
    "        end = list(day_mapping.keys()).index(split_range[-1])\n",
    "        expanded_days.extend(list(day_mapping.keys())[start:end+1])\n",
    "\n",
    "    if len(times) < len(expanded_days) * len(months):\n",
    "        times += ['r'] * (len(expanded_days) * len(months) - len(times))\n",
    "    \n",
    "    result = []\n",
    "    counter = 0\n",
    "    for month in months:\n",
    "        for day in expanded_days:\n",
    "            result.append(f'{month} {day_mapping[day]} {time_mapping[times[counter]]}')\n",
    "            counter += 1\n",
    "\n",
    "    return result\n",
    "\n",
    "months = ['styczeń', 'luty']\n",
    "days = ['pn-wt', 'pt']\n",
    "times = ['r', 'w']\n",
    "print(generate_strings(months, days, times))\n"
   ]
  },
  {
   "cell_type": "code",
   "execution_count": 6,
   "metadata": {},
   "outputs": [],
   "source": [
    "import argparse\n",
    "import sys\n",
    "\n",
    "def copy_lines(source_file, target_file):\n",
    "    with open(source_file, 'r') as src, open(target_file, 'w') as tgt:\n",
    "        tgt.writelines(src.readlines())\n",
    "\n",
    "if __name__ == \"__main__\":\n",
    "    # Simulate the command-line arguments\n",
    "    sys.argv = ['script_name', 'source.txt', 'target.txt']  # Replace 'source.txt' and 'target.txt' with actual file paths\n",
    "    \n",
    "    parser = argparse.ArgumentParser(description='Copy lines from one file to another.')\n",
    "    parser.add_argument('source_file', type=str, help='Source file path')\n",
    "    parser.add_argument('target_file', type=str, help='Target file path')\n",
    "    args = parser.parse_args()\n",
    "    copy_lines(args.source_file, args.target_file)\n"
   ]
  },
  {
   "cell_type": "code",
   "execution_count": null,
   "metadata": {},
   "outputs": [],
   "source": [
    "import os\n",
    "import csv\n",
    "import random\n",
    "\n",
    "months = ['January', 'February', 'March', 'April', 'May', 'June', 'July', 'August', 'September', 'October', 'November', 'December']\n",
    "days = ['Monday', 'Tuesday', 'Wednesday', 'Thursday', 'Friday', 'Saturday', 'Sunday']\n",
    "times = ['morning', 'evening']\n",
    "\n",
    "def create_folders_and_files():\n",
    "    for month in months:\n",
    "        for day in days:\n",
    "            for time in times:\n",
    "                folder_path = os.path.join(month, day, time)\n",
    "                os.makedirs(folder_path, exist_ok=True)\n",
    "                file_path = os.path.join(folder_path, 'Solutions.csv')\n",
    "                with open(file_path, 'w', newline='') as csvfile:\n",
    "                    writer = csv.writer(csvfile)\n",
    "                    writer.writerow([\"Model\", \"Output value\", \"Time of computation\"])\n",
    "                    writer.writerow([random.choice(['A', 'B', 'C']), random.randint(0,1000), f\"{random.randint(0,1000)}s\"])\n",
    "\n",
    "create_folders_and_files()"
   ]
  }
 ],
 "metadata": {
  "kernelspec": {
   "display_name": "kurs-python-5MTEvg7X-py3.10",
   "language": "python",
   "name": "python3"
  },
  "language_info": {
   "codemirror_mode": {
    "name": "ipython",
    "version": 3
   },
   "file_extension": ".py",
   "mimetype": "text/x-python",
   "name": "python",
   "nbconvert_exporter": "python",
   "pygments_lexer": "ipython3",
   "version": "3.10.12"
  }
 },
 "nbformat": 4,
 "nbformat_minor": 2
}
