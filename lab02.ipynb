{
 "cells": [
  {
   "cell_type": "code",
   "execution_count": 22,
   "metadata": {},
   "outputs": [
    {
     "name": "stdout",
     "output_type": "stream",
     "text": [
      "[87, 68, 78, 67, 42, 13, 70, 53, 91, 53, 16, 98, 77, 38, 46, 2, 90, 2, 61, 44, 31, 49, 36, 91, 3, 90, 45, 93, 48, 72, 17, 17, 14, 97, 65, 74, 98, 53, 55, 47, 4, 42, 67, 2, 66, 73, 73, 14, 22, 31, 85, 80, 89, 72, 30, 56, 36, 49, 26, 18, 26, 31, 95, 57, 50, 46, 57, 85, 18, 59, 58, 33, 44, 19, 55, 3, 19, 47, 50, 5, 40, 61, 95, 47, 61, 74, 68, 83, 0, 87, 40, 59, 38, 79, 51, 10, 35, 62, 44, 2]\n"
     ]
    }
   ],
   "source": [
    "# First task\n",
    "lista = []\n",
    "for a in range(100):\n",
    "    lista.append(int(random.random() * 100))\n",
    "\n",
    "print(lista[::-1])"
   ]
  },
  {
   "cell_type": "code",
   "execution_count": 34,
   "metadata": {},
   "outputs": [
    {
     "name": "stdout",
     "output_type": "stream",
     "text": [
      "spoko\n",
      "gorąco\n"
     ]
    }
   ],
   "source": [
    "# Task 2\n",
    "\n",
    "def oceń(a):\n",
    "    if a < 0:\n",
    "        return \"mroźno\"\n",
    "    elif a >= 0 and a < 10:\n",
    "        return \"chłodno\"\n",
    "    elif a >= 10 and a < 20:\n",
    "        return \"spoko\"\n",
    "    else: \n",
    "        return \"gorąco\"\n",
    "\n",
    "# Static test\n",
    "a = oceń(12)\n",
    "print(a) \n",
    "\n",
    "# Taking a temperature input from the user and converting it to an integer\n",
    "try:\n",
    "    temperature = int(input(\"Please enter the temperature: \"))\n",
    "    print(oceń(temperature))\n",
    "except ValueError:\n",
    "    print(\"Please enter a valid number.\")"
   ]
  }
 ],
 "metadata": {
  "kernelspec": {
   "display_name": "kurs-python-5MTEvg7X-py3.10",
   "language": "python",
   "name": "python3"
  },
  "language_info": {
   "codemirror_mode": {
    "name": "ipython",
    "version": 3
   },
   "file_extension": ".py",
   "mimetype": "text/x-python",
   "name": "python",
   "nbconvert_exporter": "python",
   "pygments_lexer": "ipython3",
   "version": "3.10.12"
  }
 },
 "nbformat": 4,
 "nbformat_minor": 2
}
