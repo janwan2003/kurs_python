{
 "cells": [
  {
   "cell_type": "code",
   "execution_count": 22,
   "metadata": {},
   "outputs": [
    {
     "name": "stdout",
     "output_type": "stream",
     "text": [
      "[87, 68, 78, 67, 42, 13, 70, 53, 91, 53, 16, 98, 77, 38, 46, 2, 90, 2, 61, 44, 31, 49, 36, 91, 3, 90, 45, 93, 48, 72, 17, 17, 14, 97, 65, 74, 98, 53, 55, 47, 4, 42, 67, 2, 66, 73, 73, 14, 22, 31, 85, 80, 89, 72, 30, 56, 36, 49, 26, 18, 26, 31, 95, 57, 50, 46, 57, 85, 18, 59, 58, 33, 44, 19, 55, 3, 19, 47, 50, 5, 40, 61, 95, 47, 61, 74, 68, 83, 0, 87, 40, 59, 38, 79, 51, 10, 35, 62, 44, 2]\n"
     ]
    }
   ],
   "source": [
    "lista = []\n",
    "for a in range(100):\n",
    "    lista.append(int(random.random() * 100))\n",
    "\n",
    "print(lista[::-1])"
   ]
  }
 ],
 "metadata": {
  "kernelspec": {
   "display_name": "kurs-python-5MTEvg7X-py3.10",
   "language": "python",
   "name": "python3"
  },
  "language_info": {
   "codemirror_mode": {
    "name": "ipython",
    "version": 3
   },
   "file_extension": ".py",
   "mimetype": "text/x-python",
   "name": "python",
   "nbconvert_exporter": "python",
   "pygments_lexer": "ipython3",
   "version": "3.10.12"
  }
 },
 "nbformat": 4,
 "nbformat_minor": 2
}
