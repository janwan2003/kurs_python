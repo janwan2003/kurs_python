{
 "cells": [
  {
   "cell_type": "markdown",
   "metadata": {},
   "source": [
    "### Kilka uwag do zadania"
   ]
  },
  {
   "cell_type": "markdown",
   "metadata": {},
   "source": [
    "Wskazówka 1 - sortowanie"
   ]
  },
  {
   "cell_type": "code",
   "execution_count": 1,
   "metadata": {},
   "outputs": [
    {
     "data": {
      "text/plain": [
       "[1, 2, 3, 5, 7]"
      ]
     },
     "execution_count": 1,
     "metadata": {},
     "output_type": "execute_result"
    }
   ],
   "source": [
    "l = [2,3,7,5,1]\n",
    "sorted(l)"
   ]
  },
  {
   "cell_type": "markdown",
   "metadata": {},
   "source": [
    "Wskazówka 2 - wczytywanie"
   ]
  },
  {
   "cell_type": "code",
   "execution_count": 2,
   "metadata": {},
   "outputs": [
    {
     "name": "stdout",
     "output_type": "stream",
     "text": [
      "Podaj napis: Ala\n",
      "Twój napis to `Ala`\n"
     ]
    }
   ],
   "source": [
    "x = input(\"Podaj napis: \")\n",
    "print(\"Twój napis to `\" + x + \"`\")"
   ]
  },
  {
   "cell_type": "markdown",
   "metadata": {},
   "source": [
    "# Zadanie domowe:\n",
    "Zadanie: Śledzenie Spędzonego Czasu\n",
    "\n",
    "Stwórz program, który pozwala śledzić czas spędzony na różnych aktywnościach. Użyj słownika do przechowywania danych o aktywnościach oraz listy do śledzenia czasu spędzonego na każdej z nich. Program powinien mieć trzy główne funkcje:\n",
    "* Dodaj Aktywność: Użytkownik może dodać nową aktywność do śledzenia. Jeśli aktywność już istnieje, program powinien tylko zaktualizować ją o nowy czas. Struktura danych może wyglądać tak:\n",
    "    {\n",
    "    'Aktywność 1': [czas1, czas2, czas3, ...],\n",
    "    'Aktywność 2': [czas1, czas2, czas3, ...],\n",
    "    ...\n",
    "}\n",
    "* Pokaż Czas: Użytkownik może wybrać aktywność i zobaczyć, ile łącznie czasu spędził na niej.\n",
    "* Pokaż Top Aktywności: Program powinien pokazać top 3 aktywności, na których użytkownik spędził najwięcej czasu."
   ]
  },
  {
   "cell_type": "code",
   "execution_count": 1,
   "metadata": {},
   "outputs": [
    {
     "name": "stdout",
     "output_type": "stream",
     "text": [
      "\n",
      "1: Dodaj Aktywność\n",
      "2: Pokaż Czas\n",
      "3: Pokaż Top Aktywności\n",
      "4: Wyjdź\n",
      "Nieznana opcja, spróbuj ponownie.\n",
      "\n",
      "1: Dodaj Aktywność\n",
      "2: Pokaż Czas\n",
      "3: Pokaż Top Aktywności\n",
      "4: Wyjdź\n",
      "Dodano 1 minut do aktywności 'Picie piwa'.\n",
      "\n",
      "1: Dodaj Aktywność\n",
      "2: Pokaż Czas\n",
      "3: Pokaż Top Aktywności\n",
      "4: Wyjdź\n",
      "Spędzono łącznie 1 minut na aktywności 'Picie piwa'.\n",
      "\n",
      "1: Dodaj Aktywność\n",
      "2: Pokaż Czas\n",
      "3: Pokaż Top Aktywności\n",
      "4: Wyjdź\n",
      "Top 3 aktywności:\n",
      "1. Picie piwa: 1 minut\n",
      "\n",
      "1: Dodaj Aktywność\n",
      "2: Pokaż Czas\n",
      "3: Pokaż Top Aktywności\n",
      "4: Wyjdź\n",
      "Top 3 aktywności:\n",
      "1. Picie piwa: 1 minut\n",
      "\n",
      "1: Dodaj Aktywność\n",
      "2: Pokaż Czas\n",
      "3: Pokaż Top Aktywności\n",
      "4: Wyjdź\n",
      "Nieznana opcja, spróbuj ponownie.\n",
      "\n",
      "1: Dodaj Aktywność\n",
      "2: Pokaż Czas\n",
      "3: Pokaż Top Aktywności\n",
      "4: Wyjdź\n",
      "Nieznana opcja, spróbuj ponownie.\n",
      "\n",
      "1: Dodaj Aktywność\n",
      "2: Pokaż Czas\n",
      "3: Pokaż Top Aktywności\n",
      "4: Wyjdź\n"
     ]
    }
   ],
   "source": [
    "class TrackerCzasu:\n",
    "    def __init__(self):\n",
    "        self.aktualnosci = {}\n",
    "\n",
    "    def dodaj_aktywnosc(self, nazwa, czas):\n",
    "        if nazwa in self.aktualnosci:\n",
    "            self.aktualnosci[nazwa].append(czas)\n",
    "        else:\n",
    "            self.aktualnosci[nazwa] = [czas]\n",
    "        print(f\"Dodano {czas} minut do aktywności '{nazwa}'.\")\n",
    "\n",
    "    def pokaz_czas(self, nazwa):\n",
    "        if nazwa in self.aktualnosci:\n",
    "            total_czas = sum(self.aktualnosci[nazwa])\n",
    "            print(f\"Spędzono łącznie {total_czas} minut na aktywności '{nazwa}'.\")\n",
    "        else:\n",
    "            print(f\"Aktywność '{nazwa}' nie istnieje.\")\n",
    "\n",
    "    def pokaz_top_aktywnosci(self):\n",
    "        posortowane_aktualnosci = sorted(self.aktualnosci.items(), key=lambda x: sum(x[1]), reverse=True)\n",
    "        top_3 = posortowane_aktualnosci[:3]\n",
    "        \n",
    "        print(\"Top 3 aktywności:\")\n",
    "        for i, (nazwa, czasy) in enumerate(top_3, start=1):\n",
    "            total_czas = sum(czasy)\n",
    "            print(f\"{i}. {nazwa}: {total_czas} minut\")\n",
    "\n",
    "# Testowanie\n",
    "tracker = TrackerCzasu()\n",
    "\n",
    "while True:\n",
    "    print(\"\\n1: Dodaj Aktywność\")\n",
    "    print(\"2: Pokaż Czas\")\n",
    "    print(\"3: Pokaż Top Aktywności\")\n",
    "    print(\"4: Wyjdź\")\n",
    "\n",
    "    wybor = input(\"Wybierz opcję: \")\n",
    "\n",
    "    if wybor == \"1\":\n",
    "        nazwa = input(\"Podaj nazwę aktywności: \")\n",
    "        czas = int(input(\"Podaj spędzony czas w minutach: \"))\n",
    "        tracker.dodaj_aktywnosc(nazwa, czas)\n",
    "    elif wybor == \"2\":\n",
    "        nazwa = input(\"Podaj nazwę aktywności: \")\n",
    "        tracker.pokaz_czas(nazwa)\n",
    "    elif wybor == \"3\":\n",
    "        tracker.pokaz_top_aktywnosci()\n",
    "    elif wybor == \"4\":\n",
    "        break\n",
    "    else:\n",
    "        print(\"Nieznana opcja, spróbuj ponownie.\")\n"
   ]
  }
 ],
 "metadata": {
  "kernelspec": {
   "display_name": "Python 3 (ipykernel)",
   "language": "python",
   "name": "python3"
  },
  "language_info": {
   "codemirror_mode": {
    "name": "ipython",
    "version": 3
   },
   "file_extension": ".py",
   "mimetype": "text/x-python",
   "name": "python",
   "nbconvert_exporter": "python",
   "pygments_lexer": "ipython3",
   "version": "3.10.12"
  }
 },
 "nbformat": 4,
 "nbformat_minor": 2
}
