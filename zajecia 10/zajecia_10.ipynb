{
 "cells": [
  {
   "cell_type": "markdown",
   "metadata": {},
   "source": [
    "## Środowisko wirtualne\n",
    "\n",
    "Środowisko wirtualne (virtual environment) w Pythonie to narzędzie, które umożliwia tworzenie izolowanych przestrzeni dla projektów Pythonowych. Każde środowisko wirtualne ma własne miejsce do przechowywania interpretera języka Python oraz zestawu bibliotek. Dzięki temu można mieć różne wersje bibliotek dla różnych projektów, co zapobiega konfliktom między zależnościami.\n",
    "\n",
    "Oto główne cechy i korzyści środowiska wirtualnego:\n",
    "\n",
    "Izolacja zależności: Każdy projekt może mieć własne, niezależne od innych, zależności, co jest szczególnie przydatne, gdy różne projekty wymagają różnych wersji tej samej biblioteki.\n",
    "\n",
    "Ułatwienie współpracy: Środowiska wirtualne umożliwiają tworzenie plików requirements.txt, które zawierają listę wszystkich bibliotek potrzebnych do danego projektu. Dzięki temu inni programiści mogą łatwo zainstalować te same zależności i pracować nad tym samym kodem.\n",
    "\n",
    "Prostota zarządzania: Używając narzędzi takich jak `venv` (wbudowanego w Pythona od wersji 3.3) lub `virtualenv` (narzędzie zewnętrzne), można łatwo tworzyć i zarządzać wieloma środowiskami wirtualnymi.\n",
    "\n",
    "Ochrona systemu: Ponieważ środowiska wirtualne są odizolowane od głównego systemu, instalacja i testowanie różnych pakietów nie wpływa na resztę systemu.\n",
    "\n",
    "Elastyczność: Środowiska wirtualne pozwalają na eksperymentowanie z różnymi konfiguracjami i wersjami pakietów, co jest przydatne w procesie nauki, eksperymentowania lub rozwiązywania specyficznych problemów projektowych.\n",
    "\n",
    "Aby utworzyć środowisko wirtualne w Pythonie, można użyć polecenia `python -m venv nazwa_srodowiska`, a następnie aktywować je za pomocą `source nazwa_srodowiska/bin/activate` na systemach Unixowych lub `nazwa_srodowiska\\Scripts\\activate` na Windows. Po aktywacji środowiska można instalować pakiety za pomocą `pip`, które będą dostępne tylko w tym środowisku."
   ]
  },
  {
   "cell_type": "code",
   "execution_count": null,
   "metadata": {},
   "outputs": [],
   "source": [
    "# WINDOWS (cmd)\n",
    "pip install --user virtualenv\n",
    "cd katalog\n",
    "python -m venv myenv\n",
    "cd nazwa_srodowiska\n",
    "cd Scripts\n",
    "activate (będzie nazwa środowiska, można instalowac pakiety, usuwać itd)\n",
    "deactivate\n",
    "Jak chcemy usunąć to usuwamy katalog myenv\n",
    "rmdir /s katalog"
   ]
  },
  {
   "cell_type": "code",
   "execution_count": 1,
   "metadata": {},
   "outputs": [],
   "source": [
    "# Linux"
   ]
  },
  {
   "cell_type": "code",
   "execution_count": 1,
   "metadata": {
    "vscode": {
     "languageId": "powershell"
    }
   },
   "outputs": [
    {
     "ename": "SyntaxError",
     "evalue": "invalid syntax (<ipython-input-1-23995769344c>, line 2)",
     "output_type": "error",
     "traceback": [
      "\u001b[0;36m  File \u001b[0;32m\"<ipython-input-1-23995769344c>\"\u001b[0;36m, line \u001b[0;32m2\u001b[0m\n\u001b[0;31m    python -m venv myenv #tworzenie środowiska wirtualnego\u001b[0m\n\u001b[0m                 ^\u001b[0m\n\u001b[0;31mSyntaxError\u001b[0m\u001b[0;31m:\u001b[0m invalid syntax\n"
     ]
    }
   ],
   "source": [
    "python -m venv myenv #tworzenie środowiska wirtualnego\n",
    "source myenv/bin/activate #aktywacja środowiska wirtualnego\n",
    "pip install -r requirements.txt #instalacja wymaganych pakietów\n",
    "#deaktywacja środowiska wirtualnego\n",
    "deactivate\n",
    "#usunięcie środowiska wirtualnego\n",
    "rm -rf myenv"
   ]
  },
  {
   "cell_type": "markdown",
   "metadata": {},
   "source": [
    "## flake8\n",
    "\n",
    "flake8 - narzędzie do sprawdzania jakości kodu Pythona\n",
    "\n",
    "flake8 to narzędzie do sprawdzania jakości kodu Pythona. Sprawdza ono kod pod kątem zgodności z wybranym zestawem reguł, takich jak PEP 8, a także wykrywa błędy logiczne, takie jak nieużywane zmienne czy nieużywane importy. Narzędzie to jest szczególnie przydatne w dużych projektach, w których trudno jest ręcznie sprawdzać kod pod kątem zgodności z wybranymi regułami. Flake8 można zainstalować za pomocą `pip install flake8`. Aby uruchomić flake8, należy przejść do katalogu z kodem i wykonać polecenie `flake8 .`, gdzie `.` oznacza bieżący katalog. Po uruchomieniu flake8 wyświetli on listę ostrzeżeń i błędów, które znalazł w kodzie. Plik `.flake8` zawiera konfigurację flake8. Można w nim określić, które reguły mają być sprawdzane, a które nie. Można również określić, które reguły mają być uznawane za błędy, a które za ostrzeżenia. Więcej informacji na temat konfiguracji flake8 można znaleźć w dokumentacji na stronie https://flake8.pycqa.org/en/latest/user/configuration.html.\n",
    "\n",
    "Inne narzędzia do sprawdzania jakości kodu Pythona to:\n",
    " - pylint - narzędzie do sprawdzania jakości kodu Pythona\n",
    " - black - narzędzie do formatowania kodu Pythona.\n",
    "\n",
    "Z powodu istnienia IDE (jak np. pycharm) postanowiłem jedynie wspomnieć o nich w tym scenariuszu.\n",
    "Więcej informacji na temat tych narzędzi można znaleźć w dokumentacji na stronie https://www.pylint.org/ i https://black.readthedocs.io/en/stable/. Oraz w artykułach:\n",
    "https://medium.com/@huzaifazahoor654/improving-code-quality-with-flake8-and-black-a-guide-for-python-developers-c374168d5884 i https://pythonspeed.com/articles/pylint-flake8-ruff/\n",
    "\n",
    "Nie zamierzam w tym scenariuszu omawiać tych narzędzi, ponieważ nie są one niezbędne do pracy z Pythonem, a ich omówienie prowadziłoby do dyskusji na temat tego, które narzędzia są lepsze, a które gorsze. Warto jednak wiedzieć, że istnieją takie narzędzia i że można z nich korzystać. Zalecam zapoznanie się z nimi w wolnym czasie i wybrania najlepszego."
   ]
  },
  {
   "cell_type": "markdown",
   "metadata": {},
   "source": [
    "## pydantic\n",
    "\n",
    "Biblioteka pydantic w języku Python służy do obsługi i walidacji danych przy użyciu modeli danych opartych na standardowych typach"
   ]
  },
  {
   "cell_type": "code",
   "execution_count": 1,
   "metadata": {
    "ExecuteTime": {
     "end_time": "2023-12-11T12:15:43.749625700Z",
     "start_time": "2023-12-11T12:15:37.980422600Z"
    }
   },
   "outputs": [
    {
     "name": "stdout",
     "output_type": "stream",
     "text": [
      "Requirement already satisfied: pydantic in d:\\pycharmprojects\\zaj10\\venv\\lib\\site-packages (2.5.2)\n",
      "Requirement already satisfied: annotated-types>=0.4.0 in d:\\pycharmprojects\\zaj10\\venv\\lib\\site-packages (from pydantic) (0.6.0)\n",
      "Requirement already satisfied: typing-extensions>=4.6.1 in d:\\pycharmprojects\\zaj10\\venv\\lib\\site-packages (from pydantic) (4.9.0)\n",
      "Requirement already satisfied: pydantic-core==2.14.5 in d:\\pycharmprojects\\zaj10\\venv\\lib\\site-packages (from pydantic) (2.14.5)\n"
     ]
    },
    {
     "name": "stderr",
     "output_type": "stream",
     "text": [
      "\n",
      "[notice] A new release of pip available: 22.3.1 -> 23.3.1\n",
      "[notice] To update, run: python.exe -m pip install --upgrade pip\n"
     ]
    }
   ],
   "source": [
    "# install pydantic\n",
    "!pip install pydantic\n",
    "# pip install pydantic==1.10.8 "
   ]
  },
  {
   "cell_type": "markdown",
   "metadata": {},
   "source": [
    "Model to klasa dziedzicząca po klasie `BaseModel` z biblioteki pydantic"
   ]
  },
  {
   "cell_type": "code",
   "execution_count": 1,
   "metadata": {
    "ExecuteTime": {
     "end_time": "2023-12-11T12:16:11.470669200Z",
     "start_time": "2023-12-11T12:16:11.135846400Z"
    }
   },
   "outputs": [],
   "source": [
    "from pydantic import BaseModel\n",
    "\n",
    "class User(BaseModel):\n",
    "    id: int\n",
    "    name: str\n",
    "    age: int\n",
    "    is_active: bool\n",
    "\n",
    "user = User(id=123, name=\"Jan Kowalski\", age=30, is_active=True)"
   ]
  },
  {
   "cell_type": "code",
   "execution_count": 2,
   "metadata": {},
   "outputs": [
    {
     "data": {
      "text/plain": [
       "User(id=123, name='Jan Kowalski', age=30, is_active=True)"
      ]
     },
     "execution_count": 2,
     "metadata": {},
     "output_type": "execute_result"
    }
   ],
   "source": [
    "user"
   ]
  },
  {
   "cell_type": "code",
   "execution_count": 58,
   "metadata": {},
   "outputs": [
    {
     "data": {
      "text/plain": [
       "123"
      ]
     },
     "execution_count": 58,
     "metadata": {},
     "output_type": "execute_result"
    }
   ],
   "source": [
    "user.id"
   ]
  },
  {
   "cell_type": "code",
   "execution_count": 59,
   "metadata": {},
   "outputs": [
    {
     "data": {
      "text/plain": [
       "'Jan Kowalski'"
      ]
     },
     "execution_count": 59,
     "metadata": {},
     "output_type": "execute_result"
    }
   ],
   "source": [
    "user.name"
   ]
  },
  {
   "cell_type": "code",
   "execution_count": 60,
   "metadata": {},
   "outputs": [
    {
     "data": {
      "text/plain": [
       "\"User(id=123, name='Jan Kowalski', age=30, is_active=True)\""
      ]
     },
     "execution_count": 60,
     "metadata": {},
     "output_type": "execute_result"
    }
   ],
   "source": [
    "repr(user)"
   ]
  },
  {
   "cell_type": "code",
   "execution_count": 61,
   "metadata": {},
   "outputs": [
    {
     "data": {
      "text/plain": [
       "\"id=123 name='Jan Kowalski' age=30 is_active=True\""
      ]
     },
     "execution_count": 61,
     "metadata": {},
     "output_type": "execute_result"
    }
   ],
   "source": [
    "str(user)"
   ]
  },
  {
   "cell_type": "markdown",
   "metadata": {},
   "source": [
    "Przykład walidacji danych przy użyciu modelu:"
   ]
  },
  {
   "cell_type": "code",
   "execution_count": 3,
   "metadata": {},
   "outputs": [
    {
     "name": "stderr",
     "output_type": "stream",
     "text": [
      "/tmp/ipykernel_14684/3692964866.py:10: PydanticDeprecatedSince20: Pydantic V1 style `@validator` validators are deprecated. You should migrate to Pydantic V2 style `@field_validator` validators, see the migration guide for more details. Deprecated in Pydantic V2.0 to be removed in V3.0. See Pydantic V2 Migration Guide at https://errors.pydantic.dev/2.5/migration/\n",
      "  @validator('age')\n"
     ]
    }
   ],
   "source": [
    "# # pip install pydantic==1.10.8\n",
    "from pydantic import validator\n",
    "\n",
    "class User(BaseModel):\n",
    "    id: int\n",
    "    name: str\n",
    "    age: int\n",
    "    is_active: bool = True\n",
    "    \n",
    "    @validator('age')\n",
    "    def age_must_be_positive(cls, value):\n",
    "        if value < 0:\n",
    "            raise ValueError('age must be positive')\n",
    "        return value"
   ]
  },
  {
   "cell_type": "code",
   "execution_count": 63,
   "metadata": {
    "ExecuteTime": {
     "end_time": "2023-12-11T12:20:27.039142900Z",
     "start_time": "2023-12-11T12:20:26.987261400Z"
    }
   },
   "outputs": [],
   "source": [
    "# Nowsza wersja pydantic\n",
    "#from pydantic import field_validator\n",
    "\n",
    "#class User(BaseModel):\n",
    "#    id: int\n",
    "#    name: str\n",
    "#    age: int\n",
    "#    is_active: bool = True\n",
    "#    \n",
    "#    @field_validator('age')\n",
    "#    def age_must_be_positive(cls, value):\n",
    "#        if value < 0:\n",
    "#            raise ValueError('age must be positive')\n",
    "#        return value"
   ]
  },
  {
   "cell_type": "code",
   "execution_count": 6,
   "metadata": {},
   "outputs": [],
   "source": [
    "user = User(id=123, name=\"Jan Kowalski\", age=30, is_active=True)"
   ]
  },
  {
   "cell_type": "markdown",
   "metadata": {},
   "source": [
    "Przykład Użycia:"
   ]
  },
  {
   "cell_type": "code",
   "execution_count": 7,
   "metadata": {
    "ExecuteTime": {
     "end_time": "2023-12-11T12:21:35.710313200Z",
     "start_time": "2023-12-11T12:21:35.668929100Z"
    }
   },
   "outputs": [
    {
     "name": "stdout",
     "output_type": "stream",
     "text": [
      "1 validation error for User\n",
      "age\n",
      "  Value error, age must be positive [type=value_error, input_value=-30, input_type=int]\n",
      "    For further information visit https://errors.pydantic.dev/2.5/v/value_error\n"
     ]
    }
   ],
   "source": [
    "try:\n",
    "    user = User(id=123, name=\"Jan Kowalski\", age=-30, is_active=True)\n",
    "except Exception as e:\n",
    "    print(e)"
   ]
  },
  {
   "cell_type": "markdown",
   "metadata": {
    "pycharm": {
     "name": "#%% md\n"
    }
   },
   "source": [
    "**Serializacja i deserializacja:**"
   ]
  },
  {
   "cell_type": "code",
   "execution_count": 8,
   "metadata": {
    "scrolled": true
   },
   "outputs": [
    {
     "name": "stdout",
     "output_type": "stream",
     "text": [
      "{\"id\":123,\"name\":\"Jan Kowalski\",\"age\":30,\"is_active\":true}\n",
      "{'id': 123, 'name': 'Jan Kowalski', 'age': 30, 'is_active': True}\n"
     ]
    },
    {
     "name": "stderr",
     "output_type": "stream",
     "text": [
      "/tmp/ipykernel_14684/1389205992.py:1: PydanticDeprecatedSince20: The `json` method is deprecated; use `model_dump_json` instead. Deprecated in Pydantic V2.0 to be removed in V3.0. See Pydantic V2 Migration Guide at https://errors.pydantic.dev/2.5/migration/\n",
      "  print(user.json())\n",
      "/tmp/ipykernel_14684/1389205992.py:2: PydanticDeprecatedSince20: The `dict` method is deprecated; use `model_dump` instead. Deprecated in Pydantic V2.0 to be removed in V3.0. See Pydantic V2 Migration Guide at https://errors.pydantic.dev/2.5/migration/\n",
      "  print(user.dict())\n"
     ]
    }
   ],
   "source": [
    "print(user.json())\n",
    "print(user.dict())    "
   ]
  },
  {
   "cell_type": "markdown",
   "metadata": {},
   "source": [
    "Zobacz dokumentację https://docs.pydantic.dev/latest/concepts/serialization/"
   ]
  },
  {
   "cell_type": "code",
   "execution_count": 13,
   "metadata": {
    "ExecuteTime": {
     "end_time": "2023-12-11T12:22:46.735837700Z",
     "start_time": "2023-12-11T12:22:46.712871500Z"
    }
   },
   "outputs": [
    {
     "ename": "AttributeError",
     "evalue": "'User' object has no attribute 'model_dump_json'",
     "output_type": "error",
     "traceback": [
      "\u001b[1;31m---------------------------------------------------------------------------\u001b[0m",
      "\u001b[1;31mAttributeError\u001b[0m                            Traceback (most recent call last)",
      "Cell \u001b[1;32mIn[13], line 1\u001b[0m\n\u001b[1;32m----> 1\u001b[0m \u001b[38;5;28mprint\u001b[39m(user\u001b[38;5;241m.\u001b[39mmodel_dump_json())\n\u001b[0;32m      2\u001b[0m \u001b[38;5;28mprint\u001b[39m(user\u001b[38;5;241m.\u001b[39mmodel_dump())\n",
      "\u001b[1;31mAttributeError\u001b[0m: 'User' object has no attribute 'model_dump_json'"
     ]
    }
   ],
   "source": [
    "# Nowsza wersja\n",
    "#print(user.model_dump_json())\n",
    "#print(user.model_dump())"
   ]
  },
  {
   "cell_type": "code",
   "execution_count": 69,
   "metadata": {
    "ExecuteTime": {
     "end_time": "2023-12-11T12:27:52.499606200Z",
     "start_time": "2023-12-11T12:27:52.471304800Z"
    }
   },
   "outputs": [],
   "source": [
    "# Nowsza wersja\n",
    "# sł = user.model_dump()      # obiekt - > słownik\n",
    "# sł['name']"
   ]
  },
  {
   "cell_type": "markdown",
   "metadata": {},
   "source": [
    "## Typy generyczne\n",
    "\n",
    "Typy generyczne w Pythonie to mechanizm pozwalający na pisanie kodu, który może być stosowany do różnych typów danych bez utraty informacji o tych typach. \n",
    "\n",
    "Typy generyczne pozwalają na opóźnienie w dostarczeniu specyfikacji typu danych w elementach takich jak klasy czy metody do momentu użycia ich w trakcie wykonywania programu. Innymi słowy, typy generyczne pozwalają na napisanie klasy lub metody, która może działać z każdym typem danych.\n",
    "\n",
    "Python, począwszy od wersji 3.5, oferuje wsparcie dla typów generycznych poprzez moduł typing.\n",
    "\n",
    "Oto kilka kluczowych koncepcji i przykładów związanych z typami generycznymi w Pythonie:\n",
    "\n",
    "`List[T]` - Oznacza listę, której wszystkie elementy są tego samego typu. Na przykład `List[int]` oznacza listę liczb całkowitych."
   ]
  },
  {
   "cell_type": "markdown",
   "metadata": {},
   "source": [
    "Użycie typów generycznych i modułu typing jest dobrym praktyką w celu zwiększenia czytelności i jakości kodu. Wprowadzając takie informacje o typach, programiści mogą lepiej zrozumieć intencje kodu i unikać pewnych klasycznych błędów związanych z typami danych. Dodatkowo, narzędzia analizujące kod (takie jak mypy) mogą dostarczać dodatkowe informacje zwrotne i wykrywać potencjalne błędy związane z typami."
   ]
  },
  {
   "cell_type": "code",
   "execution_count": 23,
   "metadata": {
    "ExecuteTime": {
     "end_time": "2023-12-11T12:28:46.774860900Z",
     "start_time": "2023-12-11T12:28:46.761895100Z"
    }
   },
   "outputs": [],
   "source": [
    "from typing import List\n",
    "numbers: List[int] = [1, 2, 3]"
   ]
  },
  {
   "cell_type": "code",
   "execution_count": 24,
   "metadata": {},
   "outputs": [
    {
     "data": {
      "text/plain": [
       "[1, 2, 3]"
      ]
     },
     "execution_count": 24,
     "metadata": {},
     "output_type": "execute_result"
    }
   ],
   "source": [
    "numbers"
   ]
  },
  {
   "cell_type": "markdown",
   "metadata": {},
   "source": [
    "`Dict[K, V]` - Słownik, gdzie K oznacza typ klucza, a V typ wartości. Na przykład `Dict[str, int]` oznacza słownik z kluczami typu `string` i wartościami typu `int`."
   ]
  },
  {
   "cell_type": "code",
   "execution_count": 25,
   "metadata": {
    "ExecuteTime": {
     "end_time": "2023-12-11T12:28:47.847330700Z",
     "start_time": "2023-12-11T12:28:47.826355100Z"
    }
   },
   "outputs": [],
   "source": [
    "from typing import Dict\n",
    "ages: Dict[str, int] = {\"Alice\": 30, \"Bob\": 25}"
   ]
  },
  {
   "cell_type": "code",
   "execution_count": 26,
   "metadata": {},
   "outputs": [
    {
     "data": {
      "text/plain": [
       "{'Alice': 30, 'Bob': 25}"
      ]
     },
     "execution_count": 26,
     "metadata": {},
     "output_type": "execute_result"
    }
   ],
   "source": [
    "ages"
   ]
  },
  {
   "cell_type": "code",
   "execution_count": 27,
   "metadata": {},
   "outputs": [],
   "source": [
    "def square_all(numbers: List[int]) -> List[int]:\n",
    "    return [x ** 2 for x in numbers]"
   ]
  },
  {
   "cell_type": "markdown",
   "metadata": {},
   "source": [
    "W tym przykładzie List[int] mówi nam, że funkcja square_all przyjmuje listę liczb całkowitych i zwraca listę liczb całkowitych."
   ]
  },
  {
   "cell_type": "markdown",
   "metadata": {},
   "source": [
    "`Tuple[T1, T2, ...]` - Krotka, w której każdy element ma zdefiniowany typ. Na przykład `Tuple[int, str, float]` oznacza krotkę składającą się z liczby całkowitej, łańcucha znaków i liczby zmiennoprzecinkowej."
   ]
  },
  {
   "cell_type": "code",
   "execution_count": 45,
   "metadata": {
    "ExecuteTime": {
     "end_time": "2023-12-11T12:34:21.317811700Z",
     "start_time": "2023-12-11T12:34:21.278531600Z"
    }
   },
   "outputs": [],
   "source": [
    "from typing import Tuple\n",
    "person: Tuple[int, str, float] = (1, \"Alice\", 4.5)"
   ]
  },
  {
   "cell_type": "markdown",
   "metadata": {},
   "source": [
    "A pamiętacie z Programowania Obiektowego **optional**? :) (https://docs.oracle.com/javase/8/docs/api/java/util/Optional.html)\n",
    "\n",
    "`Optional[T]` - Typ, który może być albo typem T, albo None. Jest to przydatne w przypadku funkcji, które mogą zwracać None jako wartość."
   ]
  },
  {
   "cell_type": "code",
   "execution_count": 9,
   "metadata": {
    "ExecuteTime": {
     "end_time": "2023-12-11T12:36:59.348405Z",
     "start_time": "2023-12-11T12:36:59.318581300Z"
    }
   },
   "outputs": [],
   "source": [
    "from typing import Optional\n",
    "def get_age(name: str) -> Optional[int]:\n",
    "    # -> Optional[int]: Oznacza, że funkcja zwraca wartość opcjonalną (może być typu int lub None).\n",
    "    if name == \"Alice\":\n",
    "        return 30\n",
    "    else:\n",
    "        return None\n",
    "        # funkcja zwraca None, co jest dopuszczalne ze względu na użycie Optional[int]."
   ]
  },
  {
   "cell_type": "code",
   "execution_count": 10,
   "metadata": {},
   "outputs": [
    {
     "data": {
      "text/plain": [
       "NoneType"
      ]
     },
     "execution_count": 10,
     "metadata": {},
     "output_type": "execute_result"
    }
   ],
   "source": [
    "type(get_age('a'))"
   ]
  },
  {
   "cell_type": "code",
   "execution_count": 11,
   "metadata": {},
   "outputs": [
    {
     "data": {
      "text/plain": [
       "int"
      ]
     },
     "execution_count": 11,
     "metadata": {},
     "output_type": "execute_result"
    }
   ],
   "source": [
    "type(get_age('Alice'))"
   ]
  },
  {
   "cell_type": "markdown",
   "metadata": {},
   "source": [
    "`TypeVar` - Umożliwia tworzenie typów generycznych. `TypeVar` jest używane do zdefiniowania zmiennej typu, która może być dowolnym typem."
   ]
  },
  {
   "cell_type": "code",
   "execution_count": null,
   "metadata": {},
   "outputs": [],
   "source": []
  },
  {
   "cell_type": "code",
   "execution_count": 50,
   "metadata": {
    "ExecuteTime": {
     "end_time": "2023-12-11T12:38:20.841229800Z",
     "start_time": "2023-12-11T12:38:20.796090600Z"
    }
   },
   "outputs": [],
   "source": [
    "from typing import TypeVar, List\n",
    "\n",
    "T = TypeVar('T') #  T może być dowolnym, jeszcze nieokreślonym typem\n",
    "#  litera T jest zazwyczaj stosowana jako konwencja do oznaczania zmiennych typu ogólnego (type variable). To daje możliwość \n",
    "# korzystania z jednej funkcji dla wielu różnych typów danych.\n",
    "def first(lst: List[T]) -> T: # Przyjmuje listę typów T, zwraca typ T\n",
    "    return lst[0]"
   ]
  },
  {
   "cell_type": "markdown",
   "metadata": {},
   "source": [
    "Co to nam generlanie daje? \n",
    "Zacznijmy od tego, że definicja T jest bardziej konwencją niż wymogiem - sama w sobie nie wprowadza żadnych nowych funkcji do języka Python, ale pomaga w dokumentowaniu intencji programisty i współpracy z narzędziami do analizy kodu.\n",
    "Podejście to jest związane z koncepcją parametryzacji typów, co oznacza, że możesz użyć funkcji na różnych typach danych, zachowując przy tym pewność typów."
   ]
  },
  {
   "cell_type": "markdown",
   "metadata": {},
   "source": [
    "`Generic[T]` - Używane do tworzenia klas generycznych. Pozwala na definiowanie klas, które mogą działać z różnymi typami."
   ]
  },
  {
   "cell_type": "code",
   "execution_count": 13,
   "metadata": {
    "ExecuteTime": {
     "end_time": "2023-12-11T12:39:03.718193800Z",
     "start_time": "2023-12-11T12:39:03.690195700Z"
    }
   },
   "outputs": [],
   "source": [
    "from typing import Generic, TypeVar\n",
    "\n",
    "T = TypeVar('T') \n",
    "\n",
    "class Box(Generic[T]): # Tu nie chodzi o dziedziczenie w klasycznym rozumieniu.\n",
    "    # Box jest klasą generyczną, co oznacza, że może przyjąć jeden lub więcej parametrów typu T. \n",
    "    # W tym przypadku, T to zmienna typu ogólnego, którą można zastąpić konkretnym typem podczas tworzenia \n",
    "    # instancji klasy Box.\n",
    "    def __init__(self, item: T):\n",
    "        self.item = item\n",
    "\n",
    "    def get(self) -> T:\n",
    "        return self.item"
   ]
  },
  {
   "cell_type": "code",
   "execution_count": 14,
   "metadata": {},
   "outputs": [],
   "source": [
    "string_box = Box(\"Hello, World!\")  # T zostanie zastąpione typem str\n",
    "integer_box = Box(42)               # T zostanie zastąpione typem int"
   ]
  },
  {
   "cell_type": "code",
   "execution_count": 15,
   "metadata": {},
   "outputs": [
    {
     "name": "stdout",
     "output_type": "stream",
     "text": [
      "Hello, World!\n"
     ]
    }
   ],
   "source": [
    "print(string_box.get())  # Wypisze: Hello, World!"
   ]
  },
  {
   "cell_type": "code",
   "execution_count": 16,
   "metadata": {},
   "outputs": [
    {
     "name": "stdout",
     "output_type": "stream",
     "text": [
      "42\n"
     ]
    }
   ],
   "source": [
    "print(integer_box.get())  # Wypisze: 42"
   ]
  },
  {
   "cell_type": "markdown",
   "metadata": {},
   "source": [
    "Generic[T] wskazuje, że klasa Box jest generyczna i może być parametryzowana jednym konkretnym typem (T). W momencie tworzenia instancji klasy Box, konkretny typ przekazywany jest jako argument generyczny, a wszystkie wystąpienia T wewnątrz klasy zostaną zastąpione tym konkretnym typem."
   ]
  },
  {
   "cell_type": "markdown",
   "metadata": {},
   "source": [
    "Te mechanizmy pozwalają na pisanie bardziej precyzyjnego i bezpiecznego kodu, który jest lepiej dokumentowany i łatwiejszy w utrzymaniu. Ponadto, dzięki generyczności, klasa Box staje się bardziej ogólna i bardziej przydatna w różnych kontekstach, ponieważ nie jest sztywno powiązana z jednym konkretnym typem danych."
   ]
  },
  {
   "cell_type": "markdown",
   "metadata": {},
   "source": [
    "## Zadanie1: Implementacja Dekoratora do Buforowania Typowo-Świadomego\n",
    "Cel: Stworzyć uniwersalny dekorator do buforowania w Pythonie, który można zastosować do dowolnej funkcji, niezależnie od jej sygnatury, i który buforuje jej wyniki na podstawie argumentów, z którymi jest wywoływana. Bufor powinien być świadomy typów, co oznacza, że powinien przechowywać różne wpisy dla argumentów różnych typów, nawet jeśli mają tę samą wartość.\n",
    "\n",
    "Wymagania:\n",
    "- Użyj typów generycznych, aby dekorator był jak najbardziej elastyczny.\n",
    "- Zapewnij bezpieczeństwo typów, aby bufor nie mieszał wartości między różnymi typami.\n",
    "- Zaimplementuj mechanizm ograniczający rozmiar bufora, aby zapobiec problemom z pamięcią."
   ]
  },
  {
   "cell_type": "code",
   "execution_count": 26,
   "metadata": {
    "ExecuteTime": {
     "end_time": "2023-12-11T12:43:37.616163700Z",
     "start_time": "2023-12-11T12:43:37.570282600Z"
    }
   },
   "outputs": [
    {
     "name": "stdout",
     "output_type": "stream",
     "text": [
      "322\n"
     ]
    }
   ],
   "source": [
    "from functools import wraps\n",
    "from typing import Any, Callable, Dict, Tuple, TypeVar, Generic\n",
    "\n",
    "R = TypeVar(\"R\")\n",
    "\n",
    "class TypeAwareCache(Generic[R]):\n",
    "    def __init__(self, max_size: int = 100):\n",
    "        self.cache = {}\n",
    "        self.max_size = max_size\n",
    "\n",
    "    def get(self, key: Tuple):\n",
    "        return self.cache.get(key)\n",
    "\n",
    "    def set(self, key: Tuple, value: R):\n",
    "        if len(self.cache) >= self.max_size:\n",
    "            self.cache.pop(next(iter(self.cache)))\n",
    "        self.cache[key] = value\n",
    "\n",
    "\n",
    "def type_aware_cache(max_size: int = 100):\n",
    "    def decorator(func: Callable[..., R]) -> Callable[..., R]:\n",
    "        cache = TypeAwareCache[R](max_size)\n",
    "\n",
    "        @wraps(func)\n",
    "        def wrapper(*args, **kwargs) -> R:\n",
    "            # klucz na podstawie argumentów args i kwargs wraz z ich typami\n",
    "            key = tuple(\n",
    "                [(type(arg), arg) for arg in args]\n",
    "                + [(k, type(v), v) for k, v in kwargs.items()]\n",
    "            )\n",
    "\n",
    "            result = cache.get(key)\n",
    "            if result is not None:\n",
    "                return result\n",
    "\n",
    "            result = func(*args, **kwargs)\n",
    "            cache.set(key, result)\n",
    "            return result\n",
    "\n",
    "        return wrapper\n",
    "\n",
    "    return decorator\n",
    "\n",
    "\n",
    "###\n",
    "@type_aware_cache(max_size=10)\n",
    "def test_function(a, b):\n",
    "    return a + b\n",
    "\n",
    "print(test_function(100, 222)) "
   ]
  },
  {
   "cell_type": "markdown",
   "metadata": {},
   "source": [
    "Kompleksowe Dziedziczenie i Walidacja Modeli w Pydantic (od teraz w wersji V1)"
   ]
  },
  {
   "cell_type": "markdown",
   "metadata": {},
   "source": [
    "W Pydantic, parametr always w dekoratorze @validator jest używany do włączenia walidacji, nawet jeśli dane są opcjonalne (tj. posiadają domyślną wartość lub są oznaczone jako Optional). Domyślnie Pydantic nie wykonuje walidacji, jeśli wartość jest opcjonalna i nie została dostarczona. Jednak dodanie parametru always sprawia, że walidacja jest zawsze wykonywana, niezależnie od tego, czy wartość jest obecna czy nie."
   ]
  },
  {
   "cell_type": "code",
   "execution_count": 28,
   "metadata": {
    "ExecuteTime": {
     "end_time": "2023-12-11T12:58:07.291014300Z",
     "start_time": "2023-12-11T12:58:07.217800900Z"
    }
   },
   "outputs": [
    {
     "name": "stderr",
     "output_type": "stream",
     "text": [
      "/tmp/ipykernel_14684/1621827749.py:12: PydanticDeprecatedSince20: Pydantic V1 style `@validator` validators are deprecated. You should migrate to Pydantic V2 style `@field_validator` validators, see the migration guide for more details. Deprecated in Pydantic V2.0 to be removed in V3.0. See Pydantic V2 Migration Guide at https://errors.pydantic.dev/2.5/migration/\n",
      "  @validator('battery_capacity', always=True)\n",
      "/tmp/ipykernel_14684/1621827749.py:18: PydanticDeprecatedSince20: Pydantic V1 style `@validator` validators are deprecated. You should migrate to Pydantic V2 style `@field_validator` validators, see the migration guide for more details. Deprecated in Pydantic V2.0 to be removed in V3.0. See Pydantic V2 Migration Guide at https://errors.pydantic.dev/2.5/migration/\n",
      "  @validator('fuel_capacity', always=True)\n"
     ]
    }
   ],
   "source": [
    "from pydantic import BaseModel, validator, Field\n",
    "from typing import Optional, Union\n",
    "\n",
    "class DynamicVehicle(BaseModel):\n",
    "    make: str\n",
    "    model: str\n",
    "    is_electric: bool\n",
    "    battery_capacity: Optional[int] = None # None to domyślna wartość tego pola\n",
    "    fuel_capacity: Optional[int] = None\n",
    "\n",
    "    # Walidacja pól za pomocą dekoratorów validator\n",
    "    @validator('battery_capacity', always=True)\n",
    "    def validate_battery_capacity(cls, v, values):\n",
    "        if values.get('is_electric') and v is None:\n",
    "            raise ValueError('Battery capacity is required for electric vehicles')\n",
    "        return v\n",
    "\n",
    "    @validator('fuel_capacity', always=True)\n",
    "    def validate_fuel_capacity(cls, v, values):\n",
    "        if not values.get('is_electric') and v is None:\n",
    "            raise ValueError('Fuel capacity is required for non-electric vehicles')\n",
    "        return v\n",
    "\n",
    "    class Config:\n",
    "        # extra = 'forbid': Oznacza, że nie są akceptowane dodatkowe pola, które nie zostały zdefiniowane w modelu\n",
    "        extra = 'forbid'"
   ]
  },
  {
   "cell_type": "code",
   "execution_count": 29,
   "metadata": {},
   "outputs": [],
   "source": [
    "# Test the model with different configurations\n",
    "electric_car = DynamicVehicle(make='Tesla', model='Model S', is_electric=True, battery_capacity=100)"
   ]
  },
  {
   "cell_type": "code",
   "execution_count": 30,
   "metadata": {},
   "outputs": [],
   "source": [
    "gas_car = DynamicVehicle(make='Ford', model='Fiesta', is_electric=False, fuel_capacity=45)"
   ]
  },
  {
   "cell_type": "code",
   "execution_count": 31,
   "metadata": {},
   "outputs": [
    {
     "ename": "ValidationError",
     "evalue": "1 validation error for DynamicVehicle\nfuel_capacity\n  Value error, Fuel capacity is required for non-electric vehicles [type=value_error, input_value=None, input_type=NoneType]\n    For further information visit https://errors.pydantic.dev/2.5/v/value_error",
     "output_type": "error",
     "traceback": [
      "\u001b[0;31m---------------------------------------------------------------------------\u001b[0m",
      "\u001b[0;31mValidationError\u001b[0m                           Traceback (most recent call last)",
      "\u001b[1;32m/home/janek/kurs_python/zajecia 10/zajecia_10.ipynb Cell 59\u001b[0m line \u001b[0;36m1\n\u001b[0;32m----> <a href='vscode-notebook-cell:/home/janek/kurs_python/zajecia%2010/zajecia_10.ipynb#Y112sZmlsZQ%3D%3D?line=0'>1</a>\u001b[0m DynamicVehicle(make\u001b[39m=\u001b[39;49m\u001b[39m'\u001b[39;49m\u001b[39mFord\u001b[39;49m\u001b[39m'\u001b[39;49m, model\u001b[39m=\u001b[39;49m\u001b[39m'\u001b[39;49m\u001b[39mFiesta\u001b[39;49m\u001b[39m'\u001b[39;49m, is_electric\u001b[39m=\u001b[39;49m\u001b[39mFalse\u001b[39;49;00m)\n",
      "File \u001b[0;32m~/.cache/pypoetry/virtualenvs/kurs-python-5MTEvg7X-py3.10/lib/python3.10/site-packages/pydantic/main.py:164\u001b[0m, in \u001b[0;36mBaseModel.__init__\u001b[0;34m(__pydantic_self__, **data)\u001b[0m\n\u001b[1;32m    162\u001b[0m \u001b[39m# `__tracebackhide__` tells pytest and some other tools to omit this function from tracebacks\u001b[39;00m\n\u001b[1;32m    163\u001b[0m __tracebackhide__ \u001b[39m=\u001b[39m \u001b[39mTrue\u001b[39;00m\n\u001b[0;32m--> 164\u001b[0m __pydantic_self__\u001b[39m.\u001b[39;49m__pydantic_validator__\u001b[39m.\u001b[39;49mvalidate_python(data, self_instance\u001b[39m=\u001b[39;49m__pydantic_self__)\n",
      "\u001b[0;31mValidationError\u001b[0m: 1 validation error for DynamicVehicle\nfuel_capacity\n  Value error, Fuel capacity is required for non-electric vehicles [type=value_error, input_value=None, input_type=NoneType]\n    For further information visit https://errors.pydantic.dev/2.5/v/value_error"
     ]
    }
   ],
   "source": [
    "DynamicVehicle(make='Ford', model='Fiesta', is_electric=False)"
   ]
  },
  {
   "cell_type": "markdown",
   "metadata": {},
   "source": [
    "Model DynamicVehicle ma pola make, model, is_electric, battery_capacity i fuel_capacity.\n",
    "Pola battery_capacity i fuel_capacity są opcjonalne, ale ich wymagania są dynamicznie walidowane w zależności od wartości pola is_electric.\n",
    "Walidatory sprawdzają, czy odpowiednie pola są uzupełnione w zależności od tego, czy pojazd jest elektryczny, czy nie.\n",
    "Konfiguracja modelu zakazuje dodatkowych pól, co zwiększa ścisłość modelu."
   ]
  },
  {
   "cell_type": "code",
   "execution_count": 41,
   "metadata": {},
   "outputs": [
    {
     "name": "stderr",
     "output_type": "stream",
     "text": [
      "/tmp/ipykernel_14684/1742865459.py:7: PydanticDeprecatedSince20: Pydantic V1 style `@validator` validators are deprecated. You should migrate to Pydantic V2 style `@field_validator` validators, see the migration guide for more details. Deprecated in Pydantic V2.0 to be removed in V3.0. See Pydantic V2 Migration Guide at https://errors.pydantic.dev/2.5/migration/\n",
      "  @validator('make', 'model')\n",
      "/tmp/ipykernel_14684/1742865459.py:16: PydanticDeprecatedSince20: Pydantic V1 style `@validator` validators are deprecated. You should migrate to Pydantic V2 style `@field_validator` validators, see the migration guide for more details. Deprecated in Pydantic V2.0 to be removed in V3.0. See Pydantic V2 Migration Guide at https://errors.pydantic.dev/2.5/migration/\n",
      "  @validator('engine_type')\n"
     ]
    }
   ],
   "source": [
    "from pydantic import BaseModel, validator, conint, constr\n",
    "\n",
    "class Vehicle(BaseModel):\n",
    "    make: constr(min_length=2) # minumum 2 znaki\n",
    "    model: constr(min_length=2) # minumum 2 znaki\n",
    "\n",
    "    @validator('make', 'model')\n",
    "    def check_names(cls, v):\n",
    "        if not v.isalpha():\n",
    "            raise ValueError('Must contain only letters')\n",
    "        return v.title()\n",
    "\n",
    "class Car(Vehicle):\n",
    "    engine_type: str # tylko takie do wyboru\n",
    "\n",
    "    @validator('engine_type')\n",
    "    def check_engine_type(cls, v):\n",
    "        if v not in ['diesel', 'petrol', 'electric', 'hybrid']:\n",
    "            raise ValueError('Invalid engine type')\n",
    "        return v\n",
    "\n",
    "class Bicycle(Vehicle):\n",
    "    number_of_gears: conint(gt=0)"
   ]
  },
  {
   "cell_type": "code",
   "execution_count": 42,
   "metadata": {},
   "outputs": [],
   "source": [
    "# Test the models\n",
    "car = Car(make='Toyota', model='Corolla', engine_type='petrol')"
   ]
  },
  {
   "cell_type": "code",
   "execution_count": 43,
   "metadata": {},
   "outputs": [],
   "source": [
    "bicycle = Bicycle(make='Giant', model='Escape', number_of_gears=21)"
   ]
  },
  {
   "cell_type": "code",
   "execution_count": 44,
   "metadata": {},
   "outputs": [
    {
     "ename": "ValidationError",
     "evalue": "1 validation error for Car\nmake\n  String should have at least 2 characters [type=string_too_short, input_value='N', input_type=str]\n    For further information visit https://errors.pydantic.dev/2.5/v/string_too_short",
     "output_type": "error",
     "traceback": [
      "\u001b[0;31m---------------------------------------------------------------------------\u001b[0m",
      "\u001b[0;31mValidationError\u001b[0m                           Traceback (most recent call last)",
      "\u001b[1;32m/home/janek/kurs_python/zajecia 10/zajecia_10.ipynb Cell 64\u001b[0m line \u001b[0;36m1\n\u001b[0;32m----> <a href='vscode-notebook-cell:/home/janek/kurs_python/zajecia%2010/zajecia_10.ipynb#Y120sZmlsZQ%3D%3D?line=0'>1</a>\u001b[0m car \u001b[39m=\u001b[39m Car(make\u001b[39m=\u001b[39;49m\u001b[39m'\u001b[39;49m\u001b[39mN\u001b[39;49m\u001b[39m'\u001b[39;49m, model\u001b[39m=\u001b[39;49m\u001b[39m'\u001b[39;49m\u001b[39mCorolla\u001b[39;49m\u001b[39m'\u001b[39;49m, engine_type\u001b[39m=\u001b[39;49m\u001b[39m'\u001b[39;49m\u001b[39mpetrol\u001b[39;49m\u001b[39m'\u001b[39;49m) \u001b[39m# Za krótkie!\u001b[39;00m\n",
      "File \u001b[0;32m~/.cache/pypoetry/virtualenvs/kurs-python-5MTEvg7X-py3.10/lib/python3.10/site-packages/pydantic/main.py:164\u001b[0m, in \u001b[0;36mBaseModel.__init__\u001b[0;34m(__pydantic_self__, **data)\u001b[0m\n\u001b[1;32m    162\u001b[0m \u001b[39m# `__tracebackhide__` tells pytest and some other tools to omit this function from tracebacks\u001b[39;00m\n\u001b[1;32m    163\u001b[0m __tracebackhide__ \u001b[39m=\u001b[39m \u001b[39mTrue\u001b[39;00m\n\u001b[0;32m--> 164\u001b[0m __pydantic_self__\u001b[39m.\u001b[39;49m__pydantic_validator__\u001b[39m.\u001b[39;49mvalidate_python(data, self_instance\u001b[39m=\u001b[39;49m__pydantic_self__)\n",
      "\u001b[0;31mValidationError\u001b[0m: 1 validation error for Car\nmake\n  String should have at least 2 characters [type=string_too_short, input_value='N', input_type=str]\n    For further information visit https://errors.pydantic.dev/2.5/v/string_too_short"
     ]
    }
   ],
   "source": [
    "car = Car(make='N', model='Corolla', engine_type='petrol') # Za krótkie!"
   ]
  },
  {
   "cell_type": "code",
   "execution_count": 45,
   "metadata": {},
   "outputs": [
    {
     "ename": "ValidationError",
     "evalue": "2 validation errors for Car\nmake\n  String should have at least 2 characters [type=string_too_short, input_value='N', input_type=str]\n    For further information visit https://errors.pydantic.dev/2.5/v/string_too_short\nengine_type\n  Value error, Invalid engine type [type=value_error, input_value='benzyna', input_type=str]\n    For further information visit https://errors.pydantic.dev/2.5/v/value_error",
     "output_type": "error",
     "traceback": [
      "\u001b[0;31m---------------------------------------------------------------------------\u001b[0m",
      "\u001b[0;31mValidationError\u001b[0m                           Traceback (most recent call last)",
      "\u001b[1;32m/home/janek/kurs_python/zajecia 10/zajecia_10.ipynb Cell 65\u001b[0m line \u001b[0;36m1\n\u001b[0;32m----> <a href='vscode-notebook-cell:/home/janek/kurs_python/zajecia%2010/zajecia_10.ipynb#Y121sZmlsZQ%3D%3D?line=0'>1</a>\u001b[0m car \u001b[39m=\u001b[39m Car(make\u001b[39m=\u001b[39;49m\u001b[39m'\u001b[39;49m\u001b[39mN\u001b[39;49m\u001b[39m'\u001b[39;49m, model\u001b[39m=\u001b[39;49m\u001b[39m'\u001b[39;49m\u001b[39mCorolla\u001b[39;49m\u001b[39m'\u001b[39;49m, engine_type\u001b[39m=\u001b[39;49m\u001b[39m'\u001b[39;49m\u001b[39mbenzyna\u001b[39;49m\u001b[39m'\u001b[39;49m) \u001b[39m# Nie to paliwo\u001b[39;00m\n",
      "File \u001b[0;32m~/.cache/pypoetry/virtualenvs/kurs-python-5MTEvg7X-py3.10/lib/python3.10/site-packages/pydantic/main.py:164\u001b[0m, in \u001b[0;36mBaseModel.__init__\u001b[0;34m(__pydantic_self__, **data)\u001b[0m\n\u001b[1;32m    162\u001b[0m \u001b[39m# `__tracebackhide__` tells pytest and some other tools to omit this function from tracebacks\u001b[39;00m\n\u001b[1;32m    163\u001b[0m __tracebackhide__ \u001b[39m=\u001b[39m \u001b[39mTrue\u001b[39;00m\n\u001b[0;32m--> 164\u001b[0m __pydantic_self__\u001b[39m.\u001b[39;49m__pydantic_validator__\u001b[39m.\u001b[39;49mvalidate_python(data, self_instance\u001b[39m=\u001b[39;49m__pydantic_self__)\n",
      "\u001b[0;31mValidationError\u001b[0m: 2 validation errors for Car\nmake\n  String should have at least 2 characters [type=string_too_short, input_value='N', input_type=str]\n    For further information visit https://errors.pydantic.dev/2.5/v/string_too_short\nengine_type\n  Value error, Invalid engine type [type=value_error, input_value='benzyna', input_type=str]\n    For further information visit https://errors.pydantic.dev/2.5/v/value_error"
     ]
    }
   ],
   "source": [
    "car = Car(make='N', model='Corolla', engine_type='benzyna') # Nie to paliwo"
   ]
  },
  {
   "cell_type": "code",
   "execution_count": null,
   "metadata": {},
   "outputs": [],
   "source": [
    "# pytest - klasy do wrzucenia do Pycharma"
   ]
  },
  {
   "cell_type": "code",
   "execution_count": 46,
   "metadata": {},
   "outputs": [
    {
     "name": "stderr",
     "output_type": "stream",
     "text": [
      "/tmp/ipykernel_14684/4278063633.py:8: PydanticDeprecatedSince20: Pydantic V1 style `@validator` validators are deprecated. You should migrate to Pydantic V2 style `@field_validator` validators, see the migration guide for more details. Deprecated in Pydantic V2.0 to be removed in V3.0. See Pydantic V2 Migration Guide at https://errors.pydantic.dev/2.5/migration/\n",
      "  @validator('make', 'model')\n"
     ]
    }
   ],
   "source": [
    "from pydantic import BaseModel, validator, conint, constr\n",
    "\n",
    "\n",
    "class Vehicle(BaseModel):\n",
    "    make: constr(min_length=2)\n",
    "    model: constr(min_length=2)\n",
    "\n",
    "    @validator('make', 'model')\n",
    "    def check_names(cls, v):\n",
    "        if len(v) < 2 or not v.isalpha():\n",
    "            raise ValueError('Must contain only letters and have at least 2 characters')\n",
    "        return v.title()"
   ]
  },
  {
   "cell_type": "code",
   "execution_count": 47,
   "metadata": {},
   "outputs": [
    {
     "ename": "ModuleNotFoundError",
     "evalue": "No module named 'vehicle'",
     "output_type": "error",
     "traceback": [
      "\u001b[0;31m---------------------------------------------------------------------------\u001b[0m",
      "\u001b[0;31mModuleNotFoundError\u001b[0m                       Traceback (most recent call last)",
      "\u001b[1;32m/home/janek/kurs_python/zajecia 10/zajecia_10.ipynb Cell 68\u001b[0m line \u001b[0;36m1\n\u001b[0;32m----> <a href='vscode-notebook-cell:/home/janek/kurs_python/zajecia%2010/zajecia_10.ipynb#Y124sZmlsZQ%3D%3D?line=0'>1</a>\u001b[0m \u001b[39mfrom\u001b[39;00m \u001b[39mvehicle\u001b[39;00m \u001b[39mimport\u001b[39;00m Vehicle  \u001b[39m# Zastąp 'your_module' odpowiednią nazwą modułu, w którym znajduje się klasa Vehicle\u001b[39;00m\n\u001b[1;32m      <a href='vscode-notebook-cell:/home/janek/kurs_python/zajecia%2010/zajecia_10.ipynb#Y124sZmlsZQ%3D%3D?line=2'>3</a>\u001b[0m \u001b[39mclass\u001b[39;00m \u001b[39mTestVehicle\u001b[39;00m:\n\u001b[1;32m      <a href='vscode-notebook-cell:/home/janek/kurs_python/zajecia%2010/zajecia_10.ipynb#Y124sZmlsZQ%3D%3D?line=3'>4</a>\u001b[0m     \u001b[39mdef\u001b[39;00m \u001b[39mtest_valid\u001b[39m(\u001b[39mself\u001b[39m):\n",
      "\u001b[0;31mModuleNotFoundError\u001b[0m: No module named 'vehicle'"
     ]
    }
   ],
   "source": [
    "from vehicle import Vehicle  # Zastąp 'your_module' odpowiednią nazwą modułu, w którym znajduje się klasa Vehicle\n",
    "\n",
    "class TestVehicle:\n",
    "    def test_valid(self):\n",
    "        assert Vehicle(make='Toyota', model='Corolla')\n",
    "\n",
    "    def test_invalid(self):\n",
    "        try:\n",
    "            Vehicle(make='Taa2', model='Corolla')\n",
    "        except ValueError as e:\n",
    "            assert 'Must contain only letters and have at least 2 characters' in str(e)\n",
    "        else:\n",
    "            assert False, 'Should not have gotten here'"
   ]
  },
  {
   "cell_type": "code",
   "execution_count": 54,
   "metadata": {},
   "outputs": [],
   "source": [
    "# uruchamiamy pycharma, tworzymy nowy projekt\n",
    "# kopiujemy klasę Vehicle (komórka ponizej do nowego pliku vehicle.py)\n",
    "# instalujemy pydantic: Python Packages, pydantic, install (wersja 1.10.8!)\n",
    "\n",
    "# Jeśli wszystko jest skonfigurowane poprawnie, pytest automatycznie znajdzie i uruchomi testy zdefiniowane w pliku. \n",
    "# Otrzymymy wynik w konsoli, który pokaże, czy testy zostały zakończone sukcesem czy z błędami.\n",
    "\n",
    "# UWAGA - nazwa pliku z testami musi zaczynać się od \"test_\", aby pytest automatycznie go rozpoznał."
   ]
  },
  {
   "cell_type": "code",
   "execution_count": null,
   "metadata": {},
   "outputs": [],
   "source": []
  },
  {
   "cell_type": "markdown",
   "metadata": {},
   "source": [
    "## Testy"
   ]
  },
  {
   "cell_type": "code",
   "execution_count": 49,
   "metadata": {},
   "outputs": [],
   "source": [
    "# exmaple class with tests in pytest - wklejamy do pycharma i testujemy\n",
    "# Poniższa klasa reprezentuje stos (stack), a także zestaw testów dla tej klasy, napisanych w bibliotece pytest\n",
    "\n",
    "# Importuje potrzebne moduły i biblioteki\n",
    "from typing import List\n",
    "import pytest\n",
    "\n",
    "# Definiuje klasę Stack do reprezentowania stosu\n",
    "class Stack:\n",
    "    # Inicjalizuje stos jako pustą listę (poniższe operacje są więc wykonywane na liście)\n",
    "    def __init__(self):\n",
    "        self._items: List[int] = []\n",
    "\n",
    "    # Dodaje element na wierzch stosu\n",
    "    def push(self, item: int):\n",
    "        self._items.append(item)\n",
    "\n",
    "    # Usuwa i zwraca element z wierzchu stosu\n",
    "    def pop(self) -> int:\n",
    "        return self._items.pop()\n",
    "\n",
    "    # Sprawdza, czy stos jest pusty\n",
    "    def is_empty(self) -> bool:\n",
    "        return len(self._items) == 0\n",
    "\n",
    "    # Zwraca element na wierzchu stosu, ale nie usuwa go\n",
    "    def peek(self) -> int:\n",
    "        return self._items[-1]\n",
    "\n",
    "    # Zwraca liczbę elementów na stosie\n",
    "    def size(self) -> int:\n",
    "        return len(self._items)\n",
    "\n",
    "# Definiuje zestaw testów dla klasy Stack\n",
    "def test_stack():\n",
    "    # Tworzy obiekt Stack\n",
    "    stack = Stack()\n",
    "\n",
    "    # Sprawdza, czy stos jest pusty po utworzeniu\n",
    "    assert stack.is_empty()\n",
    "\n",
    "    # Dodaje trzy elementy do stosu\n",
    "    stack.push(1)\n",
    "    stack.push(2)\n",
    "    stack.push(3)\n",
    "\n",
    "    # Sprawdza, czy size() zwraca 3\n",
    "    assert stack.size() == 3\n",
    "\n",
    "    # Sprawdza, czy peek() zwraca 3 (ostatni dodany element)\n",
    "    assert stack.peek() == 3\n",
    "\n",
    "    # Usuwa trzy elementy ze stosu i sprawdza, czy zwracają odpowiednie wartości\n",
    "    assert stack.pop() == 3\n",
    "    assert stack.pop() == 2\n",
    "    assert stack.pop() == 1\n",
    "\n",
    "    # Sprawdza, czy stos jest pusty po zakończeniu operacji\n",
    "    assert stack"
   ]
  },
  {
   "cell_type": "markdown",
   "metadata": {},
   "source": [
    "testy  parametryzowane w pytest testy parametryzowane to testy, które są uruchamiane wielokrotnie z różnymi zestawami danych. W tym przypadku testy parametryzowane są używane do przetestowania różnych kombinacji danych wejściowych i oczekiwanych wyników.\n"
   ]
  },
  {
   "cell_type": "code",
   "execution_count": 50,
   "metadata": {},
   "outputs": [],
   "source": [
    "import pytest\n",
    "\n",
    "# Definicja funkcji dodaj, która zwraca sumę dwóch liczb\n",
    "def dodaj(a, b):\n",
    "    return a + b\n",
    "\n",
    "# Używa pytest.mark.parametrize do zdefiniowania zestawu testów z różnymi wartościami parametrów\n",
    "# a, b, expected to są parametry, a listy zawierają zestawy wartości do przetestowania\n",
    "# np. [12, 13, 25] oznacza, że dla a=12 i b=13, spodziewamy się wyniku 25\n",
    "@pytest.mark.parametrize(\"a, b, expected\", [[12, 13, 25], [1, 2, 3], [1, 1, 2]])\n",
    "def test_dodaj(a, b, expected):\n",
    "    # Sprawdza, czy wynik funkcji dodaj(a, b) jest zgodny z oczekiwanym wynikiem\n",
    "    assert dodaj(a, b) == expected"
   ]
  },
  {
   "cell_type": "markdown",
   "metadata": {},
   "source": [
    "Mockowanie w Pythonie\n",
    "mockowanie to technika, która pozwala na tworzenie obiektów, które zachowują się jak prawdziwe obiekty, ale są w rzeczywistości zastępowane przez kontrolowane przez nas obiekty. Mocki są bardzo przydatne w testowaniu jednostkowym, ponieważ pozwalają na symulowanie zależności, które są trudne do kontrolowania w testach jednostkowych.\n"
   ]
  },
  {
   "cell_type": "markdown",
   "metadata": {},
   "source": [
    "Poniżej przedstawiony został przykład testowania klasy FileReader, która odpowiada za czytanie zawartości plików. Test test_read_file korzysta z modułu unittest.mock oraz pytest.MonkeyPatch do symulowania otwierania plików i testowania czy klasa FileReader zachowuje się poprawnie w przypadku braku pliku i poprawnego odczytu."
   ]
  },
  {
   "cell_type": "code",
   "execution_count": 51,
   "metadata": {},
   "outputs": [],
   "source": [
    "class FileReader: #klasa do czytania plików\n",
    "    def __init__(self, filename):\n",
    "        self.filename = filename\n",
    "\n",
    "    def read(self):\n",
    "        with open(self.filename, 'r') as file:\n",
    "            return file.read()"
   ]
  },
  {
   "cell_type": "code",
   "execution_count": 55,
   "metadata": {},
   "outputs": [
    {
     "ename": "ImportError",
     "evalue": "cannot import name 'FileReader' from 'file_reader' (/home/janek/.cache/pypoetry/virtualenvs/kurs-python-5MTEvg7X-py3.10/lib/python3.10/site-packages/file_reader/__init__.py)",
     "output_type": "error",
     "traceback": [
      "\u001b[0;31m---------------------------------------------------------------------------\u001b[0m",
      "\u001b[0;31mImportError\u001b[0m                               Traceback (most recent call last)",
      "\u001b[1;32m/home/janek/kurs_python/zajecia 10/zajecia_10.ipynb Cell 78\u001b[0m line \u001b[0;36m3\n\u001b[1;32m      <a href='vscode-notebook-cell:/home/janek/kurs_python/zajecia%2010/zajecia_10.ipynb#Y140sZmlsZQ%3D%3D?line=0'>1</a>\u001b[0m \u001b[39mimport\u001b[39;00m \u001b[39mpytest\u001b[39;00m\n\u001b[1;32m      <a href='vscode-notebook-cell:/home/janek/kurs_python/zajecia%2010/zajecia_10.ipynb#Y140sZmlsZQ%3D%3D?line=1'>2</a>\u001b[0m \u001b[39mfrom\u001b[39;00m \u001b[39munittest\u001b[39;00m\u001b[39m.\u001b[39;00m\u001b[39mmock\u001b[39;00m \u001b[39mimport\u001b[39;00m mock_open, MagicMock\n\u001b[0;32m----> <a href='vscode-notebook-cell:/home/janek/kurs_python/zajecia%2010/zajecia_10.ipynb#Y140sZmlsZQ%3D%3D?line=2'>3</a>\u001b[0m \u001b[39mfrom\u001b[39;00m \u001b[39mfile_reader\u001b[39;00m \u001b[39mimport\u001b[39;00m FileReader\n\u001b[1;32m      <a href='vscode-notebook-cell:/home/janek/kurs_python/zajecia%2010/zajecia_10.ipynb#Y140sZmlsZQ%3D%3D?line=4'>5</a>\u001b[0m \u001b[39mdef\u001b[39;00m \u001b[39mtest_read_file\u001b[39m():\n\u001b[1;32m      <a href='vscode-notebook-cell:/home/janek/kurs_python/zajecia%2010/zajecia_10.ipynb#Y140sZmlsZQ%3D%3D?line=5'>6</a>\u001b[0m     \u001b[39m# Symuluje plik z danymi 'testowe dane'\u001b[39;00m\n\u001b[1;32m      <a href='vscode-notebook-cell:/home/janek/kurs_python/zajecia%2010/zajecia_10.ipynb#Y140sZmlsZQ%3D%3D?line=6'>7</a>\u001b[0m     mock_data \u001b[39m=\u001b[39m \u001b[39m'\u001b[39m\u001b[39mtestowe dane\u001b[39m\u001b[39m'\u001b[39m\n",
      "\u001b[0;31mImportError\u001b[0m: cannot import name 'FileReader' from 'file_reader' (/home/janek/.cache/pypoetry/virtualenvs/kurs-python-5MTEvg7X-py3.10/lib/python3.10/site-packages/file_reader/__init__.py)"
     ]
    }
   ],
   "source": [
    "import pytest\n",
    "from unittest.mock import mock_open, MagicMock\n",
    "from file_reader import FileReader\n",
    "\n",
    "def test_read_file():\n",
    "    # Symuluje plik z danymi 'testowe dane'\n",
    "    mock_data = 'testowe dane'\n",
    "    m = mock_open(read_data=mock_data)\n",
    "\n",
    "    # Sprawdza, czy FileNotFoundError jest zgłaszany, gdy plik nie istnieje\n",
    "    with pytest.raises(FileNotFoundError):\n",
    "        FileReader(\"nieistniejacy_plik.txt\").read()\n",
    "\n",
    "    # Symuluje otwieranie pliku przy użyciu mocka\n",
    "    with pytest.MonkeyPatch.context() as mpatch:\n",
    "        #  Zasymulowanie otwierania plików bez konieczności rzeczywistego zapisywania danych na dysku\n",
    "        mpatch.setattr(\"builtins.open\", m)\n",
    "        #  \"dummy.txt\" nie ma specjalnego znaczenia i jest używana jedynie jako przykładowa nazwa pliku\n",
    "        # Podczas testu mpatch.setattr(\"builtins.open\", m) zastępuje funkcję open obiektem mock_open (m).\n",
    "        reader = FileReader(\"dummy.txt\")\n",
    "        # Gdy FileReader używa open(\"dummy.txt\", 'r'), to właśnie obiekt mock_open jest używany, a rzeczywista nazwa pliku nie ma znaczenia.\n",
    "        result = reader.read()\n",
    "\n",
    "    # Sprawdza, czy otwarcie pliku zostało wykonane poprawnie\n",
    "    m.assert_called_once_with(\"dummy.txt\", 'r')\n",
    "\n",
    "    # Sprawdza, czy zwrócone dane są zgodne z oczekiwanymi danymi\n",
    "    assert result == mock_data\n"
   ]
  },
  {
   "cell_type": "markdown",
   "metadata": {},
   "source": [
    "fixture w pytest fixture to funkcja, która jest wywoływana przez pytest przed uruchomieniem każdego testu. Fixture może być używana do przygotowania danych testowych, które są współdzielone przez wiele testów. Fixture może również być używana do uruchamiania kodu po zakończeniu testu, np. do czyszczenia danych testowych."
   ]
  },
  {
   "cell_type": "code",
   "execution_count": 58,
   "metadata": {},
   "outputs": [],
   "source": [
    "import requests\n",
    "\n",
    "class WeatherService:\n",
    "    def __init__(self, api_key):\n",
    "        self.api_key = api_key\n",
    "\n",
    "    def get_current_weather(self, city):\n",
    "        url = f\"http://example.com/weather?city={city}&key={self.api_key}\"\n",
    "        response = requests.get(url)\n",
    "        print(\"\\nPobrano informacje.\")\n",
    "        return response.json()"
   ]
  },
  {
   "cell_type": "code",
   "execution_count": 59,
   "metadata": {},
   "outputs": [
    {
     "ename": "ModuleNotFoundError",
     "evalue": "No module named 'weather'",
     "output_type": "error",
     "traceback": [
      "\u001b[0;31m---------------------------------------------------------------------------\u001b[0m",
      "\u001b[0;31mModuleNotFoundError\u001b[0m                       Traceback (most recent call last)",
      "\u001b[1;32m/home/janek/kurs_python/zajecia 10/zajecia_10.ipynb Cell 81\u001b[0m line \u001b[0;36m3\n\u001b[1;32m      <a href='vscode-notebook-cell:/home/janek/kurs_python/zajecia%2010/zajecia_10.ipynb#Y143sZmlsZQ%3D%3D?line=0'>1</a>\u001b[0m \u001b[39mimport\u001b[39;00m \u001b[39mpytest\u001b[39;00m\n\u001b[1;32m      <a href='vscode-notebook-cell:/home/janek/kurs_python/zajecia%2010/zajecia_10.ipynb#Y143sZmlsZQ%3D%3D?line=1'>2</a>\u001b[0m \u001b[39mfrom\u001b[39;00m \u001b[39munittest\u001b[39;00m\u001b[39m.\u001b[39;00m\u001b[39mmock\u001b[39;00m \u001b[39mimport\u001b[39;00m MagicMock, patch\n\u001b[0;32m----> <a href='vscode-notebook-cell:/home/janek/kurs_python/zajecia%2010/zajecia_10.ipynb#Y143sZmlsZQ%3D%3D?line=2'>3</a>\u001b[0m \u001b[39mfrom\u001b[39;00m \u001b[39mweather\u001b[39;00m \u001b[39mimport\u001b[39;00m WeatherService\n\u001b[1;32m      <a href='vscode-notebook-cell:/home/janek/kurs_python/zajecia%2010/zajecia_10.ipynb#Y143sZmlsZQ%3D%3D?line=4'>5</a>\u001b[0m \u001b[39m@pytest\u001b[39m\u001b[39m.\u001b[39mfixture\n\u001b[1;32m      <a href='vscode-notebook-cell:/home/janek/kurs_python/zajecia%2010/zajecia_10.ipynb#Y143sZmlsZQ%3D%3D?line=5'>6</a>\u001b[0m \u001b[39mdef\u001b[39;00m \u001b[39mmock_weather_api_response\u001b[39m():\n\u001b[1;32m      <a href='vscode-notebook-cell:/home/janek/kurs_python/zajecia%2010/zajecia_10.ipynb#Y143sZmlsZQ%3D%3D?line=6'>7</a>\u001b[0m     \u001b[39mreturn\u001b[39;00m {\n\u001b[1;32m      <a href='vscode-notebook-cell:/home/janek/kurs_python/zajecia%2010/zajecia_10.ipynb#Y143sZmlsZQ%3D%3D?line=7'>8</a>\u001b[0m         \u001b[39m\"\u001b[39m\u001b[39mcity\u001b[39m\u001b[39m\"\u001b[39m: \u001b[39m\"\u001b[39m\u001b[39mLondon\u001b[39m\u001b[39m\"\u001b[39m,\n\u001b[1;32m      <a href='vscode-notebook-cell:/home/janek/kurs_python/zajecia%2010/zajecia_10.ipynb#Y143sZmlsZQ%3D%3D?line=8'>9</a>\u001b[0m         \u001b[39m\"\u001b[39m\u001b[39mtemperature\u001b[39m\u001b[39m\"\u001b[39m: \u001b[39m\"\u001b[39m\u001b[39m15°C\u001b[39m\u001b[39m\"\u001b[39m,\n\u001b[1;32m     <a href='vscode-notebook-cell:/home/janek/kurs_python/zajecia%2010/zajecia_10.ipynb#Y143sZmlsZQ%3D%3D?line=9'>10</a>\u001b[0m         \u001b[39m\"\u001b[39m\u001b[39mcondition\u001b[39m\u001b[39m\"\u001b[39m: \u001b[39m\"\u001b[39m\u001b[39mCloudy\u001b[39m\u001b[39m\"\u001b[39m\n\u001b[1;32m     <a href='vscode-notebook-cell:/home/janek/kurs_python/zajecia%2010/zajecia_10.ipynb#Y143sZmlsZQ%3D%3D?line=10'>11</a>\u001b[0m     }\n",
      "\u001b[0;31mModuleNotFoundError\u001b[0m: No module named 'weather'"
     ]
    }
   ],
   "source": [
    "import pytest\n",
    "from unittest.mock import MagicMock, patch\n",
    "from weather import WeatherService\n",
    "\n",
    "@pytest.fixture\n",
    "def mock_weather_api_response():\n",
    "    return {\n",
    "        \"city\": \"London\",\n",
    "        \"temperature\": \"15°C\",\n",
    "        \"condition\": \"Cloudy\"\n",
    "    }\n",
    "\n",
    "def test_get_current_weather(mock_weather_api_response):\n",
    "    # Tworzy obiekt MagicMock do zasymulowania odpowiedzi z API pogodowego\n",
    "    with patch('requests.get') as mock_get:\n",
    "        # Konfiguruje zachowanie obiektu MagicMock\n",
    "        mock_get.return_value = MagicMock(status_code=200)\n",
    "        mock_get.return_value.json.return_value = mock_weather_api_response\n",
    "\n",
    "        # Tworzy obiekt WeatherService i wywołuje metodę get_current_weather\n",
    "        service = WeatherService(api_key=\"dummy_key\")\n",
    "        weather = service.get_current_weather(\"London\")\n",
    "\n",
    "        # Sprawdza, czy dane pogodowe są zgodne z oczekiwanymi danymi\n",
    "        assert weather == mock_weather_api_response\n",
    "\n",
    "        # Sprawdza, czy requests.get zostało wywołane z odpowiednim adresem URL\n",
    "        mock_get.assert_called_once_with(\"http://example.com/weather?city=London&key=dummy_key\")\n"
   ]
  },
  {
   "cell_type": "markdown",
   "metadata": {},
   "source": [
    "Wyjaśnienie Testu\n",
    "Mockowanie requests.get: Używamy patch, aby zastąpić requests.get obiektem MagicMock. Oznacza to, że podczas testu nie będą wykonywane żadne prawdziwe żądania HTTP.\n",
    "Ustawianie Zwracanych Wartości: Obiekt mock jest skonfigurowany do zwracania MagicMock jako odpowiedzi, a metoda json tej odpowiedzi mock jest ustawiona na zwracanie naszych wcześniej zdefiniowanych danych JSON.\n",
    "Asercja: Sprawdzamy, czy zwrócone dane pogodowe pasują do naszych danych mock i czy requests.get zostało wywołane z poprawnym adresem URL.\n",
    "Ten test skutecznie symuluje wywołanie zewnętrznego API i pozwala nam przetestować klasę WeatherService bez polegania na dostępności zewnętrznej usługi czy sieci.\n",
    "\n",
    "\n",
    "\n",
    "\n",
    "\n"
   ]
  },
  {
   "cell_type": "markdown",
   "metadata": {},
   "source": [
    "## Zadanie dnia\n",
    "Rozszerz klasę ułamek z poprzedniego scenariusza o możliwość zapisywania i odczytywania ułamka z pliku tekstowego.\n",
    "Dopisz do niej testy parametryzowane, testy zapisywania i wczytywania ułamka z pliku tekstowego.\n",
    "Zrealizuj zadanie za pomocą mockowania i wykorzystując fixture."
   ]
  }
 ],
 "metadata": {
  "kernelspec": {
   "display_name": "Python 3 (ipykernel)",
   "language": "python",
   "name": "python3"
  },
  "language_info": {
   "codemirror_mode": {
    "name": "ipython",
    "version": 3
   },
   "file_extension": ".py",
   "mimetype": "text/x-python",
   "name": "python",
   "nbconvert_exporter": "python",
   "pygments_lexer": "ipython3",
   "version": "3.10.12"
  }
 },
 "nbformat": 4,
 "nbformat_minor": 2
}
