{
 "cells": [
  {
   "cell_type": "code",
   "execution_count": 1,
   "metadata": {},
   "outputs": [
    {
     "name": "stdout",
     "output_type": "stream",
     "text": [
      "Przybliżona wartość liczby π po 1000000 próbach wynosi 3.140556\n"
     ]
    }
   ],
   "source": [
    "# Task 1\n",
    "\n",
    "import random\n",
    "\n",
    "def wyznacz_pi(ilosc_prob):\n",
    "    punkty_w_okregu = 0\n",
    "    \n",
    "    for _ in range(ilosc_prob):\n",
    "        x = random.uniform(-1, 1)\n",
    "        y = random.uniform(-1, 1)\n",
    "        odleglosc = x**2 + y**2\n",
    "        \n",
    "        if odleglosc <= 1:\n",
    "            punkty_w_okregu += 1\n",
    "            \n",
    "    return 4 * punkty_w_okregu / ilosc_prob\n",
    "\n",
    "# Ustaw wartość `ilosc_prob` na pożądaną liczbę prób.\n",
    "ilosc_prob = 1000000\n",
    "pi = wyznacz_pi(ilosc_prob)\n",
    "print(f\"Przybliżona wartość liczby π po {ilosc_prob} próbach wynosi {pi}\")\n"
   ]
  }
 ],
 "metadata": {
  "kernelspec": {
   "display_name": "kurs-python-5MTEvg7X-py3.10",
   "language": "python",
   "name": "python3"
  },
  "language_info": {
   "codemirror_mode": {
    "name": "ipython",
    "version": 3
   },
   "file_extension": ".py",
   "mimetype": "text/x-python",
   "name": "python",
   "nbconvert_exporter": "python",
   "pygments_lexer": "ipython3",
   "version": "3.10.12"
  }
 },
 "nbformat": 4,
 "nbformat_minor": 2
}
