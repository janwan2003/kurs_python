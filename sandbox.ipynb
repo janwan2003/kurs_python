{
 "cells": [
  {
   "cell_type": "code",
   "execution_count": 1,
   "metadata": {},
   "outputs": [
    {
     "name": "stdout",
     "output_type": "stream",
     "text": [
      "[1, 2, 4, 3, 5]\n"
     ]
    }
   ],
   "source": [
    "def sort_5_elements(arr):\n",
    "    if arr[0] > arr[1]:\n",
    "        arr[0], arr[1] = arr[1], arr[0]\n",
    "    \n",
    "    if arr[3] > arr[4]:\n",
    "        arr[3], arr[4] = arr[4], arr[3]\n",
    "    \n",
    "    if arr[0] > arr[2]:\n",
    "        arr[0], arr[2] = arr[2], arr[0]\n",
    "    \n",
    "    if arr[1] > arr[2]:\n",
    "        arr[1], arr[2] = arr[2], arr[1]\n",
    "    \n",
    "    if arr[0] > arr[3]:\n",
    "        arr[0], arr[3] = arr[3], arr[0]\n",
    "    \n",
    "    if arr[2] > arr[4]:\n",
    "        arr[2], arr[4] = arr[4], arr[2]\n",
    "    \n",
    "    if arr[1] > arr[3]:\n",
    "        arr[1], arr[3] = arr[3], arr[1]\n",
    "\n",
    "    return arr\n",
    "\n",
    "# Example Usage\n",
    "arr = [5, 1, 3, 4, 2]\n",
    "sorted_arr = sort_5_elements(arr)\n",
    "print(sorted_arr)  # Output: [1, 2, 3, 4, 5]\n"
   ]
  },
  {
   "cell_type": "code",
   "execution_count": 8,
   "metadata": {},
   "outputs": [],
   "source": [
    "import PyPDF2\n",
    "\n",
    "with open(\"cechy.pdf\", \"rb\") as f:\n",
    "    pdf = PyPDF2.PdfReader(f)\n",
    "    text = []\n",
    "    for a in range(len(pdf.pages)):\n",
    "        text.append(pdf.pages[a].extract_text())\n",
    "\n",
    "\n",
    "# Save the extracted text to a new file\n",
    "with open(\"cechy_output.txt\", \"w\", encoding=\"utf-8\") as out:\n",
    "    out.write(\"\\n\".join(text))\n"
   ]
  },
  {
   "cell_type": "code",
   "execution_count": 1,
   "metadata": {},
   "outputs": [
    {
     "name": "stdout",
     "output_type": "stream",
     "text": [
      "<html>\n",
      "</html>\n",
      "\n"
     ]
    },
    {
     "name": "stderr",
     "output_type": "stream",
     "text": [
      "/home/janek/.cache/pypoetry/virtualenvs/kurs-python-5MTEvg7X-py3.10/lib/python3.10/site-packages/urllib3/connectionpool.py:1100: InsecureRequestWarning: Unverified HTTPS request is being made to host 'web.kazet.cc'. Adding certificate verification is strongly advised. See: https://urllib3.readthedocs.io/en/latest/advanced-usage.html#tls-warnings\n",
      "  warnings.warn(\n"
     ]
    }
   ],
   "source": [
    "import requests\n",
    "\n",
    "url = \"http://web.kazet.cc:80/\"\n",
    "\n",
    "try:\n",
    "    response = requests.get(url, verify=False)  # verify=False is used to skip SSL certificate verification\n",
    "    response.raise_for_status()  # Raise an HTTPError if the HTTP request returned an unsuccessful status code\n",
    "\n",
    "    print(response.text)\n",
    "except requests.RequestException as error:\n",
    "    print(f\"An error occurred: {error}\")\n"
   ]
  },
  {
   "cell_type": "code",
   "execution_count": 4,
   "metadata": {},
   "outputs": [
    {
     "name": "stdout",
     "output_type": "stream",
     "text": [
      "b'1ea280d7158321d266d5b8fb67ec7e17361224972017543ebe0f9e0da834a0f9'\n"
     ]
    }
   ],
   "source": [
    "import binascii\n",
    "import os\n",
    "SECRET_KEY = binascii.hexlify(os.urandom(32))\n",
    "print(SECRET_KEY)"
   ]
  },
  {
   "cell_type": "code",
   "execution_count": 1,
   "metadata": {},
   "outputs": [
    {
     "name": "stdout",
     "output_type": "stream",
     "text": [
      "Could not retrieve transcript for video watch?v=agJUYbpcXxY&authuser=0: \n",
      "Could not retrieve a transcript for the video https://www.youtube.com/watch?v=watch?v=agJUYbpcXxY&authuser=0! This is most likely caused by:\n",
      "\n",
      "Subtitles are disabled for this video\n",
      "\n",
      "If you are sure that the described cause is not responsible for this error and that a transcript should be retrievable, please create an issue at https://github.com/jdepoix/youtube-transcript-api/issues. Please add which version of youtube_transcript_api you are using and provide the information needed to replicate the error. Also make sure that there are no open issues which already describe your problem!\n",
      "Could not retrieve transcript for video watch?v=gNomxbBBIVA&authuser=0: \n",
      "Could not retrieve a transcript for the video https://www.youtube.com/watch?v=watch?v=gNomxbBBIVA&authuser=0! This is most likely caused by:\n",
      "\n",
      "Subtitles are disabled for this video\n",
      "\n",
      "If you are sure that the described cause is not responsible for this error and that a transcript should be retrievable, please create an issue at https://github.com/jdepoix/youtube-transcript-api/issues. Please add which version of youtube_transcript_api you are using and provide the information needed to replicate the error. Also make sure that there are no open issues which already describe your problem!\n",
      "Could not retrieve transcript for video watch?v=Yt-45z3reiw&authuser=0: \n",
      "Could not retrieve a transcript for the video https://www.youtube.com/watch?v=watch?v=Yt-45z3reiw&authuser=0! This is most likely caused by:\n",
      "\n",
      "Subtitles are disabled for this video\n",
      "\n",
      "If you are sure that the described cause is not responsible for this error and that a transcript should be retrievable, please create an issue at https://github.com/jdepoix/youtube-transcript-api/issues. Please add which version of youtube_transcript_api you are using and provide the information needed to replicate the error. Also make sure that there are no open issues which already describe your problem!\n",
      "Could not retrieve transcript for video watch?v=4isu0n1GOWU&authuser=0: \n",
      "Could not retrieve a transcript for the video https://www.youtube.com/watch?v=watch?v=4isu0n1GOWU&authuser=0! This is most likely caused by:\n",
      "\n",
      "Subtitles are disabled for this video\n",
      "\n",
      "If you are sure that the described cause is not responsible for this error and that a transcript should be retrievable, please create an issue at https://github.com/jdepoix/youtube-transcript-api/issues. Please add which version of youtube_transcript_api you are using and provide the information needed to replicate the error. Also make sure that there are no open issues which already describe your problem!\n",
      "Could not retrieve transcript for video watch?v=OFIwLbmqzY0&authuser=0: \n",
      "Could not retrieve a transcript for the video https://www.youtube.com/watch?v=watch?v=OFIwLbmqzY0&authuser=0! This is most likely caused by:\n",
      "\n",
      "Subtitles are disabled for this video\n",
      "\n",
      "If you are sure that the described cause is not responsible for this error and that a transcript should be retrievable, please create an issue at https://github.com/jdepoix/youtube-transcript-api/issues. Please add which version of youtube_transcript_api you are using and provide the information needed to replicate the error. Also make sure that there are no open issues which already describe your problem!\n",
      "Could not retrieve transcript for video watch?v=EU_1TNWPLbU: \n",
      "Could not retrieve a transcript for the video https://www.youtube.com/watch?v=watch?v=EU_1TNWPLbU! This is most likely caused by:\n",
      "\n",
      "Subtitles are disabled for this video\n",
      "\n",
      "If you are sure that the described cause is not responsible for this error and that a transcript should be retrievable, please create an issue at https://github.com/jdepoix/youtube-transcript-api/issues. Please add which version of youtube_transcript_api you are using and provide the information needed to replicate the error. Also make sure that there are no open issues which already describe your problem!\n",
      "Could not retrieve transcript for video watch?v=vfZ4g-O6ukQ: \n",
      "Could not retrieve a transcript for the video https://www.youtube.com/watch?v=watch?v=vfZ4g-O6ukQ! This is most likely caused by:\n",
      "\n",
      "Subtitles are disabled for this video\n",
      "\n",
      "If you are sure that the described cause is not responsible for this error and that a transcript should be retrievable, please create an issue at https://github.com/jdepoix/youtube-transcript-api/issues. Please add which version of youtube_transcript_api you are using and provide the information needed to replicate the error. Also make sure that there are no open issues which already describe your problem!\n",
      "Could not retrieve transcript for video watch?v=yAcrHSc9Poo: \n",
      "Could not retrieve a transcript for the video https://www.youtube.com/watch?v=watch?v=yAcrHSc9Poo! This is most likely caused by:\n",
      "\n",
      "Subtitles are disabled for this video\n",
      "\n",
      "If you are sure that the described cause is not responsible for this error and that a transcript should be retrievable, please create an issue at https://github.com/jdepoix/youtube-transcript-api/issues. Please add which version of youtube_transcript_api you are using and provide the information needed to replicate the error. Also make sure that there are no open issues which already describe your problem!\n",
      "Could not retrieve transcript for video watch?v=TL1AW2iKpnU: \n",
      "Could not retrieve a transcript for the video https://www.youtube.com/watch?v=watch?v=TL1AW2iKpnU! This is most likely caused by:\n",
      "\n",
      "Subtitles are disabled for this video\n",
      "\n",
      "If you are sure that the described cause is not responsible for this error and that a transcript should be retrievable, please create an issue at https://github.com/jdepoix/youtube-transcript-api/issues. Please add which version of youtube_transcript_api you are using and provide the information needed to replicate the error. Also make sure that there are no open issues which already describe your problem!\n",
      "Could not retrieve transcript for video watch?v=lW58TC0ikXY: \n",
      "Could not retrieve a transcript for the video https://www.youtube.com/watch?v=watch?v=lW58TC0ikXY! This is most likely caused by:\n",
      "\n",
      "Subtitles are disabled for this video\n",
      "\n",
      "If you are sure that the described cause is not responsible for this error and that a transcript should be retrievable, please create an issue at https://github.com/jdepoix/youtube-transcript-api/issues. Please add which version of youtube_transcript_api you are using and provide the information needed to replicate the error. Also make sure that there are no open issues which already describe your problem!\n",
      "Could not retrieve transcript for video UCLRlRArEpJUc6fdGfeokVWg: \n",
      "Could not retrieve a transcript for the video https://www.youtube.com/watch?v=UCLRlRArEpJUc6fdGfeokVWg! This is most likely caused by:\n",
      "\n",
      "Subtitles are disabled for this video\n",
      "\n",
      "If you are sure that the described cause is not responsible for this error and that a transcript should be retrievable, please create an issue at https://github.com/jdepoix/youtube-transcript-api/issues. Please add which version of youtube_transcript_api you are using and provide the information needed to replicate the error. Also make sure that there are no open issues which already describe your problem!\n"
     ]
    }
   ],
   "source": [
    "import requests\n",
    "from bs4 import BeautifulSoup\n",
    "from youtube_transcript_api import YouTubeTranscriptApi\n",
    "\n",
    "# This is a hypothetical URL since direct access is not possible in this environment\n",
    "url = \"https://mimuw-hackathon.optibook.net/?page=lectures\"\n",
    "\n",
    "# Send a GET request to the website\n",
    "response = requests.get(url)\n",
    "\n",
    "# Parse the HTML content of the page\n",
    "soup = BeautifulSoup(response.text, \"html.parser\")\n",
    "\n",
    "# Find all YouTube video links (this will depend on the structure of the webpage)\n",
    "video_links = soup.find_all(\n",
    "    \"a\", href=True\n",
    ")  # You need to adjust this to find the correct links\n",
    "\n",
    "# Extract the video IDs from the links\n",
    "video_ids = [\n",
    "    link[\"href\"].split(\"/\")[-1] for link in video_links if \"youtube.com\" in link[\"href\"]\n",
    "]\n",
    "\n",
    "# Iterate over video IDs and print their transcripts\n",
    "for video_id in video_ids:\n",
    "    try:\n",
    "        # Fetch the transcript\n",
    "        transcript = YouTubeTranscriptApi.get_transcript(video_id)\n",
    "\n",
    "        # Print the transcript\n",
    "        print(f\"Transcript for video {video_id}:\")\n",
    "        for entry in transcript:\n",
    "            print(entry[\"text\"])\n",
    "    except Exception as e:\n",
    "        print(f\"Could not retrieve transcript for video {video_id}: {e}\")"
   ]
  },
  {
   "cell_type": "code",
   "execution_count": 2,
   "metadata": {},
   "outputs": [
    {
     "ename": "ModuleNotFoundError",
     "evalue": "No module named 'sklearn'",
     "output_type": "error",
     "traceback": [
      "\u001b[0;31m---------------------------------------------------------------------------\u001b[0m",
      "\u001b[0;31mModuleNotFoundError\u001b[0m                       Traceback (most recent call last)",
      "\u001b[1;32m/home/janek/kurs_python/sandbox.ipynb Cell 6\u001b[0m line \u001b[0;36m1\n\u001b[0;32m----> <a href='vscode-notebook-cell:/home/janek/kurs_python/sandbox.ipynb#W5sZmlsZQ%3D%3D?line=0'>1</a>\u001b[0m \u001b[39mfrom\u001b[39;00m \u001b[39msklearn\u001b[39;00m\u001b[39m.\u001b[39;00m\u001b[39mlinear_model\u001b[39;00m \u001b[39mimport\u001b[39;00m LinearRegression\n\u001b[1;32m      <a href='vscode-notebook-cell:/home/janek/kurs_python/sandbox.ipynb#W5sZmlsZQ%3D%3D?line=1'>2</a>\u001b[0m \u001b[39mimport\u001b[39;00m \u001b[39mpandas\u001b[39;00m \u001b[39mas\u001b[39;00m \u001b[39mpd\u001b[39;00m\n\u001b[1;32m      <a href='vscode-notebook-cell:/home/janek/kurs_python/sandbox.ipynb#W5sZmlsZQ%3D%3D?line=3'>4</a>\u001b[0m \u001b[39m# Load your data into a Pandas DataFrame\u001b[39;00m\n",
      "\u001b[0;31mModuleNotFoundError\u001b[0m: No module named 'sklearn'"
     ]
    }
   ],
   "source": [
    "from sklearn.linear_model import LinearRegression\n",
    "import pandas as pd\n",
    "\n",
    "# Load your data into a Pandas DataFrame\n",
    "data = pd.read_csv(\"fsa_case_train.csv\")\n",
    "\n",
    "# Assuming 'TSLA_VOL' is the column with Tesla's volatility that we want to predict\n",
    "X = data[\n",
    "    [\n",
    "        \"CONS_CONF\",\n",
    "        \"MACRO_VOL\",\n",
    "        \"OIL\",\n",
    "        \"YIELDS\",\n",
    "        \"ELECTRICITY\",\n",
    "        \"FORD_VOL\",\n",
    "        \"BTC_VOL\",\n",
    "        \"MUSK_POP\",\n",
    "        \"CURRENCY_VOL\",\n",
    "    ]\n",
    "]\n",
    "y = data[\"TSLA_VOL\"]\n",
    "\n",
    "# Create and fit the model\n",
    "model = LinearRegression().fit(X, y)\n",
    "\n",
    "# The model's coefficients and intercept\n",
    "coefficients = model.coef_\n",
    "intercept = model.intercept_\n",
    "\n",
    "# Now you can fill in the algorithm's model data\n",
    "model_data = {\n",
    "    \"intercept\": intercept,\n",
    "    \"features\": list(zip(coefficients, X.columns, [lambda x: x for _ in X.columns])),\n",
    "}\n",
    "\n",
    "# Use the model data to make predictions and trade\n",
    "trade_prediction(model_data)"
   ]
  },
  {
   "cell_type": "code",
   "execution_count": 2,
   "metadata": {},
   "outputs": [
    {
     "data": {
      "text/plain": [
       "7227418342505792073"
      ]
     },
     "execution_count": 2,
     "metadata": {},
     "output_type": "execute_result"
    }
   ],
   "source": [
    "# Constants for the linear congruential generator\n",
    "a = 81853448938945944\n",
    "m = 9223372036854775783\n",
    "c = (6004589261158798275 - 5587592111041854128 * a) % m\n",
    "\n",
    "# The last value in the provided sequence\n",
    "last_value = 5124683712277888996\n",
    "\n",
    "# Calculating the next value in the sequence\n",
    "next_value = (last_value * a + c) % m\n",
    "next_value"
   ]
  },
  {
   "cell_type": "code",
   "execution_count": 11,
   "metadata": {},
   "outputs": [
    {
     "name": "stdout",
     "output_type": "stream",
     "text": [
      "906588945260970767\n"
     ]
    }
   ],
   "source": [
    "# 8134181504475164120a + 8134181504475164120 - 9185641106838980660a = 3202012194898794391\n",
    "a = 906588945260970767\n",
    "c = (8134181504475164120 - 9185641106838980660 * a) % 9223372036854775783\n",
    "# 1051459602363816540a = 4932169309576369729\n",
    "# The last value in the provided sequence\n",
    "last_value = 3202012194898794391\n",
    "\n",
    "# Calculating the next value in the sequence\n",
    "next_value = (last_value * a + c) % m\n",
    "next_value\n",
    "print(a)"
   ]
  },
  {
   "cell_type": "code",
   "execution_count": 10,
   "metadata": {},
   "outputs": [
    {
     "data": {
      "text/plain": [
       "906588945260970767"
      ]
     },
     "execution_count": 10,
     "metadata": {},
     "output_type": "execute_result"
    }
   ],
   "source": [
    "pow(1051459602363816540, -1, 9223372036854775783)\n",
    "# 3202012194898794391 - 8134181504475164120"
   ]
  },
  {
   "cell_type": "code",
   "execution_count": 16,
   "metadata": {},
   "outputs": [
    {
     "name": "stdout",
     "output_type": "stream",
     "text": [
      "a764a746d509569469df41507d411c891482e0e11d5d81d9ead1867430cec53aee435979cba16188bbd2d5d511f53804705a57ee0912a560b2a2d279a55e9239\n"
     ]
    }
   ],
   "source": [
    "def xor(a, b):\n",
    "    return bytes(ac ^ bc for ac, bc in zip(a, b))\n",
    "\n",
    "\n",
    "iv = bytes.fromhex(\"a764a746d509569469df4741755b0689\")\n",
    "ct0 = bytes.fromhex(\"1482e0e11d5d81d9ead1806538d4df3a\")\n",
    "a = ct0\n",
    "ct1 = bytes.fromhex(\"ee435979cba16188bbd2d5d511f53804\")\n",
    "ct2 = bytes.fromhex(\"705a57ee0912a560b2a2d279a55e9239\")\n",
    "x = xor(b\"guest\", b\"admin\")\n",
    "ct0 = ct0[:10] + xor(ct0[10:15], x) + ct0[-1:]\n",
    "x = xor(a, ct0)\n",
    "iv = xor(iv, x)\n",
    "res = iv + ct0 + ct1 + ct2\n",
    "# a = bytes.fromhex()\n",
    "\n",
    "print((res).hex())\n",
    "\n",
    "# a = bytes.fromhex(\n",
    "#     \"f4ebcf5ffdb4d724c2bbe2d86c5c894e\"\n",
    "#     # \"000000000000000000000000000006140412150000000000000000000000000000000000000000\"\n",
    "# )\n",
    "# b = bytes.fromhex(\n",
    "#     \"b4985efd0dd5ae48f4d7fb2cf440f628\"\n",
    "#     # \"000000000000000000000000000002020202020000000000000000000000000000000000000000\n",
    "# )\n",
    "# # aaaaaaaaaaaaaaaaaaaaaaaaaaaaaaaaaaaaaaaaaaaaaaaaaaaaaaaaaaaaaaaaaaaaaaaaaaaaaaaaaaaaaaaaaaaaa\n",
    "# # bbbbbbbbbbbbbbbbbbbbbbbbbbbbbbbbbbbbbbbbbbbbbbbbbbbbbbbbbbbbbbbbbbbbbbbbbbbbbbbbbbbbbbbbbbbbb\n",
    "# print(xor(a, b).hex())\n",
    "# c = \"7b22757365726e616d65223a2022757365726f6e65222c202269735f6775657374223a20747275657d\"\n",
    "# d = \"7b22757365726e616d65223a20227573657274776f222c202269735f6775657374223a20747275657d\"\n",
    "# # print(xor(c, d).hex())"
   ]
  },
  {
   "cell_type": "code",
   "execution_count": 1,
   "metadata": {},
   "outputs": [
    {
     "name": "stdout",
     "output_type": "stream",
     "text": [
      "Downloaded: RA230218.7z\n",
      "Downloaded: RA230706.7z\n",
      "Downloaded: RA230707.7z\n",
      "Downloaded: RA230106.7z\n",
      "Downloaded: RA230817.7z\n",
      "Downloaded: RA230701.7z\n",
      "Downloaded: RA230515.7z\n",
      "Downloaded: RA230606.7z\n",
      "Downloaded: RA230910.7z\n",
      "Downloaded: RA230409.7z\n",
      "Downloaded: RA230818.7z\n",
      "Downloaded: RA230729.7z\n",
      "Downloaded: RA230309.7z\n",
      "Downloaded: RA231207.7z\n",
      "Downloaded: RA230101.7z\n",
      "Downloaded: RA230415.7z\n",
      "Downloaded: RA230722.7z\n",
      "Downloaded: RA230717.7z\n",
      "Downloaded: RA231117.7z\n",
      "Downloaded: RA230410.7z\n",
      "Downloaded: RA230608.7z\n",
      "Downloaded: RA230314.7z\n",
      "Downloaded: RA230425.7z\n",
      "Downloaded: RA240105.7z\n",
      "Downloaded: RA231208.7z\n",
      "Downloaded: RA231204.7z\n",
      "Downloaded: RA230710.7z\n",
      "Downloaded: RA230321.7z\n",
      "Downloaded: RA240217.7z\n",
      "Downloaded: RA231120.7z\n",
      "Downloaded: RA230624.7z\n",
      "Downloaded: RA240103.7z\n",
      "Downloaded: RA240122.7z\n",
      "Downloaded: RA230506.7z\n",
      "Downloaded: RA240125.7z\n",
      "Downloaded: RA231018.7z\n",
      "Downloaded: RA230311.7z\n",
      "Downloaded: RA230327.7z\n",
      "Downloaded: RA230517.7z\n",
      "Downloaded: RA240129.7z\n",
      "Downloaded: RA230317.7z\n",
      "Downloaded: RA230423.7z\n",
      "Downloaded: RA230716.7z\n",
      "Downloaded: RA231119.7z\n",
      "Downloaded: RA230102.7z\n",
      "Downloaded: RA231106.7z\n",
      "Downloaded: RA230605.7z\n",
      "Downloaded: RA230119.7z\n",
      "Downloaded: RA230907.7z\n",
      "Downloaded: RA231007.7z\n",
      "Downloaded: RA240106.7z\n",
      "Downloaded: RA240218.7z\n",
      "Downloaded: RA230902.7z\n",
      "Downloaded: RA230924.7z\n",
      "Downloaded: RA230329.7z\n",
      "Downloaded: RA231011.7z\n",
      "Downloaded: RA230612.7z\n",
      "Downloaded: RA230411.7z\n",
      "Downloaded: RA230922.7z\n",
      "Downloaded: RA231021.7z\n",
      "Downloaded: RA231214.7z\n",
      "Downloaded: RA240212.7z\n",
      "Downloaded: RA230916.7z\n",
      "Downloaded: RA230801.7z\n",
      "Downloaded: RA230128.7z\n",
      "Downloaded: RA231125.7z\n",
      "Downloaded: RA231226.7z\n",
      "Downloaded: RA230709.7z\n",
      "Downloaded: RA230419.7z\n",
      "Downloaded: RA230216.7z\n",
      "Downloaded: RA230808.7z\n",
      "Downloaded: RA230811.7z\n",
      "Downloaded: RA230918.7z\n",
      "Downloaded: RA230123.7z\n",
      "Downloaded: RA230322.7z\n",
      "Downloaded: RA230906.7z\n",
      "Downloaded: RA240102.7z\n",
      "Downloaded: RA230424.7z\n",
      "Downloaded: RA230503.7z\n",
      "Downloaded: RA230512.7z\n",
      "Downloaded: RA240114.7z\n",
      "Downloaded: RA230823.7z\n",
      "Downloaded: RA240119.7z\n",
      "Downloaded: RA230405.7z\n",
      "Downloaded: RA230227.7z\n",
      "Downloaded: RA230715.7z\n",
      "Downloaded: RA230611.7z\n",
      "Downloaded: RA230923.7z\n",
      "Downloaded: RA230623.7z\n",
      "Downloaded: RA230727.7z\n",
      "Downloaded: RA230406.7z\n",
      "Downloaded: RA231216.7z\n",
      "Downloaded: RA230614.7z\n",
      "Downloaded: RA231025.7z\n",
      "Downloaded: RA230721.7z\n",
      "Downloaded: RA230505.7z\n",
      "Downloaded: RA230221.7z\n",
      "Downloaded: RA230206.7z\n",
      "Downloaded: RA230325.7z\n",
      "Downloaded: RA231205.7z\n",
      "Downloaded: RA230418.7z\n",
      "Downloaded: RA230528.7z\n",
      "Downloaded: RA231017.7z\n",
      "Downloaded: RA230822.7z\n",
      "Downloaded: RA230529.7z\n",
      "Downloaded: RA230108.7z\n",
      "Downloaded: RA231231.7z\n",
      "Downloaded: RA230514.7z\n",
      "Downloaded: RA240131.7z\n",
      "Downloaded: RA240128.7z\n",
      "Downloaded: RA230625.7z\n",
      "Downloaded: RA231222.7z\n",
      "Downloaded: RA231218.7z\n",
      "Downloaded: RA230610.7z\n",
      "Downloaded: RA231030.7z\n",
      "Downloaded: RA230509.7z\n"
     ]
    },
    {
     "ename": "error_perm",
     "evalue": "550 2021: Not a regular file",
     "output_type": "error",
     "traceback": [
      "\u001b[0;31m---------------------------------------------------------------------------\u001b[0m",
      "\u001b[0;31merror_perm\u001b[0m                                Traceback (most recent call last)",
      "Cell \u001b[0;32mIn[1], line 27\u001b[0m\n\u001b[1;32m     24\u001b[0m ftp_host \u001b[38;5;241m=\u001b[39m \u001b[38;5;124m\"\u001b[39m\u001b[38;5;124mrozklady.ztm.waw.pl\u001b[39m\u001b[38;5;124m\"\u001b[39m\n\u001b[1;32m     25\u001b[0m local_dir \u001b[38;5;241m=\u001b[39m \u001b[38;5;124m\"\u001b[39m\u001b[38;5;124mztm_data\u001b[39m\u001b[38;5;124m\"\u001b[39m\n\u001b[0;32m---> 27\u001b[0m \u001b[43mdownload_ftp_files\u001b[49m\u001b[43m(\u001b[49m\u001b[43mftp_host\u001b[49m\u001b[43m,\u001b[49m\u001b[43m \u001b[49m\u001b[43mlocal_dir\u001b[49m\u001b[43m)\u001b[49m\n",
      "Cell \u001b[0;32mIn[1], line 16\u001b[0m, in \u001b[0;36mdownload_ftp_files\u001b[0;34m(ftp_host, local_dir)\u001b[0m\n\u001b[1;32m     14\u001b[0m     local_filepath \u001b[38;5;241m=\u001b[39m os\u001b[38;5;241m.\u001b[39mpath\u001b[38;5;241m.\u001b[39mjoin(local_dir, filename)\n\u001b[1;32m     15\u001b[0m     \u001b[38;5;28;01mwith\u001b[39;00m \u001b[38;5;28mopen\u001b[39m(local_filepath, \u001b[38;5;124m\"\u001b[39m\u001b[38;5;124mwb\u001b[39m\u001b[38;5;124m\"\u001b[39m) \u001b[38;5;28;01mas\u001b[39;00m local_file:\n\u001b[0;32m---> 16\u001b[0m         \u001b[43mftp\u001b[49m\u001b[38;5;241;43m.\u001b[39;49m\u001b[43mretrbinary\u001b[49m\u001b[43m(\u001b[49m\u001b[38;5;124;43m\"\u001b[39;49m\u001b[38;5;124;43mRETR \u001b[39;49m\u001b[38;5;124;43m\"\u001b[39;49m\u001b[43m \u001b[49m\u001b[38;5;241;43m+\u001b[39;49m\u001b[43m \u001b[49m\u001b[43mfilename\u001b[49m\u001b[43m,\u001b[49m\u001b[43m \u001b[49m\u001b[43mlocal_file\u001b[49m\u001b[38;5;241;43m.\u001b[39;49m\u001b[43mwrite\u001b[49m\u001b[43m)\u001b[49m\n\u001b[1;32m     17\u001b[0m     \u001b[38;5;28mprint\u001b[39m(\u001b[38;5;124mf\u001b[39m\u001b[38;5;124m\"\u001b[39m\u001b[38;5;124mDownloaded: \u001b[39m\u001b[38;5;132;01m{\u001b[39;00mfilename\u001b[38;5;132;01m}\u001b[39;00m\u001b[38;5;124m\"\u001b[39m)\n\u001b[1;32m     19\u001b[0m ftp\u001b[38;5;241m.\u001b[39mquit()\n",
      "File \u001b[0;32m/usr/lib/python3.10/ftplib.py:436\u001b[0m, in \u001b[0;36mFTP.retrbinary\u001b[0;34m(self, cmd, callback, blocksize, rest)\u001b[0m\n\u001b[1;32m    422\u001b[0m \u001b[38;5;250m\u001b[39m\u001b[38;5;124;03m\"\"\"Retrieve data in binary mode.  A new port is created for you.\u001b[39;00m\n\u001b[1;32m    423\u001b[0m \n\u001b[1;32m    424\u001b[0m \u001b[38;5;124;03mArgs:\u001b[39;00m\n\u001b[0;32m   (...)\u001b[0m\n\u001b[1;32m    433\u001b[0m \u001b[38;5;124;03m  The response code.\u001b[39;00m\n\u001b[1;32m    434\u001b[0m \u001b[38;5;124;03m\"\"\"\u001b[39;00m\n\u001b[1;32m    435\u001b[0m \u001b[38;5;28mself\u001b[39m\u001b[38;5;241m.\u001b[39mvoidcmd(\u001b[38;5;124m'\u001b[39m\u001b[38;5;124mTYPE I\u001b[39m\u001b[38;5;124m'\u001b[39m)\n\u001b[0;32m--> 436\u001b[0m \u001b[38;5;28;01mwith\u001b[39;00m \u001b[38;5;28;43mself\u001b[39;49m\u001b[38;5;241;43m.\u001b[39;49m\u001b[43mtransfercmd\u001b[49m\u001b[43m(\u001b[49m\u001b[43mcmd\u001b[49m\u001b[43m,\u001b[49m\u001b[43m \u001b[49m\u001b[43mrest\u001b[49m\u001b[43m)\u001b[49m \u001b[38;5;28;01mas\u001b[39;00m conn:\n\u001b[1;32m    437\u001b[0m     \u001b[38;5;28;01mwhile\u001b[39;00m \u001b[38;5;241m1\u001b[39m:\n\u001b[1;32m    438\u001b[0m         data \u001b[38;5;241m=\u001b[39m conn\u001b[38;5;241m.\u001b[39mrecv(blocksize)\n",
      "File \u001b[0;32m/usr/lib/python3.10/ftplib.py:393\u001b[0m, in \u001b[0;36mFTP.transfercmd\u001b[0;34m(self, cmd, rest)\u001b[0m\n\u001b[1;32m    391\u001b[0m \u001b[38;5;28;01mdef\u001b[39;00m \u001b[38;5;21mtransfercmd\u001b[39m(\u001b[38;5;28mself\u001b[39m, cmd, rest\u001b[38;5;241m=\u001b[39m\u001b[38;5;28;01mNone\u001b[39;00m):\n\u001b[1;32m    392\u001b[0m \u001b[38;5;250m    \u001b[39m\u001b[38;5;124;03m\"\"\"Like ntransfercmd() but returns only the socket.\"\"\"\u001b[39;00m\n\u001b[0;32m--> 393\u001b[0m     \u001b[38;5;28;01mreturn\u001b[39;00m \u001b[38;5;28;43mself\u001b[39;49m\u001b[38;5;241;43m.\u001b[39;49m\u001b[43mntransfercmd\u001b[49m\u001b[43m(\u001b[49m\u001b[43mcmd\u001b[49m\u001b[43m,\u001b[49m\u001b[43m \u001b[49m\u001b[43mrest\u001b[49m\u001b[43m)\u001b[49m[\u001b[38;5;241m0\u001b[39m]\n",
      "File \u001b[0;32m/usr/lib/python3.10/ftplib.py:359\u001b[0m, in \u001b[0;36mFTP.ntransfercmd\u001b[0;34m(self, cmd, rest)\u001b[0m\n\u001b[1;32m    357\u001b[0m \u001b[38;5;28;01mif\u001b[39;00m rest \u001b[38;5;129;01mis\u001b[39;00m \u001b[38;5;129;01mnot\u001b[39;00m \u001b[38;5;28;01mNone\u001b[39;00m:\n\u001b[1;32m    358\u001b[0m     \u001b[38;5;28mself\u001b[39m\u001b[38;5;241m.\u001b[39msendcmd(\u001b[38;5;124m\"\u001b[39m\u001b[38;5;124mREST \u001b[39m\u001b[38;5;132;01m%s\u001b[39;00m\u001b[38;5;124m\"\u001b[39m \u001b[38;5;241m%\u001b[39m rest)\n\u001b[0;32m--> 359\u001b[0m resp \u001b[38;5;241m=\u001b[39m \u001b[38;5;28;43mself\u001b[39;49m\u001b[38;5;241;43m.\u001b[39;49m\u001b[43msendcmd\u001b[49m\u001b[43m(\u001b[49m\u001b[43mcmd\u001b[49m\u001b[43m)\u001b[49m\n\u001b[1;32m    360\u001b[0m \u001b[38;5;66;03m# Some servers apparently send a 200 reply to\u001b[39;00m\n\u001b[1;32m    361\u001b[0m \u001b[38;5;66;03m# a LIST or STOR command, before the 150 reply\u001b[39;00m\n\u001b[1;32m    362\u001b[0m \u001b[38;5;66;03m# (and way before the 226 reply). This seems to\u001b[39;00m\n\u001b[1;32m    363\u001b[0m \u001b[38;5;66;03m# be in violation of the protocol (which only allows\u001b[39;00m\n\u001b[1;32m    364\u001b[0m \u001b[38;5;66;03m# 1xx or error messages for LIST), so we just discard\u001b[39;00m\n\u001b[1;32m    365\u001b[0m \u001b[38;5;66;03m# this response.\u001b[39;00m\n\u001b[1;32m    366\u001b[0m \u001b[38;5;28;01mif\u001b[39;00m resp[\u001b[38;5;241m0\u001b[39m] \u001b[38;5;241m==\u001b[39m \u001b[38;5;124m'\u001b[39m\u001b[38;5;124m2\u001b[39m\u001b[38;5;124m'\u001b[39m:\n",
      "File \u001b[0;32m/usr/lib/python3.10/ftplib.py:281\u001b[0m, in \u001b[0;36mFTP.sendcmd\u001b[0;34m(self, cmd)\u001b[0m\n\u001b[1;32m    279\u001b[0m \u001b[38;5;250m\u001b[39m\u001b[38;5;124;03m'''Send a command and return the response.'''\u001b[39;00m\n\u001b[1;32m    280\u001b[0m \u001b[38;5;28mself\u001b[39m\u001b[38;5;241m.\u001b[39mputcmd(cmd)\n\u001b[0;32m--> 281\u001b[0m \u001b[38;5;28;01mreturn\u001b[39;00m \u001b[38;5;28;43mself\u001b[39;49m\u001b[38;5;241;43m.\u001b[39;49m\u001b[43mgetresp\u001b[49m\u001b[43m(\u001b[49m\u001b[43m)\u001b[49m\n",
      "File \u001b[0;32m/usr/lib/python3.10/ftplib.py:254\u001b[0m, in \u001b[0;36mFTP.getresp\u001b[0;34m(self)\u001b[0m\n\u001b[1;32m    252\u001b[0m     \u001b[38;5;28;01mraise\u001b[39;00m error_temp(resp)\n\u001b[1;32m    253\u001b[0m \u001b[38;5;28;01mif\u001b[39;00m c \u001b[38;5;241m==\u001b[39m \u001b[38;5;124m'\u001b[39m\u001b[38;5;124m5\u001b[39m\u001b[38;5;124m'\u001b[39m:\n\u001b[0;32m--> 254\u001b[0m     \u001b[38;5;28;01mraise\u001b[39;00m error_perm(resp)\n\u001b[1;32m    255\u001b[0m \u001b[38;5;28;01mraise\u001b[39;00m error_proto(resp)\n",
      "\u001b[0;31merror_perm\u001b[0m: 550 2021: Not a regular file"
     ]
    }
   ],
   "source": [
    "import os\n",
    "import ftplib\n",
    "\n",
    "\n",
    "def download_ftp_files(ftp_host, local_dir):\n",
    "    ftp = ftplib.FTP(ftp_host)\n",
    "    ftp.login()  # Logging in anonymously\n",
    "    files = ftp.nlst()\n",
    "\n",
    "    if not os.path.exists(local_dir):\n",
    "        os.makedirs(local_dir)\n",
    "\n",
    "    for filename in files:\n",
    "        local_filepath = os.path.join(local_dir, filename)\n",
    "        with open(local_filepath, \"wb\") as local_file:\n",
    "            ftp.retrbinary(\"RETR \" + filename, local_file.write)\n",
    "        print(f\"Downloaded: {filename}\")\n",
    "\n",
    "    ftp.quit()\n",
    "    print(\"All files downloaded.\")\n",
    "\n",
    "\n",
    "# FTP server details\n",
    "ftp_host = \"rozklady.ztm.waw.pl\"\n",
    "local_dir = \"ztm_data\"\n",
    "\n",
    "download_ftp_files(ftp_host, local_dir)"
   ]
  },
  {
   "cell_type": "code",
   "execution_count": 4,
   "metadata": {},
   "outputs": [
    {
     "name": "stdout",
     "output_type": "stream",
     "text": [
      "Section TY has 33 lines of data.\n",
      "Section KA has 580 lines of data.\n",
      "Section KD has 251 lines of data.\n",
      "Section ZA has 2816 lines of data.\n",
      "Section ZP has 1 lines of data.\n",
      "Section PR has 4 lines of data.\n",
      "Section SM has 337 lines of data.\n",
      "Section LL has 1 lines of data.\n",
      "Section TR has 1 lines of data.\n",
      "Section LW has 6 lines of data.\n",
      "Section RP has 1 lines of data.\n",
      "Section TD has 1 lines of data.\n",
      "Section WG has 19 lines of data.\n",
      "Section OD has 74 lines of data.\n",
      "Section OP has 2 lines of data.\n",
      "Section WK has 2024 lines of data.\n"
     ]
    }
   ],
   "source": [
    "def parse_file(filename):\n",
    "    sections = {}\n",
    "    current_section = None\n",
    "    current_subsection = None\n",
    "    data_lines = []\n",
    "\n",
    "    with open(filename, \"r\", encoding=\"ISO-8859-1\") as file:\n",
    "        for line in file:\n",
    "            line = line.strip()\n",
    "            if line.startswith(\"*\"):\n",
    "                if current_section:\n",
    "                    sections[current_section] = data_lines\n",
    "                    data_lines = []\n",
    "                current_section = line[1:3]\n",
    "            elif line.startswith(\"#\"):\n",
    "                if current_section:\n",
    "                    sections[current_section] = data_lines\n",
    "                    data_lines = []\n",
    "                    current_section = None\n",
    "            else:\n",
    "                if current_section:\n",
    "                    data_lines.append(line)\n",
    "\n",
    "    return sections\n",
    "\n",
    "\n",
    "def main():\n",
    "    filename = \"ztm_data/RA230101.TXT\"\n",
    "    sections = parse_file(filename)\n",
    "    for section, data in sections.items():\n",
    "        print(f\"Section {section} has {len(data)} lines of data.\")\n",
    "\n",
    "\n",
    "if __name__ == \"__main__\":\n",
    "    main()"
   ]
  }
 ],
 "metadata": {
  "kernelspec": {
   "display_name": "kurs-python-5MTEvg7X-py3.10",
   "language": "python",
   "name": "python3"
  },
  "language_info": {
   "codemirror_mode": {
    "name": "ipython",
    "version": 3
   },
   "file_extension": ".py",
   "mimetype": "text/x-python",
   "name": "python",
   "nbconvert_exporter": "python",
   "pygments_lexer": "ipython3",
   "version": "3.10.12"
  }
 },
 "nbformat": 4,
 "nbformat_minor": 2
}
