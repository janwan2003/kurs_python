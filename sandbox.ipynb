{
 "cells": [
  {
   "cell_type": "code",
   "execution_count": 1,
   "metadata": {},
   "outputs": [
    {
     "name": "stdout",
     "output_type": "stream",
     "text": [
      "[1, 2, 4, 3, 5]\n"
     ]
    }
   ],
   "source": [
    "def sort_5_elements(arr):\n",
    "    if arr[0] > arr[1]:\n",
    "        arr[0], arr[1] = arr[1], arr[0]\n",
    "    \n",
    "    if arr[3] > arr[4]:\n",
    "        arr[3], arr[4] = arr[4], arr[3]\n",
    "    \n",
    "    if arr[0] > arr[2]:\n",
    "        arr[0], arr[2] = arr[2], arr[0]\n",
    "    \n",
    "    if arr[1] > arr[2]:\n",
    "        arr[1], arr[2] = arr[2], arr[1]\n",
    "    \n",
    "    if arr[0] > arr[3]:\n",
    "        arr[0], arr[3] = arr[3], arr[0]\n",
    "    \n",
    "    if arr[2] > arr[4]:\n",
    "        arr[2], arr[4] = arr[4], arr[2]\n",
    "    \n",
    "    if arr[1] > arr[3]:\n",
    "        arr[1], arr[3] = arr[3], arr[1]\n",
    "\n",
    "    return arr\n",
    "\n",
    "# Example Usage\n",
    "arr = [5, 1, 3, 4, 2]\n",
    "sorted_arr = sort_5_elements(arr)\n",
    "print(sorted_arr)  # Output: [1, 2, 3, 4, 5]\n"
   ]
  },
  {
   "cell_type": "code",
   "execution_count": 8,
   "metadata": {},
   "outputs": [],
   "source": [
    "import PyPDF2\n",
    "\n",
    "with open(\"cechy.pdf\", \"rb\") as f:\n",
    "    pdf = PyPDF2.PdfReader(f)\n",
    "    text = []\n",
    "    for a in range(len(pdf.pages)):\n",
    "        text.append(pdf.pages[a].extract_text())\n",
    "\n",
    "\n",
    "# Save the extracted text to a new file\n",
    "with open(\"cechy_output.txt\", \"w\", encoding=\"utf-8\") as out:\n",
    "    out.write(\"\\n\".join(text))\n"
   ]
  },
  {
   "cell_type": "code",
   "execution_count": 1,
   "metadata": {},
   "outputs": [
    {
     "name": "stdout",
     "output_type": "stream",
     "text": [
      "<html>\n",
      "</html>\n",
      "\n"
     ]
    },
    {
     "name": "stderr",
     "output_type": "stream",
     "text": [
      "/home/janek/.cache/pypoetry/virtualenvs/kurs-python-5MTEvg7X-py3.10/lib/python3.10/site-packages/urllib3/connectionpool.py:1100: InsecureRequestWarning: Unverified HTTPS request is being made to host 'web.kazet.cc'. Adding certificate verification is strongly advised. See: https://urllib3.readthedocs.io/en/latest/advanced-usage.html#tls-warnings\n",
      "  warnings.warn(\n"
     ]
    }
   ],
   "source": [
    "import requests\n",
    "\n",
    "url = \"http://web.kazet.cc:80/\"\n",
    "\n",
    "try:\n",
    "    response = requests.get(url, verify=False)  # verify=False is used to skip SSL certificate verification\n",
    "    response.raise_for_status()  # Raise an HTTPError if the HTTP request returned an unsuccessful status code\n",
    "\n",
    "    print(response.text)\n",
    "except requests.RequestException as error:\n",
    "    print(f\"An error occurred: {error}\")\n"
   ]
  },
  {
   "cell_type": "code",
   "execution_count": 4,
   "metadata": {},
   "outputs": [
    {
     "name": "stdout",
     "output_type": "stream",
     "text": [
      "b'1ea280d7158321d266d5b8fb67ec7e17361224972017543ebe0f9e0da834a0f9'\n"
     ]
    }
   ],
   "source": [
    "import binascii\n",
    "import os\n",
    "SECRET_KEY = binascii.hexlify(os.urandom(32))\n",
    "print(SECRET_KEY)"
   ]
  },
  {
   "cell_type": "code",
   "execution_count": 1,
   "metadata": {},
   "outputs": [
    {
     "name": "stdout",
     "output_type": "stream",
     "text": [
      "Could not retrieve transcript for video watch?v=agJUYbpcXxY&authuser=0: \n",
      "Could not retrieve a transcript for the video https://www.youtube.com/watch?v=watch?v=agJUYbpcXxY&authuser=0! This is most likely caused by:\n",
      "\n",
      "Subtitles are disabled for this video\n",
      "\n",
      "If you are sure that the described cause is not responsible for this error and that a transcript should be retrievable, please create an issue at https://github.com/jdepoix/youtube-transcript-api/issues. Please add which version of youtube_transcript_api you are using and provide the information needed to replicate the error. Also make sure that there are no open issues which already describe your problem!\n",
      "Could not retrieve transcript for video watch?v=gNomxbBBIVA&authuser=0: \n",
      "Could not retrieve a transcript for the video https://www.youtube.com/watch?v=watch?v=gNomxbBBIVA&authuser=0! This is most likely caused by:\n",
      "\n",
      "Subtitles are disabled for this video\n",
      "\n",
      "If you are sure that the described cause is not responsible for this error and that a transcript should be retrievable, please create an issue at https://github.com/jdepoix/youtube-transcript-api/issues. Please add which version of youtube_transcript_api you are using and provide the information needed to replicate the error. Also make sure that there are no open issues which already describe your problem!\n",
      "Could not retrieve transcript for video watch?v=Yt-45z3reiw&authuser=0: \n",
      "Could not retrieve a transcript for the video https://www.youtube.com/watch?v=watch?v=Yt-45z3reiw&authuser=0! This is most likely caused by:\n",
      "\n",
      "Subtitles are disabled for this video\n",
      "\n",
      "If you are sure that the described cause is not responsible for this error and that a transcript should be retrievable, please create an issue at https://github.com/jdepoix/youtube-transcript-api/issues. Please add which version of youtube_transcript_api you are using and provide the information needed to replicate the error. Also make sure that there are no open issues which already describe your problem!\n",
      "Could not retrieve transcript for video watch?v=4isu0n1GOWU&authuser=0: \n",
      "Could not retrieve a transcript for the video https://www.youtube.com/watch?v=watch?v=4isu0n1GOWU&authuser=0! This is most likely caused by:\n",
      "\n",
      "Subtitles are disabled for this video\n",
      "\n",
      "If you are sure that the described cause is not responsible for this error and that a transcript should be retrievable, please create an issue at https://github.com/jdepoix/youtube-transcript-api/issues. Please add which version of youtube_transcript_api you are using and provide the information needed to replicate the error. Also make sure that there are no open issues which already describe your problem!\n",
      "Could not retrieve transcript for video watch?v=OFIwLbmqzY0&authuser=0: \n",
      "Could not retrieve a transcript for the video https://www.youtube.com/watch?v=watch?v=OFIwLbmqzY0&authuser=0! This is most likely caused by:\n",
      "\n",
      "Subtitles are disabled for this video\n",
      "\n",
      "If you are sure that the described cause is not responsible for this error and that a transcript should be retrievable, please create an issue at https://github.com/jdepoix/youtube-transcript-api/issues. Please add which version of youtube_transcript_api you are using and provide the information needed to replicate the error. Also make sure that there are no open issues which already describe your problem!\n",
      "Could not retrieve transcript for video watch?v=EU_1TNWPLbU: \n",
      "Could not retrieve a transcript for the video https://www.youtube.com/watch?v=watch?v=EU_1TNWPLbU! This is most likely caused by:\n",
      "\n",
      "Subtitles are disabled for this video\n",
      "\n",
      "If you are sure that the described cause is not responsible for this error and that a transcript should be retrievable, please create an issue at https://github.com/jdepoix/youtube-transcript-api/issues. Please add which version of youtube_transcript_api you are using and provide the information needed to replicate the error. Also make sure that there are no open issues which already describe your problem!\n",
      "Could not retrieve transcript for video watch?v=vfZ4g-O6ukQ: \n",
      "Could not retrieve a transcript for the video https://www.youtube.com/watch?v=watch?v=vfZ4g-O6ukQ! This is most likely caused by:\n",
      "\n",
      "Subtitles are disabled for this video\n",
      "\n",
      "If you are sure that the described cause is not responsible for this error and that a transcript should be retrievable, please create an issue at https://github.com/jdepoix/youtube-transcript-api/issues. Please add which version of youtube_transcript_api you are using and provide the information needed to replicate the error. Also make sure that there are no open issues which already describe your problem!\n",
      "Could not retrieve transcript for video watch?v=yAcrHSc9Poo: \n",
      "Could not retrieve a transcript for the video https://www.youtube.com/watch?v=watch?v=yAcrHSc9Poo! This is most likely caused by:\n",
      "\n",
      "Subtitles are disabled for this video\n",
      "\n",
      "If you are sure that the described cause is not responsible for this error and that a transcript should be retrievable, please create an issue at https://github.com/jdepoix/youtube-transcript-api/issues. Please add which version of youtube_transcript_api you are using and provide the information needed to replicate the error. Also make sure that there are no open issues which already describe your problem!\n",
      "Could not retrieve transcript for video watch?v=TL1AW2iKpnU: \n",
      "Could not retrieve a transcript for the video https://www.youtube.com/watch?v=watch?v=TL1AW2iKpnU! This is most likely caused by:\n",
      "\n",
      "Subtitles are disabled for this video\n",
      "\n",
      "If you are sure that the described cause is not responsible for this error and that a transcript should be retrievable, please create an issue at https://github.com/jdepoix/youtube-transcript-api/issues. Please add which version of youtube_transcript_api you are using and provide the information needed to replicate the error. Also make sure that there are no open issues which already describe your problem!\n",
      "Could not retrieve transcript for video watch?v=lW58TC0ikXY: \n",
      "Could not retrieve a transcript for the video https://www.youtube.com/watch?v=watch?v=lW58TC0ikXY! This is most likely caused by:\n",
      "\n",
      "Subtitles are disabled for this video\n",
      "\n",
      "If you are sure that the described cause is not responsible for this error and that a transcript should be retrievable, please create an issue at https://github.com/jdepoix/youtube-transcript-api/issues. Please add which version of youtube_transcript_api you are using and provide the information needed to replicate the error. Also make sure that there are no open issues which already describe your problem!\n",
      "Could not retrieve transcript for video UCLRlRArEpJUc6fdGfeokVWg: \n",
      "Could not retrieve a transcript for the video https://www.youtube.com/watch?v=UCLRlRArEpJUc6fdGfeokVWg! This is most likely caused by:\n",
      "\n",
      "Subtitles are disabled for this video\n",
      "\n",
      "If you are sure that the described cause is not responsible for this error and that a transcript should be retrievable, please create an issue at https://github.com/jdepoix/youtube-transcript-api/issues. Please add which version of youtube_transcript_api you are using and provide the information needed to replicate the error. Also make sure that there are no open issues which already describe your problem!\n"
     ]
    }
   ],
   "source": [
    "import requests\n",
    "from bs4 import BeautifulSoup\n",
    "from youtube_transcript_api import YouTubeTranscriptApi\n",
    "\n",
    "# This is a hypothetical URL since direct access is not possible in this environment\n",
    "url = \"https://mimuw-hackathon.optibook.net/?page=lectures\"\n",
    "\n",
    "# Send a GET request to the website\n",
    "response = requests.get(url)\n",
    "\n",
    "# Parse the HTML content of the page\n",
    "soup = BeautifulSoup(response.text, \"html.parser\")\n",
    "\n",
    "# Find all YouTube video links (this will depend on the structure of the webpage)\n",
    "video_links = soup.find_all(\n",
    "    \"a\", href=True\n",
    ")  # You need to adjust this to find the correct links\n",
    "\n",
    "# Extract the video IDs from the links\n",
    "video_ids = [\n",
    "    link[\"href\"].split(\"/\")[-1] for link in video_links if \"youtube.com\" in link[\"href\"]\n",
    "]\n",
    "\n",
    "# Iterate over video IDs and print their transcripts\n",
    "for video_id in video_ids:\n",
    "    try:\n",
    "        # Fetch the transcript\n",
    "        transcript = YouTubeTranscriptApi.get_transcript(video_id)\n",
    "\n",
    "        # Print the transcript\n",
    "        print(f\"Transcript for video {video_id}:\")\n",
    "        for entry in transcript:\n",
    "            print(entry[\"text\"])\n",
    "    except Exception as e:\n",
    "        print(f\"Could not retrieve transcript for video {video_id}: {e}\")"
   ]
  },
  {
   "cell_type": "code",
   "execution_count": 2,
   "metadata": {},
   "outputs": [
    {
     "ename": "ModuleNotFoundError",
     "evalue": "No module named 'sklearn'",
     "output_type": "error",
     "traceback": [
      "\u001b[0;31m---------------------------------------------------------------------------\u001b[0m",
      "\u001b[0;31mModuleNotFoundError\u001b[0m                       Traceback (most recent call last)",
      "\u001b[1;32m/home/janek/kurs_python/sandbox.ipynb Cell 6\u001b[0m line \u001b[0;36m1\n\u001b[0;32m----> <a href='vscode-notebook-cell:/home/janek/kurs_python/sandbox.ipynb#W5sZmlsZQ%3D%3D?line=0'>1</a>\u001b[0m \u001b[39mfrom\u001b[39;00m \u001b[39msklearn\u001b[39;00m\u001b[39m.\u001b[39;00m\u001b[39mlinear_model\u001b[39;00m \u001b[39mimport\u001b[39;00m LinearRegression\n\u001b[1;32m      <a href='vscode-notebook-cell:/home/janek/kurs_python/sandbox.ipynb#W5sZmlsZQ%3D%3D?line=1'>2</a>\u001b[0m \u001b[39mimport\u001b[39;00m \u001b[39mpandas\u001b[39;00m \u001b[39mas\u001b[39;00m \u001b[39mpd\u001b[39;00m\n\u001b[1;32m      <a href='vscode-notebook-cell:/home/janek/kurs_python/sandbox.ipynb#W5sZmlsZQ%3D%3D?line=3'>4</a>\u001b[0m \u001b[39m# Load your data into a Pandas DataFrame\u001b[39;00m\n",
      "\u001b[0;31mModuleNotFoundError\u001b[0m: No module named 'sklearn'"
     ]
    }
   ],
   "source": [
    "from sklearn.linear_model import LinearRegression\n",
    "import pandas as pd\n",
    "\n",
    "# Load your data into a Pandas DataFrame\n",
    "data = pd.read_csv(\"fsa_case_train.csv\")\n",
    "\n",
    "# Assuming 'TSLA_VOL' is the column with Tesla's volatility that we want to predict\n",
    "X = data[\n",
    "    [\n",
    "        \"CONS_CONF\",\n",
    "        \"MACRO_VOL\",\n",
    "        \"OIL\",\n",
    "        \"YIELDS\",\n",
    "        \"ELECTRICITY\",\n",
    "        \"FORD_VOL\",\n",
    "        \"BTC_VOL\",\n",
    "        \"MUSK_POP\",\n",
    "        \"CURRENCY_VOL\",\n",
    "    ]\n",
    "]\n",
    "y = data[\"TSLA_VOL\"]\n",
    "\n",
    "# Create and fit the model\n",
    "model = LinearRegression().fit(X, y)\n",
    "\n",
    "# The model's coefficients and intercept\n",
    "coefficients = model.coef_\n",
    "intercept = model.intercept_\n",
    "\n",
    "# Now you can fill in the algorithm's model data\n",
    "model_data = {\n",
    "    \"intercept\": intercept,\n",
    "    \"features\": list(zip(coefficients, X.columns, [lambda x: x for _ in X.columns])),\n",
    "}\n",
    "\n",
    "# Use the model data to make predictions and trade\n",
    "trade_prediction(model_data)"
   ]
  },
  {
   "cell_type": "code",
   "execution_count": 2,
   "metadata": {},
   "outputs": [
    {
     "data": {
      "text/plain": [
       "7227418342505792073"
      ]
     },
     "execution_count": 2,
     "metadata": {},
     "output_type": "execute_result"
    }
   ],
   "source": [
    "# Constants for the linear congruential generator\n",
    "a = 81853448938945944\n",
    "m = 9223372036854775783\n",
    "c = (6004589261158798275 - 5587592111041854128 * a) % m\n",
    "\n",
    "# The last value in the provided sequence\n",
    "last_value = 5124683712277888996\n",
    "\n",
    "# Calculating the next value in the sequence\n",
    "next_value = (last_value * a + c) % m\n",
    "next_value"
   ]
  },
  {
   "cell_type": "code",
   "execution_count": 11,
   "metadata": {},
   "outputs": [
    {
     "name": "stdout",
     "output_type": "stream",
     "text": [
      "906588945260970767\n"
     ]
    }
   ],
   "source": [
    "# 8134181504475164120a + 8134181504475164120 - 9185641106838980660a = 3202012194898794391\n",
    "a = 906588945260970767\n",
    "c = (8134181504475164120 - 9185641106838980660 * a) % 9223372036854775783\n",
    "# 1051459602363816540a = 4932169309576369729\n",
    "# The last value in the provided sequence\n",
    "last_value = 3202012194898794391\n",
    "\n",
    "# Calculating the next value in the sequence\n",
    "next_value = (last_value * a + c) % m\n",
    "next_value\n",
    "print(a)"
   ]
  },
  {
   "cell_type": "code",
   "execution_count": 10,
   "metadata": {},
   "outputs": [
    {
     "data": {
      "text/plain": [
       "906588945260970767"
      ]
     },
     "execution_count": 10,
     "metadata": {},
     "output_type": "execute_result"
    }
   ],
   "source": [
    "pow(1051459602363816540, -1, 9223372036854775783)\n",
    "# 3202012194898794391 - 8134181504475164120"
   ]
  },
  {
   "cell_type": "code",
   "execution_count": 23,
   "metadata": {},
   "outputs": [
    {
     "name": "stdout",
     "output_type": "stream",
     "text": [
      "000000000000000000000000000002020202020000000000000000000000000000000000000000\n"
     ]
    }
   ],
   "source": [
    "def xor(a, b):\n",
    "    return bytes(ac ^ bc for ac, bc in zip(a, b))\n",
    "\n",
    "\n",
    "a = bytes.fromhex(\n",
    "    \"41ef29e276c506be02cf9a9e7a3b36adda6048d4b7ac9ac5bf22a89f06ebebdf9a78cedc32eccc\"\n",
    "    # \"000000000000000000000000000006140412150000000000000000000000000000000000000000\"\n",
    ")\n",
    "b = bytes.fromhex(\n",
    "    \"41ef29e276c506be02cf9a9e7a3b34afd8624ad4b7ac9ac5bf22a89f06ebebdf9a78cedc32eccc\"\n",
    "    \"000000000000000000000000000002020202020000000000000000000000000000000000000000\n",
    ")\n",
    "print(xor(a, b).hex())\n",
    "c = \"7b22757365726e616d65223a2022757365726f6e65222c202269735f6775657374223a20747275657d\"\n",
    "d = \"7b22757365726e616d65223a20227573657274776f222c202269735f6775657374223a20747275657d\"\n",
    "# print(xor(c, d).hex())"
   ]
  }
 ],
 "metadata": {
  "kernelspec": {
   "display_name": "kurs-python-5MTEvg7X-py3.10",
   "language": "python",
   "name": "python3"
  },
  "language_info": {
   "codemirror_mode": {
    "name": "ipython",
    "version": 3
   },
   "file_extension": ".py",
   "mimetype": "text/x-python",
   "name": "python",
   "nbconvert_exporter": "python",
   "pygments_lexer": "ipython3",
   "version": "3.10.12"
  }
 },
 "nbformat": 4,
 "nbformat_minor": 2
}
