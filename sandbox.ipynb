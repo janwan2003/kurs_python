{
 "cells": [
  {
   "cell_type": "code",
   "execution_count": 1,
   "metadata": {},
   "outputs": [
    {
     "name": "stdout",
     "output_type": "stream",
     "text": [
      "[1, 2, 4, 3, 5]\n"
     ]
    }
   ],
   "source": [
    "def sort_5_elements(arr):\n",
    "    if arr[0] > arr[1]:\n",
    "        arr[0], arr[1] = arr[1], arr[0]\n",
    "    \n",
    "    if arr[3] > arr[4]:\n",
    "        arr[3], arr[4] = arr[4], arr[3]\n",
    "    \n",
    "    if arr[0] > arr[2]:\n",
    "        arr[0], arr[2] = arr[2], arr[0]\n",
    "    \n",
    "    if arr[1] > arr[2]:\n",
    "        arr[1], arr[2] = arr[2], arr[1]\n",
    "    \n",
    "    if arr[0] > arr[3]:\n",
    "        arr[0], arr[3] = arr[3], arr[0]\n",
    "    \n",
    "    if arr[2] > arr[4]:\n",
    "        arr[2], arr[4] = arr[4], arr[2]\n",
    "    \n",
    "    if arr[1] > arr[3]:\n",
    "        arr[1], arr[3] = arr[3], arr[1]\n",
    "\n",
    "    return arr\n",
    "\n",
    "# Example Usage\n",
    "arr = [5, 1, 3, 4, 2]\n",
    "sorted_arr = sort_5_elements(arr)\n",
    "print(sorted_arr)  # Output: [1, 2, 3, 4, 5]\n"
   ]
  },
  {
   "cell_type": "code",
   "execution_count": 8,
   "metadata": {},
   "outputs": [],
   "source": [
    "import PyPDF2\n",
    "\n",
    "with open(\"cechy.pdf\", \"rb\") as f:\n",
    "    pdf = PyPDF2.PdfReader(f)\n",
    "    text = []\n",
    "    for a in range(len(pdf.pages)):\n",
    "        text.append(pdf.pages[a].extract_text())\n",
    "\n",
    "\n",
    "# Save the extracted text to a new file\n",
    "with open(\"cechy_output.txt\", \"w\", encoding=\"utf-8\") as out:\n",
    "    out.write(\"\\n\".join(text))\n"
   ]
  },
  {
   "cell_type": "code",
   "execution_count": 4,
   "metadata": {},
   "outputs": [
    {
     "name": "stdout",
     "output_type": "stream",
     "text": [
      "b'1ea280d7158321d266d5b8fb67ec7e17361224972017543ebe0f9e0da834a0f9'\n"
     ]
    }
   ],
   "source": [
    "import binascii\n",
    "import os\n",
    "SECRET_KEY = binascii.hexlify(os.urandom(32))\n",
    "print(SECRET_KEY)"
   ]
  }
 ],
 "metadata": {
  "kernelspec": {
   "display_name": "kurs-python-5MTEvg7X-py3.10",
   "language": "python",
   "name": "python3"
  },
  "language_info": {
   "codemirror_mode": {
    "name": "ipython",
    "version": 3
   },
   "file_extension": ".py",
   "mimetype": "text/x-python",
   "name": "python",
   "nbconvert_exporter": "python",
   "pygments_lexer": "ipython3",
   "version": "3.10.12"
  }
 },
 "nbformat": 4,
 "nbformat_minor": 2
}
