{
    "cells": [
        {
            "cell_type": "markdown",
            "id": "4fade40e-e0ca-4d07-8427-f2a708d75076",
            "metadata": {},
            "source": [
                "# Elementy programowania funkcyjnego w Pythonie\n",
                "Programowanie funkcyjne to takie, w kt\u00f3rym zamiast dawa\u0107 przepisy jak kolejno zmienia\u0107 stan obiekt\u00f3w, aby doj\u015b\u0107 do stanu po\u017c\u0105danego (to jest esencja programowania imperatywnego), dajemy przepisy jak konstruowa\u0107 nowe warto\u015bci ze starych (zwykle u\u017cywaj\u0105c funkcji), aby doj\u015b\u0107 do warto\u015bci po\u017c\u0105danej. Elementami tego paradygmatu w Pythonie s\u0105 niezmienialne struktury danych, takie jak napisy, krotki, frozen_set-y itd, ale tak\u017ce dost\u0119pno\u015b\u0107 niekt\u00f3rych idiom\u00f3w programistycznych, charakterystycznych dla \"prawdziwych\" j\u0119zyk\u00f3w funkcyjnych, takich jak Haskell czy OCaml.\n",
                "\n",
                "W tym scenariuszu (i nast\u0119pnym) poznamy niekt\u00f3re z tych idiom\u00f3w, cz\u0119\u015b\u0107 z nich jest podobna do tego, co jest dost\u0119pne w Javie."
            ]
        },
        {
            "cell_type": "markdown",
            "id": "e59ce52c-01a6-4e80-8e8e-cef5d68a2588",
            "metadata": {},
            "source": [
                "## Funkcja map\n",
                "\n",
                "Maj\u0105c dan\u0105 list\u0119 czasem potrzebujemy przetworzy\u0107 jej elementy i wyniki tego przetworzenia zebra\u0107 do nowej listy. Za\u0142\u00f3\u017cmy, \u017ce potrzebujemy ka\u017cdemu napisowi na li\u015bcie przypisa\u0107 najwi\u0119ksz\u0105 liczb\u0119 parzyst\u0105 niewi\u0119ksz\u0105 ni\u017c d\u0142ugo\u015b\u0107 tego napisu."
            ]
        },
        {
            "cell_type": "code",
            "execution_count": null,
            "id": "7bc4f811-f091-43b0-9a13-984147d527e9",
            "metadata": {},
            "outputs": [],
            "source": [
                "def prawie_d\u0142ugo\u015b\u0107(s):\n",
                "    l = len(s)\n",
                "    if l % 2 == 1:\n",
                "        return l - 1\n",
                "    else:\n",
                "        return l\n",
                "\n",
                "print(prawie_d\u0142ugo\u015b\u0107(\"ala\"), prawie_d\u0142ugo\u015b\u0107(\"kota\"))"
            ]
        },
        {
            "cell_type": "markdown",
            "id": "02e2d17d-f083-4e93-990b-c19c9032b604",
            "metadata": {},
            "source": [
                "Samo przerabianie listy napis\u00f3w na odp. list\u0119 liczb mo\u017cna w Pythonie zrobi\u0107 na (co najmniej :) trzy r\u00f3\u017cne sposoby.\n",
                "### Spos\u00f3b 1 (tradycyjnie)"
            ]
        },
        {
            "cell_type": "code",
            "execution_count": null,
            "id": "4c10bc76-fa69-489a-9775-e8ab9b07ba35",
            "metadata": {},
            "outputs": [],
            "source": [
                "lista_napis\u00f3w = \"Ala zaadaptowa\u0142a strasznie zabawnego kota\".split()\n",
                "lista_napis\u00f3w"
            ]
        },
        {
            "cell_type": "code",
            "execution_count": null,
            "id": "89e68e6e-a0ae-40cc-a553-5ba9a2ea8bdf",
            "metadata": {},
            "outputs": [],
            "source": [
                "l = []\n",
                "for s in lista_napis\u00f3w:\n",
                "    l.append(prawie_d\u0142ugo\u015b\u0107(s))\n",
                "l"
            ]
        },
        {
            "cell_type": "markdown",
            "id": "2518edd7-98d4-4d42-9579-c6405813e2ed",
            "metadata": {},
            "source": [
                "Ten spos\u00f3b ma trzy linijki, z czego mniej wi\u0119cej dwie to boilerplate code, czyli kod \"nudny, niewiele wnosz\u0105cy, powtarzalny, za\u015bmiecaj\u0105cy i zaciemniaj\u0105cy czytelno\u015b\u0107 [...]. Mimo to nie mo\u017cna z niego zrezygnowa\u0107, poniewa\u017c jest zwyczajnie potrzebny, \u0142\u0105cz\u0105c w sp\u00f3jn\u0105 ca\u0142o\u015b\u0107 pozosta\u0142e fragmenty aplikacji.\" (\u017cr\u00f3d\u0142o: [pierwszy link z google'a](https://stormit.pl/boilerplate-code/)).\n",
                "\n",
                "Spos\u00f3b ten jest bardzo imperatywny w swej naturze - ka\u017cdy obr\u00f3t p\u0119tli zmiania stan obiektu (listy) przypisanego do zmiennej `l`.\n",
                "\n",
                "### Spos\u00f3b 2 (list comprehension)"
            ]
        },
        {
            "cell_type": "code",
            "execution_count": null,
            "id": "76403b3c-16af-47c5-97a3-7270b2d46a3d",
            "metadata": {},
            "outputs": [],
            "source": [
                "[prawie_d\u0142ugo\u015b\u0107(s) for s in lista_napis\u00f3w]"
            ]
        },
        {
            "cell_type": "markdown",
            "id": "23ad3dae-24a0-45fb-84a9-73c93f697fcd",
            "metadata": {},
            "source": [
                "Tutaj ju\u017c boilerplate ma tylko \u2153 linijki, wi\u0119c jest ca\u0142kowicie akceptowalny. Ju\u017c na pierwszy rzut oka wida\u0107, co ten kod robi. Nie ma tu te\u017c \u017cadnej \"zmiany stanu\", po prostu magicznie powstaje lista wynikowa o odpowiednio skonstruowanych elementach.\n",
                "### Spos\u00f3b 3 (funkcja map)"
            ]
        },
        {
            "cell_type": "code",
            "execution_count": null,
            "id": "786c3d26-8626-4284-9c20-b1588ff9c798",
            "metadata": {},
            "outputs": [],
            "source": [
                "list(map(prawie_d\u0142ugo\u015b\u0107, lista_napis\u00f3w))"
            ]
        },
        {
            "cell_type": "markdown",
            "id": "35fed6a6-101f-493e-b3dc-a618d2284f41",
            "metadata": {},
            "source": [
                "Pierwszym argumentem `map` jest funkcja, kt\u00f3ra b\u0119dzie zaaplikowana do ka\u017cdego elementu drugiego argumenty (czyli listy napis\u00f3w). Ale tak naprawd\u0119 drugi argument wcale nie musi by\u0107 list\u0105, byleby mia\u0142 elementy, kt\u00f3re mo\u017cna z niego \"wyci\u0105ga\u0107\" (tak jak np. `range(...)`, krotka, itp.). Wynikiem wywo\u0142ania funkcji `map` te\u017c nie jest lista, tylko iterator, podobny do np. `range(...)` (co ma swoje zalety i wady), z kt\u00f3rego mo\u017cna zrobi\u0107 list\u0119, u\u017cywaj\u0105c konwersji `list(...)`. Funkcja `map` jest jednym z najbardziej emblematycznych idiom\u00f3w programowania funkcyjnego.\n",
                "\n",
                "W naszym przyk\u0142adzie, funkcj\u0119, kt\u00f3r\u0105 chcemy zaaplikowa\u0107 do ka\u017cdego elementu listy, zdefiniowali\u015bmy wcze\u015bniej (zaj\u0119\u0142o nam to ca\u0142e 6 linijek ;) ale cz\u0119sto operacja, kt\u00f3r\u0105 chcemy zastosowa\u0107 jest albo bardzo prosta, albo zdefiniowana, ale \"nie do ko\u0144ca\". Na przyk\u0142ad je\u015bli chcieliby\u015bmy policzy\u0107 liczb\u0119 wyst\u0105pie\u0144 literki `a` w poszczeg\u00f3lnych napisach z listy, to mamy gotow\u0105 funkcj\u0119 `count`, ale musimy do niej do\u0142o\u017cy\u0107 informacj\u0119, \u017ce chodzi o literk\u0119 `a`. Tradycyjny spos\u00f3b to oczywi\u015bcie zdefiniowanie odpowiedniej funkcji:"
            ]
        },
        {
            "cell_type": "code",
            "execution_count": null,
            "id": "259028e3-c570-45c8-8a86-75c7c521834b",
            "metadata": {},
            "outputs": [],
            "source": [
                "def licz_a(s):\n",
                "    return s.count('a')"
            ]
        },
        {
            "cell_type": "markdown",
            "id": "ba7b1947-aec6-4a12-afaf-98041074db83",
            "metadata": {},
            "source": [
                "Ale mo\u017cna te\u017c u\u017cy\u0107 funkcji anonimowej, czyli tzw. *wyra\u017cenia lambda*.\n",
                "## Funkcje anonimowe"
            ]
        },
        {
            "cell_type": "code",
            "execution_count": null,
            "id": "631bf5f4-2ac8-49cd-8e9c-a173bc49d183",
            "metadata": {},
            "outputs": [],
            "source": [
                "list(map(lambda s: s.count('a'), lista_napis\u00f3w))"
            ]
        },
        {
            "cell_type": "markdown",
            "id": "79f89f3d-9664-4ef5-a75a-ccd1bdea610a",
            "metadata": {},
            "source": [
                "Funkcje anonimowe zajmuj\u0105 chyba pierwsze miejsce je\u015bli chodzi o skojarzenia z programowaniem funkcyjnym.  \n",
                "Sk\u0142adnia wyra\u017ce\u0144 lambda w Pythonie to `lambda <parametry>: <wyra\u017cenie>`, gdzie `<parametry>` to lista nazw parametr\u00f3w rozdzielonych przecinkami, kt\u00f3re to nazwy mog\u0105 oczywi\u015bcie wyst\u0119powa\u0107 w `<wyra\u017ceniu>`. Zdefiniowana funkcja jest taka jak w definicji:\n",
                "```\n",
                "def anonimowa(<parametry>):\n",
                "    return <wyra\u017cenie>\n",
                "```"
            ]
        },
        {
            "cell_type": "markdown",
            "id": "29a1a333-ce90-4949-8266-ccfda065bfac",
            "metadata": {
                "editable": true,
                "slideshow": {
                    "slide_type": ""
                },
                "tags": []
            },
            "source": [
                "### \u0106wiczenie 1\n",
                "Oblicz jeszcze raz list\u0119 \"prawie d\u0142ugo\u015bci\" napis\u00f3w na `li\u015bcie_napis\u00f3w` przy u\u017cyciu funkcji `map`, zapisuj\u0105c w\u0142asn\u0105 wersj\u0119 funkcji `prawie_d\u0142ugo\u015b\u0107` za pomoc\u0105 wyra\u017cenia lambda."
            ]
        },
        {
            "cell_type": "markdown",
            "id": "38585cca-f1f5-48a3-8739-f6a049fd68a3",
            "metadata": {},
            "source": [
                "----------\n",
                "Z punktu widzenia Pythona wyra\u017cenia lambda s\u0105 po prostu wyra\u017ceniami, czyli mog\u0105 wyst\u0119powa\u0107 we wszystkich fragmentach programu, tam gdzie pozosta\u0142e wyra\u017cenia np. `x+5`. Funkcje reprezentowane przez wyra\u017cenia lambda (a tak\u017ce na wszystkie inne sposoby, np. poprzez nazwy funkcji zdefiniowanych za pomoc\u0105 `def`) s\u0105 traktowane przez Python jak wszystkie inne obiekty: mo\u017cna je przypisywa\u0107 na zmienne, przekazywa\u0107 do innej funkcji, dawa\u0107 jako wynik funkcji, trzyma\u0107 na li\u015bcie albo w innych strukturach danych, itd."
            ]
        },
        {
            "cell_type": "code",
            "execution_count": null,
            "id": "32cca192-2a6b-489f-ab9a-72adb9618aa6",
            "metadata": {},
            "outputs": [],
            "source": [
                "import random\n",
                "\n",
                "def przez2(x):\n",
                "    return x//2\n",
                "\n",
                "operacje = [przez2, lambda x: x+1, lambda x: x-1, lambda x: 2*x]\n",
                "\n",
                "def losuj_operacj\u0119():\n",
                "    los = random.randrange(5)\n",
                "    print(\"Wylosowano:\", los)\n",
                "    if los < len(operacje):\n",
                "        return operacje[los]\n",
                "    else:\n",
                "        return lambda x: 0"
            ]
        },
        {
            "cell_type": "code",
            "execution_count": null,
            "id": "d1f0b807-997c-4bae-ac16-c35079ca05ff",
            "metadata": {},
            "outputs": [],
            "source": [
                "# za ka\u017cdym odpaleniem losujemy funkcj\u0119, ale t\u0119 sam\u0105 dla wszystkich liczb z range\n",
                "list(map(losuj_operacj\u0119(), range(10)))"
            ]
        },
        {
            "cell_type": "code",
            "execution_count": null,
            "id": "a44ddacb-da02-4775-861a-7b1d0d25646e",
            "metadata": {},
            "outputs": [],
            "source": [
                "# dla ka\u017cdej liczby z range osobne losowanie operacji\n",
                "list(map(lambda x: operacje[random.randrange(4)](x), range(10)))"
            ]
        },
        {
            "cell_type": "markdown",
            "id": "80df4913-ba8d-48d7-944c-775e3e4aab9a",
            "metadata": {},
            "source": [
                "*Dygresja*: `random.randint(x,y)` to \"jedyna\" funkcja w Pythonie, kt\u00f3ra traktuje przedzia\u0142 liczb ca\u0142kowitych jako obustronnie domkni\u0119ty. Dlatego tu u\u017cyli\u015bmy funkcji `random.randrange`, kt\u00f3ra przyjmuje parametr(y) tak jak `range`."
            ]
        },
        {
            "cell_type": "markdown",
            "id": "c26c8309-0e85-4841-82fb-95edb87d5585",
            "metadata": {},
            "source": [
                "### R\u00f3\u017cne u\u017cyteczne rzeczy w lambdach i nie tylko\n",
                "#### Wyra\u017cenie warunkowe\n",
                "Bardziej u\u017cyteczn\u0105 rzecz\u0105 od losowania funkcji :) jest *wyra\u017cenie warunkowe* (to nie jest to samo, co *instrukcja* warunkowa, kt\u00f3r\u0105 poznali\u015bmy wcze\u015bniej). Wyra\u017cenie warunkowe w Pythonie ma sk\u0142adni\u0119:\n",
                "\n",
                "`<wyra\u017cenie1> if <warunek> else <wyra\u017cenie2>`  \n",
                "\n",
                "co na polski t\u0142umaczyliby\u015bmy `<wyra\u017cenie1>` o ile `<warunek>` wpp `<wyra\u017cenie2>`. \n",
                "\n",
                "W C/C++/Javie by\u0142oby to oczywi\u015bcie `(<warunek> ? <wyra\u017cenie1> : <wyra\u017cenie2>)`. W Pythonie kolejno\u015b\u0107 element\u00f3w jest na pierwszy rzut oka troch\u0119 dziwna, ale ta konstrukcja przewidziana jest na sytuacje, gdy warunek raczej jest spe\u0142niony :) np:"
            ]
        },
        {
            "cell_type": "code",
            "execution_count": null,
            "id": "d6a88b1e-63f3-4ba3-aa0e-d9c032b2c7f3",
            "metadata": {},
            "outputs": [],
            "source": [
                "list(map(lambda x: 'a'*x if x else \"zero!\", range(5)))"
            ]
        },
        {
            "cell_type": "markdown",
            "id": "22dc345c-d99c-483c-9ba6-f4f20004806b",
            "metadata": {},
            "source": [
                "To \"dziwna\" kolejno\u015b\u0107 element\u00f3w wyra\u017cenia warunkowego ma dwie zalety: po pierwsze jest symetryczna (estetyka ;) a po drugie dobrze si\u0119 komponuje sama ze sob\u0105 w przypadku wi\u0119cej ni\u017c jednego warunku:"
            ]
        },
        {
            "cell_type": "code",
            "execution_count": null,
            "id": "4831ecf6-b72d-463a-af61-82feb4c87644",
            "metadata": {},
            "outputs": [],
            "source": [
                "x = 42\n",
                "print(\"ujemna\" if x < 0 else \"zero\" if x == 0 else \"dodatnia\")"
            ]
        },
        {
            "cell_type": "markdown",
            "id": "92e97341-226d-42a4-990a-d0d46deac4be",
            "metadata": {},
            "source": [
                "Oczywi\u015bcie wyra\u017cenie warunkowe wcale nie musi wyst\u0119powa\u0107 w lambdzie. Ale tu jest szczeg\u00f3lnie u\u017cyteczne, bo w \"ciele\" lambdy nie mo\u017ce by\u0107 instrukcji.\n",
                "\n",
                "Oczywi\u015bcie jak si\u0119 bardzo chce, to ka\u017cde ograniczenie mo\u017cna obej\u015b\u0107, cho\u0107by poprzez wywo\u0142anie funkcji. "
            ]
        },
        {
            "cell_type": "markdown",
            "id": "5334ead1-3f9a-4b81-ab3e-1de547f6a695",
            "metadata": {},
            "source": [
                "#### Jak zrobi\u0107 print w lambdzie?\n",
                "Prostym (i cz\u0119sto przydatnym np. do debugowania) sposobem obchodzenia ograniczenia sk\u0142adniowego wyra\u017ce\u0144 lambda jest tworzenie \"tymczasowych\" krotek, np:"
            ]
        },
        {
            "cell_type": "code",
            "execution_count": null,
            "id": "25e37bc0-bbd1-4272-8a6f-8b3e9542d7d8",
            "metadata": {},
            "outputs": [],
            "source": [
                "list(map(lambda x: (print(\"Tu lambda:\", x), x+1)[1], range(5)))"
            ]
        },
        {
            "cell_type": "markdown",
            "id": "c19b706d-c99c-4a3a-9a00-f4927b282baf",
            "metadata": {},
            "source": [
                "W ciele lambdy tworzymy na chwil\u0119 krotk\u0119, kt\u00f3rej elementem o indeksie 0 jest *wynik* funkcji `print` (czyli `None`), a elementem o indeksie 1 jest w\u0142a\u015bciwa warto\u015b\u0107, kt\u00f3r\u0105 wybieramy z krotki jako wynik ca\u0142ej lambdy. Inn\u0105 konstrukcj\u0105 o podobnej funkcji jest np. operator alternatywy: `print(x) or x+1` r\u00f3wnie\u017c spe\u0142ni nasze oczekiwania, poniewa\u017c `None` zwr\u00f3cony przez `print` jest traktowane jak fa\u0142sz, a w tym przypadku warto\u015b\u0107 alternatywy to wprost warto\u015b\u0107 drugiego cz\u0142onu (wcale niekoniecznie `True` lub `False`).\n",
                "\n",
                "Nale\u017cy jednak pami\u0119ta\u0107, \u017ce elementy programowania funkcyjnego, w tym w szczeg\u00f3lno\u015bci lambdy, nie s\u0105 stworzone dla efekt\u00f3w ubocznych, a dla obliczania (nowych) warto\u015bci na podstawie argument\u00f3w. A zatem u\u017cywanie efekt\u00f3w ubocznych w tych elementach to raczej z\u0142y styl programowania."
            ]
        },
        {
            "cell_type": "markdown",
            "id": "3229b9e5-5c58-4f4a-b605-1c5aea2208e1",
            "metadata": {},
            "source": [
                "### \u0106wiczenie 2\n",
                "Wyznacz z pomoc\u0105 `map` reszty z dzielenia przez 17 kwadrat\u00f3w kolejnych liczb naturalnych mniejszych ni\u017c 20. "
            ]
        },
        {
            "cell_type": "markdown",
            "id": "6bab7c9d-e367-47b9-b50b-2333eb122956",
            "metadata": {},
            "source": [
                "## Funkcja filter\n",
                "\n",
                "Drug\u0105 najpopularniejsz\u0105 funkcj\u0105 wy\u017cszego rz\u0119du (czyli funkcj\u0105, kt\u00f3rej parametrem jest funkcja) na listach jest `filter`. S\u0142u\u017cy ona do wybierania z listy element\u00f3w spe\u0142niaj\u0105cych podany predykat, np."
            ]
        },
        {
            "cell_type": "code",
            "execution_count": null,
            "id": "b2e0b284-4b5b-4ccf-8f52-78d642078fdb",
            "metadata": {},
            "outputs": [],
            "source": [
                "def czy_pal(n):\n",
                "    '''Sprawdza czy reprezentacja tekstowa liczby n jest palindromem.'''\n",
                "    s = str(n)\n",
                "    return s == s[::-1]  # nie do ko\u0144ca efektywne, ale kr\u00f3tkie :)\n",
                "\n",
                "lista_liczb = [1, 10, 11, 121, 1000]"
            ]
        },
        {
            "cell_type": "code",
            "execution_count": null,
            "id": "d1307e88-1a95-4a38-9c84-f33320dd9521",
            "metadata": {},
            "outputs": [],
            "source": [
                "list(filter(czy_pal, lista_liczb))"
            ]
        },
        {
            "cell_type": "markdown",
            "id": "933188c2-a9e5-44e2-8b77-44b28b694f9c",
            "metadata": {},
            "source": [
                "Pierwszym argumentem `filter` jest funkcja (nazwana poprzednio predykatem), kt\u00f3ra aplikowana jest do kolejnych element\u00f3w drugiego argumentu - listy (czy czego\u015b podobnego) - i wynikiem s\u0105 tylko te elementy, dla kt\u00f3rych u\u017cyta funkcja daje wynik, kt\u00f3ry Python traktuje jako \"prawda\" (zwykle po prostu `True`). "
            ]
        },
        {
            "cell_type": "markdown",
            "id": "c25a744a-ffe0-464c-8670-fbb26cf186fc",
            "metadata": {},
            "source": [
                "Podobnie jak w przypadku `map`, wynikiem funkcji `filter` jest iterator (dlatego w przyk\u0142adach u\u017cywali\u015bmy `list(filter(...))`. I zn\u00f3w, podobnie jak w przypadku `map`, u\u017cycie funkcji `filter` r\u00f3wnie\u017c mo\u017cna zast\u0105pi\u0107 innymi technikami: "
            ]
        },
        {
            "cell_type": "code",
            "execution_count": null,
            "id": "36b19182-9a3c-4712-be6f-4b95c1660237",
            "metadata": {},
            "outputs": [],
            "source": [
                "# tradycyjnie... prawie 3 linie boilerplate code\n",
                "l = []\n",
                "for n in lista_liczb:\n",
                "    if czy_pal(n):\n",
                "        l.append(n)\n",
                "l"
            ]
        },
        {
            "cell_type": "code",
            "execution_count": null,
            "id": "7377d7a5-1529-48e6-a2a8-58b55306654c",
            "metadata": {},
            "outputs": [],
            "source": [
                "# list comprehension, prawie tak samo zgrabnie jak filter\n",
                "[n for n in lista_liczb if czy_pal(n)]"
            ]
        },
        {
            "cell_type": "markdown",
            "id": "0f511cc3-be62-48de-84fd-d8213d8f6bfa",
            "metadata": {},
            "source": [
                "### \u0106wiczenie 3\n",
                "Wyznacz wszystkie liczby, kt\u00f3re s\u0105 kwadratami liczb naturalnych mniejszych ni\u017c 100 i maj\u0105 w swojej reprezentacji dwie jedynki pod rz\u0105d."
            ]
        },
        {
            "cell_type": "markdown",
            "id": "15ad5e75-0400-4e99-bead-41c705a07bfe",
            "metadata": {},
            "source": [
                "## Po co map i filter?\n",
                "Oczywistym jest, \u017ce bez `map` i `filter` mo\u017cna \u017cy\u0107. W zasadzie list comprehension to takie po\u0142\u0105czenie `map` i `filter` i w dodatku du\u017co os\u00f3b twierdzi, \u017ce list comprehension jest bardziej czytelne, a w wi\u0119kszo\u015bci przypadk\u00f3w r\u00f3wnie\u017c bardziej efektywne. Zalet\u0105 `map` i `filter` jest zwi\u0119z\u0142o\u015b\u0107 (zw\u0142aszcza w przypadku gdy funkcje stosowane jako parametr ju\u017c istniej\u0105) oraz \u0142atwo\u015b\u0107 komponowania.\n",
                "\n",
                "Poeksperymentujmy z nast\u0119puj\u0105cym problemem: podnie\u015bmy do kwadratu wszystkie liczby z jakiego\u015b du\u017cego przedzia\u0142u (np. od 0 do 5 milion\u00f3w), je\u015bli fortuna nam b\u0119dzie sprzyja\u0142a podnie\u015bmy je jeszcze raz do kwadratu, a nast\u0119pnie wybierzmy z tego te liczby, kt\u00f3rych zapis dziesi\u0119tny jest palindromem.\n",
                "\n",
                "Kod ten, zapisany za pomoc\u0105 `map` i `filter` b\u0119dzie wygl\u0105da\u0142 nast\u0119puj\u0105co:"
            ]
        },
        {
            "cell_type": "code",
            "execution_count": null,
            "id": "c3ad4371-0842-4933-a5d5-aaee5fef61f3",
            "metadata": {},
            "outputs": [],
            "source": [
                "l = range(5_000_000)\n",
                "l = map(lambda x: x*x, l)\n",
                "if random.choice([True, False]):\n",
                "  l = map(lambda x: x*x, l)\n",
                "l = filter(czy_pal, l)\n",
                "list(l)"
            ]
        },
        {
            "cell_type": "markdown",
            "id": "14b6b62c-52aa-4ea6-b421-bad2f679f10c",
            "metadata": {},
            "source": [
                "Zauwa\u017cmy, \u017ce ten kod do przedostatniej linijki w\u0142\u0105cznie, wykonuje si\u0119 natychmiastowo. Ca\u0142a praca zwi\u0105zana z przetwarzaniem d\u0142ugiej listy odbywa si\u0119 w ostatniej linii. Ten sam kod z u\u017cyciem list comprehension tworzy\u0142by jedn\u0105 lub dwie po\u015brednie listy pomocnicze (mo\u017cna to zobaczy\u0107 podgl\u0105daj\u0105c intepreter Pythona za pomoc\u0105 polecenia top). Mo\u017cna unikn\u0105\u0107 tworzenia list pomocniczych, u\u017cywaj\u0105c wyra\u017ce\u0144-generator\u00f3w, kt\u00f3re produkuj\u0105 obiekty analogiczne do tych produkowanych przez `map` i `filter`: "
            ]
        },
        {
            "cell_type": "code",
            "execution_count": null,
            "id": "ab01e057-08c4-4f67-839b-a0fa66d3b295",
            "metadata": {},
            "outputs": [],
            "source": [
                "l = range(5_000_000)\n",
                "l = (x*x for x in l)\n",
                "if random.choice([True, False]):\n",
                "  l = (x*x for x in l)\n",
                "[x for x in l if czy_pal(x)]"
            ]
        },
        {
            "cell_type": "markdown",
            "id": "d7682744-6c80-4086-a277-31af7487ac95",
            "metadata": {},
            "source": [
                "W tym kodzie r\u00f3wnie\u017c ca\u0142a praca zostanie wykonana w ostatniej linijce, trudno te\u017c mu cokolwiek zarzuci\u0107, je\u015bli chodzi o przejrzysto\u015b\u0107 i \u0142atwo\u015b\u0107 komponowania. Pomijaj\u0105c losowanie, \"tekstowe\" z\u0142o\u017cenie kilku takich operacji przetwarzaj\u0105cych list\u0119 nieco lepiej wygl\u0105da przy u\u017cyciu list comprehension:"
            ]
        },
        {
            "cell_type": "code",
            "execution_count": null,
            "id": "e065d99a-8c0c-46e0-8c50-381d52194f18",
            "metadata": {},
            "outputs": [],
            "source": [
                "list(filter(czy_pal, map(lambda x: x**4, range(5_000_000))))"
            ]
        },
        {
            "cell_type": "code",
            "execution_count": null,
            "id": "77968a52-3e6c-4f72-b569-f729a8c76f33",
            "metadata": {},
            "outputs": [],
            "source": [
                "[x**4 for x in range(5_000_000) if czy_pal(x**4)]"
            ]
        },
        {
            "cell_type": "markdown",
            "id": "1d071e9c-0470-41d7-be63-dbe05a1b17cc",
            "metadata": {},
            "source": [
                "Trzeba przy tym zaznaczy\u0107, \u017ce byli\u015bmy zmuszeni do dwukrotnego zapisania (i czasem te\u017c obliczenia) wyra\u017cenia `x**4` (cho\u0107 prawd\u0119 m\u00f3wi\u0105c da\u0142oby si\u0119 tego unikn\u0105\u0107, ale z u\u017cyciem konstrukcji, kt\u00f3re s\u0105 ca\u0142kowicie niezgodne z duchem programowania funkcyjnego, kt\u00f3rego fragmenty w\u0142a\u015bnie poznajemy - dlatego to teraz pomijamy :)."
            ]
        },
        {
            "cell_type": "markdown",
            "id": "593c2a2f-9bc1-4b17-899c-c9f68ea391a4",
            "metadata": {},
            "source": [
                "Gdyby zale\u017ca\u0142o nam na poznaniu nie tylko palindromu, ale te\u017c liczby, kt\u00f3rej czwarta pot\u0119ga jest palindromem, modyfikacja w wersji list comprehension jest \u0142atwiejsza, cho\u0107 i w przypadku `map` i `filter` radzimy sobie bez problemu u\u017cywaj\u0105c par."
            ]
        },
        {
            "cell_type": "code",
            "execution_count": null,
            "id": "1cd2601e-bf33-49e4-ac9b-5f191e310170",
            "metadata": {},
            "outputs": [],
            "source": [
                "list(filter(lambda p: czy_pal(p[1]), map(lambda x: (x, x**4), range(5_000_000))))"
            ]
        },
        {
            "cell_type": "code",
            "execution_count": null,
            "id": "c64b6aee-0362-4c9e-8bc8-f302cc172859",
            "metadata": {
                "editable": true,
                "slideshow": {
                    "slide_type": ""
                },
                "tags": []
            },
            "outputs": [],
            "source": [
                "[(x, x**4) for x in range(5_000_000) if czy_pal(x**4)]"
            ]
        },
        {
            "cell_type": "markdown",
            "id": "728e6f3a-6562-4d7f-b229-53db524bbcca",
            "metadata": {},
            "source": [
                "Reasumuj\u0105c, nie wida\u0107 specjalnie przewagi `map` i `filter` nad list comprehension, zw\u0142aszcza je\u015bli pami\u0119tamy, \u017ce w przypadku wielu krok\u00f3w wcale nie musimy generowa\u0107 list po\u015brednich (mo\u017cemy u\u017cywa\u0107 wyra\u017ce\u0144-generator\u00f3w). W dodatku funkcje te uznawane s\u0105 przez niekt\u00f3rych za *niepytoniczne* (ang. unpythonic :)\n",
                "Zainteresowanych odsy\u0142am do do\u015b\u0107 obszernego w\u0105tku na [stackoverflow](https://stackoverflow.com/questions/1247486/list-comprehension-vs-map).\n",
                "\n",
                "Je\u015bli chodzi o efektywno\u015b\u0107, to to jak zwykle zale\u017cy. W skr\u00f3cie, je\u015bli mamy do wykonania jedn\u0105 operacj\u0119 i w wyniku potrzebujemy listy, to lepiej u\u017cywa\u0107 list comprehension, z wyj\u0105tkiem `map(gotowa_funkcja, lista)`. Z kolei u\u017cywanie wyra\u017ce\u0144 generator\u00f3w (a konkretnie generowanie z nich ko\u0144cowych list) jest wyra\u017anie wolniejsze ni\u017c `map` i `filter`. W skr\u00f3cie: warto te funkcje zna\u0107, ale nie ma po co ich zbyt cz\u0119sto u\u017cywa\u0107."
            ]
        },
        {
            "cell_type": "markdown",
            "id": "458ac50b-95db-455f-b563-f669f386b7b2",
            "metadata": {},
            "source": [
                "## Ciekawostki o map, filter i nie tylko"
            ]
        },
        {
            "cell_type": "markdown",
            "id": "4795bc77-9639-4a7a-9bcb-35fd29a85815",
            "metadata": {},
            "source": [
                "* Funkcje `map` i `filter` nie produkuj\u0105 list, tylko iteratory. Trzeba z nimi ostro\u017cnie, bo s\u0105 troch\u0119 podobne do list, co mo\u017ce dawa\u0107 fa\u0142szywe poczucie komfortu, a niekt\u00f3re r\u00f3\u017cnice mog\u0105 by\u0107 zaskakuj\u0105ce:"
            ]
        },
        {
            "cell_type": "code",
            "execution_count": null,
            "id": "ec03f2e0-0b2c-46bd-962f-0069252d564f",
            "metadata": {},
            "outputs": [],
            "source": [
                "l = [x*x for x in range(7)]\n",
                "print(\"Pierwszy raz (:\", *l, \":)\")\n",
                "print(\"Drugi raz    (:\", *l, \":)\")"
            ]
        },
        {
            "cell_type": "code",
            "execution_count": null,
            "id": "8135ea1a-5b2f-4817-92cd-ce2be7e38709",
            "metadata": {},
            "outputs": [],
            "source": [
                "l = map(lambda x: x*x, range(7))\n",
                "print(\"Pierwszy raz (:\", *l, \":)\")\n",
                "print(\"Drugi raz    (:\", *l, \":)\")"
            ]
        },
        {
            "cell_type": "markdown",
            "id": "709699c8-0f09-4c8e-98f0-812286024862",
            "metadata": {},
            "source": [
                "Okazuje si\u0119, \u017ce iterator stworzony przez `map` jest \"jednorazowy\" (jak Streamy w Javie). Mo\u017cna z niego przeczyta\u0107 warto\u015bci w celu utworzenia listy, albo iterowania p\u0119tl\u0105, ale po przeczytaniu wszystkich warto\u015bci \"znikaj\u0105\" one z iteratora. Zauwa\u017cmy, \u017ce to dzia\u0142a podobnie do wczytywania danych z plik\u00f3w wej\u015bciowych (w szczeg\u00f3lno\u015bci ze strumieni takich jak np. standardowe wej\u015bcie).\n",
                "\n",
                "Zalet\u0105 iterator\u00f3w jest to, \u017ce mo\u017cna tanio \"utworzy\u0107\" bardzo d\u0142ugi ci\u0105g, a potem skorzysta\u0107 tylko z takiej cz\u0119\u015bci, jaka jest potrzebna. Niestety, dla iterator\u00f3w nie dzia\u0142a przyjemna sk\u0142adnia do wybierania fragment\u00f3w (slice'\u00f3w) - trzeba u\u017cy\u0107 odpowiedniej funkcji z biblioteki `itertools`."
            ]
        },
        {
            "cell_type": "code",
            "execution_count": null,
            "id": "529b07a4-97fd-41bd-bf26-c9ffa86cc3cc",
            "metadata": {},
            "outputs": [],
            "source": [
                "bardzo_d\u0142ugi_ci\u0105g = map(lambda x: x*x, range(10**100)) # dziesi\u0119\u0107 do setnej :)\n",
                "\n",
                "import itertools\n",
                "list(itertools.islice(bardzo_d\u0142ugi_ci\u0105g,0,10))"
            ]
        },
        {
            "cell_type": "markdown",
            "id": "35513f1c-006b-46de-b1a8-48139740a229",
            "metadata": {},
            "source": [
                "* Je\u015bli chcesz odsia\u0107 \"nieprawdziwe\" elementy z listy za pomoc\u0105 `filter`, zamiast funkcji mo\u017cna poda\u0107 `None`."
            ]
        },
        {
            "cell_type": "code",
            "execution_count": null,
            "id": "dfe7eed0-916b-431a-a2e2-51deb9d5d9de",
            "metadata": {},
            "outputs": [],
            "source": [
                "dziwna_lista = \"ala   ma    kota\".split(\" \")\n",
                "print(dziwna_lista)"
            ]
        },
        {
            "cell_type": "code",
            "execution_count": null,
            "id": "40065436-2a21-4ee8-b5ab-ecc175df64f6",
            "metadata": {},
            "outputs": [],
            "source": [
                "list(filter(lambda x: x, dziwna_lista))"
            ]
        },
        {
            "cell_type": "code",
            "execution_count": null,
            "id": "d8e6f5b8-765f-4c9d-bd15-aad9cf426ef5",
            "metadata": {},
            "outputs": [],
            "source": [
                "list(filter(None, dziwna_lista))"
            ]
        },
        {
            "cell_type": "markdown",
            "id": "8341c6bd-358b-4a10-8435-fa3523cc6c46",
            "metadata": {},
            "source": [
                "* Funkcj\u0119 `map` mo\u017cna u\u017cywa\u0107 r\u00f3wnie\u017c z kilkoma listami i wieloargumentow\u0105 funkcj\u0105:"
            ]
        },
        {
            "cell_type": "code",
            "execution_count": null,
            "id": "4d1b6fcc-8fe3-4621-be25-0f32fe72bda4",
            "metadata": {},
            "outputs": [],
            "source": [
                "list(map(lambda x,y: x+y, [1,2,3], [40,30,20,10]))"
            ]
        },
        {
            "cell_type": "markdown",
            "id": "fd5f6d44-d1b5-4afc-a7b4-740e0be3b854",
            "metadata": {},
            "source": [
                "Ten sam efekt mo\u017cna uzyska\u0107 za pomoc\u0105 nast\u0119puj\u0105cego wyra\u017cenia list comprehension:"
            ]
        },
        {
            "cell_type": "code",
            "execution_count": null,
            "id": "16fdd3c7-29ef-446f-80cb-a322fbe4e91a",
            "metadata": {},
            "outputs": [],
            "source": [
                "[x + y for (x,y) in zip([1,2,3], [40,30,20,10])]"
            ]
        },
        {
            "cell_type": "markdown",
            "id": "439063f4-8d16-4f10-a9c2-77abfac32a24",
            "metadata": {},
            "source": [
                "U\u017cyta powy\u017cej operacja `zip` tworzy iterator par z\u0142o\u017conych z element\u00f3w obu \"list\", dop\u00f3ki jedna z list si\u0119 nie sko\u0144czy."
            ]
        },
        {
            "cell_type": "code",
            "execution_count": null,
            "id": "74653b0d-f2cb-48d1-be61-b381f47c2a57",
            "metadata": {},
            "outputs": [],
            "source": [
                "list(zip(range(10), range(100,50,-10)))"
            ]
        },
        {
            "cell_type": "markdown",
            "id": "7c0cad69-eedf-40d6-b4bb-3e3277833cc7",
            "metadata": {},
            "source": [
                "* Wyra\u017cenie lambda mo\u017ce mie\u0107 zero argument\u00f3w. Do czego to mo\u017ce s\u0142u\u017cy\u0107? Nie do `map` albo `filter`, ale na przyk\u0142ad do podania akcji do wykonania w specyficznych okoliczno\u015bciach."
            ]
        },
        {
            "cell_type": "code",
            "execution_count": null,
            "id": "3a4dca92-fee6-4d39-b76e-adc295d40d35",
            "metadata": {},
            "outputs": [],
            "source": [
                "def r\u00f3b_co\u015b(akcja, w_razie_awarii):\n",
                "    print(\"Akcja! ...\", end=\"\")\n",
                "    if akcja:\n",
                "        print(\"OK.\")\n",
                "    else:\n",
                "        w_razie_awarii()\n",
                "\n",
                "r\u00f3b_co\u015b(akcja = True, w_razie_awarii = lambda : print(\"AWARIA!!!\"))\n",
                "\n",
                "r\u00f3b_co\u015b(akcja = False, w_razie_awarii = lambda : print(\"AWARIA!!!\"))"
            ]
        },
        {
            "cell_type": "markdown",
            "id": "d0e9dd21-5600-41cd-8f8e-63e02526cefc",
            "metadata": {},
            "source": [
                "## Funkcja reduce\n",
                "\n",
                "Kolejn\u0105 wa\u017cn\u0105 funkcj\u0105 wy\u017cszego rz\u0119du na listach jest `reduce`. Nie ma jej w\u015br\u00f3d funkcji dost\u0119pnych \"od razu\", jest w module `functools`."
            ]
        },
        {
            "cell_type": "code",
            "execution_count": null,
            "id": "098d8c64-c273-4833-82eb-59254035b61a",
            "metadata": {
                "editable": true,
                "slideshow": {
                    "slide_type": ""
                },
                "tags": []
            },
            "outputs": [],
            "source": [
                "from functools import reduce\n",
                "reduce(lambda x,y: x*y, [2,10,1,7])"
            ]
        },
        {
            "cell_type": "markdown",
            "id": "ac9e73bf-8b69-453c-8ae9-e6d5b9f5c978",
            "metadata": {},
            "source": [
                "Dzia\u0142anie tej funkcji najlepiej wyobrazi\u0107 sobie w ten spos\u00f3b, \u017ce \"do listy\" zamiast przecink\u00f3w wstawiamy * (tym razem to po prostu mno\u017cenie :) i usuwamy `[` klamerki `]`, a zatem otrzymujemy 2 * 10 * 2 * 7. Oczywi\u015bcie takie t\u0142umaczenie jest dobre tylko dla funkcji \u0142\u0105cznej (czyli takiej, kt\u00f3rej jest wszystko jedno jak wstawimy nawiasy). W przypadku innej funkcji mo\u017cemy si\u0119 przekona\u0107, \u017ce nawiasy wstawione s\u0105 \"bardziej z lewej\"."
            ]
        },
        {
            "cell_type": "code",
            "execution_count": null,
            "id": "f6375f41-3322-4d9f-a0f5-78ec7fbed7b6",
            "metadata": {},
            "outputs": [],
            "source": [
                "reduce(lambda x,y: x-y, [567,100,30,1])"
            ]
        },
        {
            "cell_type": "markdown",
            "id": "08528fa1-4186-42d1-9265-9d63e7df71b1",
            "metadata": {},
            "source": [
                "Wynik to 567-100-30-1, czyli ((567-100)-30)-1. Nazwa `reduce` wzi\u0119\u0142a si\u0119 st\u0105d, \u017ce dokonujemy \"redukcji\" dw\u00f3ch warto\u015bci do jednej - np. poprzez ich pomno\u017cenie lub odj\u0119cie - i post\u0119pujemy tak a\u017c do skutku, czyli a\u017c z ca\u0142ego zestawu zostanie jedna warto\u015b\u0107.\n",
                "\n",
                "Ale funkcji `reduce` mo\u017cna da\u0107 jeszcze jeden parametr - warto\u015b\u0107 startow\u0105."
            ]
        },
        {
            "cell_type": "code",
            "execution_count": null,
            "id": "e4186f99-4ff4-46fa-b708-a7e1a9316eb1",
            "metadata": {},
            "outputs": [],
            "source": [
                "reduce(lambda x,y: x-y, [567,100,30,1], 999)"
            ]
        },
        {
            "cell_type": "markdown",
            "id": "e7b3dcfb-a86e-4e1d-9210-d7c543509cff",
            "metadata": {},
            "source": [
                "Teraz wynik to (((999-567)-100)-30)-1. Przy okazji, jak podamy warto\u015b\u0107 startow\u0105, funkcja ma sensown\u0105 warto\u015b\u0107 (w\u0142a\u015bnie t\u0105 startow\u0105) dla pustej listy.\n",
                "\n",
                "Nic nie stoi te\u017c na przeszkodzie, aby warto\u015b\u0107 pocz\u0105tkowa by\u0142a zupe\u0142nie innego typu ni\u017c elemety listy, oczywi\u015bcie nasza funkcja musi to bra\u0107 pod uwag\u0119."
            ]
        },
        {
            "cell_type": "code",
            "execution_count": null,
            "id": "533f1b05-ca6d-43ad-bc9c-5a979fd9da6c",
            "metadata": {},
            "outputs": [],
            "source": [
                "reduce(lambda s,x: s | {x},  [20,8,8,1,20],  {1000,1001}) "
            ]
        },
        {
            "cell_type": "markdown",
            "id": "798b88e0-0835-421d-823b-1efa66f7a29d",
            "metadata": {},
            "source": [
                "W powy\u017cszym przyk\u0142adzie `|` oznacza operator sumy zbior\u00f3w, a wynik to efekt dodawania wszyskich element\u00f3w listy do pocz\u0105tkowego zbioru. \n",
                "\n",
                "Oczywi\u015bcie ka\u017cde dzia\u0142anie robione za pomoc\u0105 `reduce` mo\u017cna zaprogramowa\u0107 za pomoc\u0105 p\u0119tli po li\u015bcie i zmieniaj\u0105cych si\u0119 warto\u015bci zmiennych, ale - zw\u0142aszcza jak funkcja jest kr\u00f3tka - rozwi\u0105zaniom z `reduce` nie mo\u017cna odm\u00f3wi\u0107 zwi\u0119z\u0142o\u015bci i elegancji :)"
            ]
        },
        {
            "cell_type": "markdown",
            "id": "4feb69ea-a1e8-43ef-b23d-cb0e27e62cde",
            "metadata": {},
            "source": [
                "### \u0106wiczenie 4\n",
                "Napisz funkcj\u0119 `silnia` za pomoc\u0105 `reduce`."
            ]
        },
        {
            "cell_type": "markdown",
            "id": "46b39a03-de55-4234-8ca2-52205afd1cbb",
            "metadata": {},
            "source": [
                "### \u0106wiczenie 5\n",
                "Napisz za pomoc\u0105 `reduce` funkcj\u0119 `sumuj`, kt\u00f3ra dla danej listy liczb oblicza par\u0119, kt\u00f3rej pierwsza wsp\u00f3\u0142rz\u0119dna b\u0119dzie sum\u0105 liczb parzystych z tej listy, a druga sum\u0105 liczb nieparzystych. Mo\u017ce przyda\u0107 si\u0119 tutaj wyra\u017cenie warunkowe (patrz wy\u017cej). Przyk\u0142ady: `sumuj [1,2,3,4,5] = (6,9)`, `sumuj [1,3,5] = (0,9)`"
            ]
        },
        {
            "cell_type": "markdown",
            "id": "19f1130b-a0b0-4bd1-a029-39a47fc7cb8a",
            "metadata": {},
            "source": [
                "## Funkcje opcjonalnie wy\u017cszego rz\u0119du\n",
                "\n",
                "Niekt\u00f3re funkcje dzia\u0142aj\u0105ce na ci\u0105gach, np. `max`, `min`, `sorted`, maj\u0105 opcjonalny parametr `key`, kt\u00f3ry jest funkcj\u0105 \"wyci\u0105gaj\u0105c\u0105\" rzecz do por\u00f3wnania z danego elementu. Tam te\u017c wyra\u017cenie lambda mo\u017ce by\u0107 pomocne. "
            ]
        },
        {
            "cell_type": "code",
            "execution_count": null,
            "id": "9323d3e6-c772-4b82-b97d-ea830a02c815",
            "metadata": {},
            "outputs": [],
            "source": [
                "print(min(lista_napis\u00f3w, key=len))\n",
                "print(sorted(\"Grzegorz Brz\u0119czyszczykiewicz Chrz\u0105szczy\u017cewoszyce powiat \u0141\u0119ko\u0142ody\".split(), \n",
                "             key=lambda s: sum(x.lower() in 'a\u0105e\u0119io\u00f3uy' for x in s)))\n",
                "print(max([(1, 2.5), (5, 0.7), (8, 1.5)], key=lambda p: p[1]))\n"
            ]
        },
        {
            "cell_type": "markdown",
            "id": "6a685706-1158-4dd0-902f-9d82c1fb1c3c",
            "metadata": {},
            "source": [
                "# Zadanie dnia\n",
                "Napisz program wczytuj\u0105cy plik `.ipynb` (tak naprawd\u0119 w formacie json), kt\u00f3rego nazwa zostanie podana jako argument wywo\u0142ania programu. Po wczytaniu nale\u017cy usun\u0105\u0107 policzone warto\u015bci ze wszystkich kom\u00f3rek typu \"code\" (z u\u017cyciem `map`), a tak\u017ce kod z kratek typu \"code\" znajduj\u0105cych si\u0119 bezpo\u015brednio po kratkach typu \"markdown\" zawieraj\u0105cych w pierwszej linii ci\u0105g `# \u0106wiczenie`. Do tego drugiego usuwania u\u017cyj `reduce` z odpowiedni\u0105 struktur\u0105 \"zbieraj\u0105c\u0105\". Po usuni\u0119ciu nale\u017cy zapisa\u0107 ca\u0142o\u015b\u0107 do nowego pliku `.ipynb`. Jego nazw\u0119 utw\u00f3rz poprzez przekszta\u0142cenie nazwy piku wej\u015bciowego, np. `plik.ipynb` -> `plik.czysty.ipynb`. Plik wynikowy powinien da\u0107 si\u0119 otworzy\u0107 w Jupyter Notebook albo Jupyter Lab :)\n",
                "\n",
                "Dla przyk\u0142adowego pliku pliku wej\u015bciowego `plik.ipynb` (zawarto\u015b\u0107 pogl\u0105dowa):\n",
                "```\n",
                "<kratka markdown>\n",
                "   Ten program wypisuje \"A kuku\".\n",
                "<kratka code>\n",
                "   <kod> print(\"A kuku\")\n",
                "   <wyj\u015bcie> A kuku\n",
                "<kratka markdown>\n",
                "   ### \u0106wiczenie 1\n",
                "   Napisz program wypisuj\u0105cy \"Ala ma kota\".\n",
                "<kratka code>\n",
                "   <kod> print(\"Ala ma kota\")\n",
                "   <wyj\u015bcie> Ala ma kota\n",
                "```\n",
                "nale\u017cy utworzy\u0107 plik wyj\u015bciowy `plik.czysty.ipynb` (w porz\u0105dnym formacie!) zawieraj\u0105cy\n",
                "```\n",
                "<kratka markdown>\n",
                "   Ten program wypisuje \"A kuku\".\n",
                "<kratka code>\n",
                "   <kod> print(\"A kuku\")\n",
                "   <wyj\u015bcie>\n",
                "<kratka markdown>\n",
                "   ### \u0106wiczenie 1\n",
                "   Napisz program wypisuj\u0105cy \"Ala ma kota\".\n",
                "<kratka code>\n",
                "   <kod>\n",
                "   <wyj\u015bcie>\n",
                "```\n",
                "Szczeg\u00f3\u0142y specyfikacji zadania nale\u017cy sobie dopracowa\u0107 samemu poprzez inspekcj\u0119 pliku notebooka z dzisiejszych zaj\u0119\u0107 (osobi\u015bcie uzupe\u0142nionego o elementy przeznaczone do usuni\u0119cia)."
            ]
        }
    ],
    "metadata": {
        "kernelspec": {
            "display_name": "Python 3 (ipykernel)",
            "language": "python",
            "name": "python3"
        },
        "language_info": {
            "codemirror_mode": {
                "name": "ipython",
                "version": 3
            },
            "file_extension": ".py",
            "mimetype": "text/x-python",
            "name": "python",
            "nbconvert_exporter": "python",
            "pygments_lexer": "ipython3",
            "version": "3.11.6"
        }
    },
    "nbformat": 4,
    "nbformat_minor": 5
}